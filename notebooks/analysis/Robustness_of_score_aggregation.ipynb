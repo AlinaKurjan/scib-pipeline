{
 "cells": [
  {
   "cell_type": "code",
   "execution_count": 1,
   "metadata": {},
   "outputs": [],
   "source": [
    "import pandas as pd\n",
    "import numpy as np\n",
    "from collections import defaultdict"
   ]
  },
  {
   "cell_type": "code",
   "execution_count": 2,
   "metadata": {},
   "outputs": [
    {
     "name": "stdout",
     "output_type": "stream",
     "text": [
      "/Users/malte.luecken/helmholtz_munich/benchmarking_data_integration/Benchmarking_data_integration/notebooks/analysis\r\n"
     ]
    }
   ],
   "source": [
    "!pwd"
   ]
  },
  {
   "cell_type": "code",
   "execution_count": 8,
   "metadata": {},
   "outputs": [],
   "source": [
    "files = !ls ../../../Paper/Supplementary\\ Files/Results/*.csv"
   ]
  },
  {
   "cell_type": "code",
   "execution_count": 9,
   "metadata": {},
   "outputs": [],
   "source": [
    "data = {file:pd.read_csv(file) for file in files}"
   ]
  },
  {
   "cell_type": "markdown",
   "metadata": {},
   "source": [
    "# Test robustness to other score aggregation approaches (e.g., z-scores)"
   ]
  },
  {
   "cell_type": "code",
   "execution_count": 38,
   "metadata": {},
   "outputs": [],
   "source": [
    "batch_scores = ['PCR batch', 'Batch ASW', 'graph iLISI', 'graph connectivity', 'kBET']\n",
    "bio_scores = ['NMI cluster/label', 'ARI cluster/label', 'Cell type ASW', 'isolated label F1', 'isolated label silhouette', 'graph cLISI', 'CC conservation', 'HVG conservation']"
   ]
  },
  {
   "cell_type": "code",
   "execution_count": 61,
   "metadata": {},
   "outputs": [],
   "source": [
    "def max_min_scale_cols(df):\n",
    "    return((df - df.min())/(df.max() - df.min()))\n",
    "\n",
    "def z_score(df):\n",
    "    return((df - df.mean())/df.std())"
   ]
  },
  {
   "cell_type": "markdown",
   "metadata": {},
   "source": [
    "## For RNA & Sims:"
   ]
  },
  {
   "cell_type": "code",
   "execution_count": 99,
   "metadata": {},
   "outputs": [],
   "source": [
    "def test_ranking(df):\n",
    "    from scipy.stats import spearmanr\n",
    "    \n",
    "    batch_scores = ['PCR batch', 'Batch ASW', 'graph iLISI', 'graph connectivity', 'kBET']\n",
    "    bio_scores = ['NMI cluster/label', 'ARI cluster/label', 'Cell type ASW', 'isolated label F1', 'isolated label silhouette', 'graph cLISI', 'CC conservation', 'HVG conservation', 'trajectory conservation']\n",
    "    \n",
    "    batch_score_sub = [bs for bs in batch_scores if bs in df.columns]\n",
    "    bio_score_sub = [bs for bs in bio_scores if bs in df.columns]\n",
    "    \n",
    "    df['Batch_Correction_zsc'] = z_score(df[batch_score_sub]).mean(1)\n",
    "    df['Bio_conservation_zsc'] = z_score(df[bio_score_sub]).mean(1)\n",
    "    df['Overall_Score_zsc'] = 0.4*df['Batch_Correction_zsc'] + 0.6*df['Bio_conservation_zsc']\n",
    "    \n",
    "    if 'Features' in df.columns:\n",
    "        df['Method_id'] = ['_'.join(df[['Method', 'Output', 'Features', 'Scaling']].values[i]) for i in range(df.shape[0])]\n",
    "    else:\n",
    "        df['Method_id'] = ['_'.join(df[['Method', 'Output']].values[i]) for i in range(df.shape[0])]\n",
    "    \n",
    "    sorted_df = df[['Method_id', 'Overall_Score_zsc', 'Overall Score']].sort_values(by='Overall_Score_zsc', ascending=False)\n",
    "\n",
    "    sorted_df['rank'] = [i for i in range(sorted_df.shape[0])]\n",
    "    \n",
    "    test_statistic = spearmanr(sorted_test['rank'].values, sorted_test.index)[0]\n",
    "    \n",
    "    return (test_statistic, pd.DataFrame({'Method_id':sorted_df['Method_id'], 'rank_zsc':sorted_df['rank'].values, 'rank_init':sorted_df.index}))"
   ]
  },
  {
   "cell_type": "code",
   "execution_count": 93,
   "metadata": {},
   "outputs": [
    {
     "name": "stdout",
     "output_type": "stream",
     "text": [
      "../../../Paper/Supplementary Files/Results/immune_cell_hum_mou_summary_scores.csv\n"
     ]
    },
    {
     "data": {
      "text/plain": [
       "(0.9426633110843636,                           Method_id  rank_zsc  rank_init\n",
       " 4          BBKNN_graph_HVG_unscaled         0          4\n",
       " 0        Scanorama_embed_HVG_scaled         1          0\n",
       " 1       Scanorama_embed_FULL_scaled         2          1\n",
       " 2           scVI_embed_HVG_unscaled         3          2\n",
       " 7             MNN_gene_HVG_unscaled         4          7\n",
       " 3          scVI_embed_FULL_unscaled         5          3\n",
       " 8         Scanorama_gene_HVG_scaled         6          8\n",
       " 5         ComBat_gene_FULL_unscaled         7          5\n",
       " 6               MNN_gene_HVG_scaled         8          6\n",
       " 9            ComBat_gene_HVG_scaled         9          9\n",
       " 12        BBKNN_graph_FULL_unscaled        10         12\n",
       " 10             MNN_gene_FULL_scaled        11         10\n",
       " 11          ComBat_gene_FULL_scaled        12         11\n",
       " 13     Scanorama_embed_HVG_unscaled        13         13\n",
       " 15      Scanorama_gene_HVG_unscaled        14         15\n",
       " 14         ComBat_gene_HVG_unscaled        15         14\n",
       " 19           MNN_gene_FULL_unscaled        16         19\n",
       " 18         Conos_graph_HVG_unscaled        17         18\n",
       " 16    Scanorama_embed_FULL_unscaled        18         16\n",
       " 21       Scanorama_gene_FULL_scaled        19         21\n",
       " 22        Conos_graph_FULL_unscaled        20         22\n",
       " 24           BBKNN_graph_HVG_scaled        21         24\n",
       " 25     Scanorama_gene_FULL_unscaled        22         25\n",
       " 17         Harmony_embed_HVG_scaled        23         17\n",
       " 26          BBKNN_graph_FULL_scaled        24         26\n",
       " 20       Harmony_embed_HVG_unscaled        25         20\n",
       " 23        Harmony_embed_FULL_scaled        26         23\n",
       " 27  Unintegrated_gene_FULL_unscaled        27         27\n",
       " 29          Conos_graph_FULL_scaled        28         29\n",
       " 30           Conos_graph_HVG_scaled        29         30\n",
       " 31      Harmony_embed_FULL_unscaled        30         31\n",
       " 28         LIGER_embed_HVG_unscaled        31         28\n",
       " 32        LIGER_embed_FULL_unscaled        32         32)"
      ]
     },
     "execution_count": 93,
     "metadata": {},
     "output_type": "execute_result"
    },
    {
     "name": "stdout",
     "output_type": "stream",
     "text": [
      "../../../Paper/Supplementary Files/Results/immune_cell_hum_summary_scores.csv\n"
     ]
    },
    {
     "data": {
      "text/plain": [
       "(0.9426633110843636,                           Method_id  rank_zsc  rank_init\n",
       " 0        Scanorama_embed_HVG_scaled         0          0\n",
       " 1          Conos_graph_HVG_unscaled         1          1\n",
       " 2      Scanorama_embed_HVG_unscaled         2          2\n",
       " 3       Scanorama_embed_FULL_scaled         3          3\n",
       " 9               MNN_gene_HVG_scaled         4          9\n",
       " 10            MNN_gene_HVG_unscaled         5         10\n",
       " 7         Conos_graph_FULL_unscaled         6          7\n",
       " 8       Scanorama_gene_HVG_unscaled         7          8\n",
       " 6          BBKNN_graph_HVG_unscaled         8          6\n",
       " 4     Scanorama_embed_FULL_unscaled         9          4\n",
       " 13          Conos_graph_FULL_scaled        10         13\n",
       " 5        Harmony_embed_HVG_unscaled        11          5\n",
       " 18             MNN_gene_FULL_scaled        12         18\n",
       " 16        Scanorama_gene_HVG_scaled        13         16\n",
       " 11          scVI_embed_HVG_unscaled        14         11\n",
       " 12        Harmony_embed_FULL_scaled        15         12\n",
       " 19        ComBat_gene_FULL_unscaled        16         19\n",
       " 20           ComBat_gene_HVG_scaled        17         20\n",
       " 14         scVI_embed_FULL_unscaled        18         14\n",
       " 17        BBKNN_graph_FULL_unscaled        19         17\n",
       " 22         ComBat_gene_HVG_unscaled        20         22\n",
       " 15         Harmony_embed_HVG_scaled        21         15\n",
       " 21     Scanorama_gene_FULL_unscaled        22         21\n",
       " 24          ComBat_gene_FULL_scaled        23         24\n",
       " 23       Scanorama_gene_FULL_scaled        24         23\n",
       " 30           MNN_gene_FULL_unscaled        25         30\n",
       " 25       Seurat v3_gene_FULL_scaled        26         25\n",
       " 28           BBKNN_graph_HVG_scaled        27         28\n",
       " 27          BBKNN_graph_FULL_scaled        28         27\n",
       " 26      Harmony_embed_FULL_unscaled        29         26\n",
       " 29      Seurat v3_gene_HVG_unscaled        30         29\n",
       " 31           Conos_graph_HVG_scaled        31         31\n",
       " 32        trVAE_embed_FULL_unscaled        32         32\n",
       " 33        Seurat v3_gene_HVG_scaled        33         33\n",
       " 34     Seurat v3_gene_FULL_unscaled        34         34\n",
       " 36        LIGER_embed_FULL_unscaled        35         36\n",
       " 35         trVAE_embed_HVG_unscaled        36         35\n",
       " 37  Unintegrated_gene_FULL_unscaled        37         37\n",
       " 38         LIGER_embed_HVG_unscaled        38         38)"
      ]
     },
     "execution_count": 93,
     "metadata": {},
     "output_type": "execute_result"
    },
    {
     "name": "stdout",
     "output_type": "stream",
     "text": [
      "../../../Paper/Supplementary Files/Results/lung_atlas_summary_scores.csv\n"
     ]
    },
    {
     "data": {
      "text/plain": [
       "(0.9426633110843636,                           Method_id  rank_zsc  rank_init\n",
       " 1          BBKNN_graph_HVG_unscaled         0          1\n",
       " 0         Conos_graph_FULL_unscaled         1          0\n",
       " 3          Conos_graph_HVG_unscaled         2          3\n",
       " 2        Scanorama_embed_HVG_scaled         3          2\n",
       " 7         BBKNN_graph_FULL_unscaled         4          7\n",
       " 4       Scanorama_embed_FULL_scaled         5          4\n",
       " 9             MNN_gene_HVG_unscaled         6          9\n",
       " 5      Scanorama_embed_HVG_unscaled         7          5\n",
       " 10              MNN_gene_HVG_scaled         8         10\n",
       " 6          scVI_embed_FULL_unscaled         9          6\n",
       " 13         ComBat_gene_HVG_unscaled        10         13\n",
       " 22           BBKNN_graph_HVG_scaled        11         22\n",
       " 8           scVI_embed_HVG_unscaled        12          8\n",
       " 12     Seurat v3_gene_FULL_unscaled        13         12\n",
       " 15      Seurat v3_gene_HVG_unscaled        14         15\n",
       " 18      Scanorama_gene_HVG_unscaled        15         18\n",
       " 17        Scanorama_gene_HVG_scaled        16         17\n",
       " 20        ComBat_gene_FULL_unscaled        17         20\n",
       " 23           MNN_gene_FULL_unscaled        18         23\n",
       " 24          BBKNN_graph_FULL_scaled        19         24\n",
       " 16          Conos_graph_FULL_scaled        20         16\n",
       " 11      Harmony_embed_FULL_unscaled        21         11\n",
       " 14         trVAE_embed_HVG_unscaled        22         14\n",
       " 26           ComBat_gene_HVG_scaled        23         26\n",
       " 19       Harmony_embed_HVG_unscaled        24         19\n",
       " 21    Scanorama_embed_FULL_unscaled        25         21\n",
       " 29          ComBat_gene_FULL_scaled        26         29\n",
       " 30             MNN_gene_FULL_scaled        27         30\n",
       " 25         Harmony_embed_HVG_scaled        28         25\n",
       " 27        Harmony_embed_FULL_scaled        29         27\n",
       " 28        trVAE_embed_FULL_unscaled        30         28\n",
       " 32  Unintegrated_gene_FULL_unscaled        31         32\n",
       " 31       Scanorama_gene_FULL_scaled        32         31\n",
       " 33     Scanorama_gene_FULL_unscaled        33         33\n",
       " 34           Conos_graph_HVG_scaled        34         34\n",
       " 35        Seurat v3_gene_HVG_scaled        35         35\n",
       " 36        LIGER_embed_FULL_unscaled        36         36\n",
       " 37         LIGER_embed_HVG_unscaled        37         37)"
      ]
     },
     "execution_count": 93,
     "metadata": {},
     "output_type": "execute_result"
    },
    {
     "name": "stdout",
     "output_type": "stream",
     "text": [
      "../../../Paper/Supplementary Files/Results/mouse_brain_summary_scores.csv\n"
     ]
    },
    {
     "data": {
      "text/plain": [
       "(0.9426633110843636,                           Method_id  rank_zsc  rank_init\n",
       " 0          BBKNN_graph_HVG_unscaled         0          0\n",
       " 1         BBKNN_graph_FULL_unscaled         1          1\n",
       " 2            BBKNN_graph_HVG_scaled         2          2\n",
       " 3           BBKNN_graph_FULL_scaled         3          3\n",
       " 4          ComBat_gene_HVG_unscaled         4          4\n",
       " 5           scVI_embed_HVG_unscaled         5          5\n",
       " 6            ComBat_gene_HVG_scaled         6          6\n",
       " 7        Scanorama_embed_HVG_scaled         7          7\n",
       " 12      Scanorama_gene_HVG_unscaled         8         12\n",
       " 8         Scanorama_gene_HVG_scaled         9          8\n",
       " 10         Harmony_embed_HVG_scaled        10         10\n",
       " 9          scVI_embed_FULL_unscaled        11          9\n",
       " 15     Scanorama_embed_HVG_unscaled        12         15\n",
       " 14       Harmony_embed_HVG_unscaled        13         14\n",
       " 11         LIGER_embed_HVG_unscaled        14         11\n",
       " 13         Conos_graph_HVG_unscaled        15         13\n",
       " 17      Harmony_embed_FULL_unscaled        16         17\n",
       " 16        Conos_graph_FULL_unscaled        17         16\n",
       " 18    Scanorama_embed_FULL_unscaled        18         18\n",
       " 19     Scanorama_gene_FULL_unscaled        19         19\n",
       " 20  Unintegrated_gene_FULL_unscaled        20         20)"
      ]
     },
     "execution_count": 93,
     "metadata": {},
     "output_type": "execute_result"
    },
    {
     "name": "stdout",
     "output_type": "stream",
     "text": [
      "../../../Paper/Supplementary Files/Results/pancreas_jointnorm_summary_scores.csv\n"
     ]
    },
    {
     "data": {
      "text/plain": [
       "(0.9426633110843636,                           Method_id  rank_zsc  rank_init\n",
       " 2           Conos_graph_FULL_scaled         0          2\n",
       " 3         Seurat v3_gene_HVG_scaled         1          3\n",
       " 4            Conos_graph_HVG_scaled         2          4\n",
       " 1       Seurat v3_gene_HVG_unscaled         3          1\n",
       " 0          BBKNN_graph_HVG_unscaled         4          0\n",
       " 5      Seurat v3_gene_FULL_unscaled         5          5\n",
       " 10        Scanorama_gene_HVG_scaled         6         10\n",
       " 6        Scanorama_embed_HVG_scaled         7          6\n",
       " 8        Seurat v3_gene_FULL_scaled         8          8\n",
       " 7         BBKNN_graph_FULL_unscaled         9          7\n",
       " 12        Conos_graph_FULL_unscaled        10         12\n",
       " 19           ComBat_gene_HVG_scaled        11         19\n",
       " 16         Conos_graph_HVG_unscaled        12         16\n",
       " 14      Scanorama_embed_FULL_scaled        13         14\n",
       " 9         Harmony_embed_FULL_scaled        14          9\n",
       " 11         Harmony_embed_HVG_scaled        15         11\n",
       " 13       Harmony_embed_HVG_unscaled        16         13\n",
       " 15          scVI_embed_HVG_unscaled        17         15\n",
       " 18     Scanorama_embed_HVG_unscaled        18         18\n",
       " 23          ComBat_gene_FULL_scaled        19         23\n",
       " 22      Scanorama_gene_HVG_unscaled        20         22\n",
       " 24         ComBat_gene_HVG_unscaled        21         24\n",
       " 25              MNN_gene_HVG_scaled        22         25\n",
       " 17           BBKNN_graph_HVG_scaled        23         17\n",
       " 27            MNN_gene_HVG_unscaled        24         27\n",
       " 21      Harmony_embed_FULL_unscaled        25         21\n",
       " 29             MNN_gene_FULL_scaled        26         29\n",
       " 20          BBKNN_graph_FULL_scaled        27         20\n",
       " 30        ComBat_gene_FULL_unscaled        28         30\n",
       " 26    Scanorama_embed_FULL_unscaled        29         26\n",
       " 28         trVAE_embed_HVG_unscaled        30         28\n",
       " 31         scVI_embed_FULL_unscaled        31         31\n",
       " 32        trVAE_embed_FULL_unscaled        32         32\n",
       " 33       Scanorama_gene_FULL_scaled        33         33\n",
       " 34           MNN_gene_FULL_unscaled        34         34\n",
       " 35     Scanorama_gene_FULL_unscaled        35         35\n",
       " 36  Unintegrated_gene_FULL_unscaled        36         36\n",
       " 37         LIGER_embed_HVG_unscaled        37         37\n",
       " 38        LIGER_embed_FULL_unscaled        38         38)"
      ]
     },
     "execution_count": 93,
     "metadata": {},
     "output_type": "execute_result"
    },
    {
     "name": "stdout",
     "output_type": "stream",
     "text": [
      "../../../Paper/Supplementary Files/Results/simulations_1_1_summary_scores.csv\n"
     ]
    },
    {
     "data": {
      "text/plain": [
       "(0.9426633110843636,                           Method_id  rank_zsc  rank_init\n",
       " 2             MNN_gene_HVG_unscaled         0          2\n",
       " 3      Seurat v3_gene_FULL_unscaled         1          3\n",
       " 6       Scanorama_gene_HVG_unscaled         2          6\n",
       " 4       Scanorama_embed_FULL_scaled         3          4\n",
       " 0      Scanorama_embed_HVG_unscaled         4          0\n",
       " 1     Scanorama_embed_FULL_unscaled         5          1\n",
       " 5        Scanorama_embed_HVG_scaled         6          5\n",
       " 8       Seurat v3_gene_HVG_unscaled         7          8\n",
       " 7           Conos_graph_FULL_scaled         8          7\n",
       " 9         Scanorama_gene_HVG_scaled         9          9\n",
       " 11              MNN_gene_HVG_scaled        10         11\n",
       " 14        ComBat_gene_FULL_unscaled        11         14\n",
       " 13             MNN_gene_FULL_scaled        12         13\n",
       " 15         ComBat_gene_HVG_unscaled        13         15\n",
       " 18           ComBat_gene_HVG_scaled        14         18\n",
       " 12        Seurat v3_gene_HVG_scaled        15         12\n",
       " 16       Seurat v3_gene_FULL_scaled        16         16\n",
       " 17       Scanorama_gene_FULL_scaled        17         17\n",
       " 21          ComBat_gene_FULL_scaled        18         21\n",
       " 10      Harmony_embed_FULL_unscaled        19         10\n",
       " 19        Harmony_embed_FULL_scaled        20         19\n",
       " 20       Harmony_embed_HVG_unscaled        21         20\n",
       " 25     Scanorama_gene_FULL_unscaled        22         25\n",
       " 22         Harmony_embed_HVG_scaled        23         22\n",
       " 24          scVI_embed_HVG_unscaled        24         24\n",
       " 26           Conos_graph_HVG_scaled        25         26\n",
       " 23        LIGER_embed_FULL_unscaled        26         23\n",
       " 28        BBKNN_graph_FULL_unscaled        27         28\n",
       " 27        trVAE_embed_FULL_unscaled        28         27\n",
       " 29        Conos_graph_FULL_unscaled        29         29\n",
       " 32         Conos_graph_HVG_unscaled        30         32\n",
       " 30         BBKNN_graph_HVG_unscaled        31         30\n",
       " 31         LIGER_embed_HVG_unscaled        32         31\n",
       " 33         scVI_embed_FULL_unscaled        33         33\n",
       " 35           MNN_gene_FULL_unscaled        34         35\n",
       " 34           BBKNN_graph_HVG_scaled        35         34\n",
       " 36         trVAE_embed_HVG_unscaled        36         36\n",
       " 37          BBKNN_graph_FULL_scaled        37         37\n",
       " 38  Unintegrated_gene_FULL_unscaled        38         38)"
      ]
     },
     "execution_count": 93,
     "metadata": {},
     "output_type": "execute_result"
    },
    {
     "name": "stdout",
     "output_type": "stream",
     "text": [
      "../../../Paper/Supplementary Files/Results/simulations_2_summary_scores.csv\n"
     ]
    },
    {
     "data": {
      "text/plain": [
       "(0.9426633110843636,                           Method_id  rank_zsc  rank_init\n",
       " 0         Seurat v3_gene_HVG_scaled         0          0\n",
       " 1       Seurat v3_gene_HVG_unscaled         1          1\n",
       " 2          Harmony_embed_HVG_scaled         2          2\n",
       " 3           Conos_graph_FULL_scaled         3          3\n",
       " 4        Harmony_embed_HVG_unscaled         4          4\n",
       " 5         Harmony_embed_FULL_scaled         5          5\n",
       " 6        Seurat v3_gene_FULL_scaled         6          6\n",
       " 7      Seurat v3_gene_FULL_unscaled         7          7\n",
       " 8            Conos_graph_HVG_scaled         8          8\n",
       " 10       Scanorama_embed_HVG_scaled         9         10\n",
       " 9          Conos_graph_HVG_unscaled        10          9\n",
       " 15        Scanorama_gene_HVG_scaled        11         15\n",
       " 12        BBKNN_graph_FULL_unscaled        12         12\n",
       " 11         BBKNN_graph_HVG_unscaled        13         11\n",
       " 18            MNN_gene_HVG_unscaled        14         18\n",
       " 14          BBKNN_graph_FULL_scaled        15         14\n",
       " 13        Conos_graph_FULL_unscaled        16         13\n",
       " 20         ComBat_gene_HVG_unscaled        17         20\n",
       " 22              MNN_gene_HVG_scaled        18         22\n",
       " 16           BBKNN_graph_HVG_scaled        19         16\n",
       " 23      Scanorama_embed_FULL_scaled        20         23\n",
       " 17         trVAE_embed_HVG_unscaled        21         17\n",
       " 19        trVAE_embed_FULL_unscaled        22         19\n",
       " 21        LIGER_embed_FULL_unscaled        23         21\n",
       " 26      Scanorama_gene_HVG_unscaled        24         26\n",
       " 27           ComBat_gene_HVG_scaled        25         27\n",
       " 24    Scanorama_embed_FULL_unscaled        26         24\n",
       " 25     Scanorama_embed_HVG_unscaled        27         25\n",
       " 32             MNN_gene_FULL_scaled        28         32\n",
       " 33        ComBat_gene_FULL_unscaled        29         33\n",
       " 30     Scanorama_gene_FULL_unscaled        30         30\n",
       " 31           MNN_gene_FULL_unscaled        31         31\n",
       " 35          ComBat_gene_FULL_scaled        32         35\n",
       " 29         LIGER_embed_HVG_unscaled        33         29\n",
       " 34       Scanorama_gene_FULL_scaled        34         34\n",
       " 28         scVI_embed_FULL_unscaled        35         28\n",
       " 38  Unintegrated_gene_FULL_unscaled        36         38\n",
       " 36      Harmony_embed_FULL_unscaled        37         36\n",
       " 37          scVI_embed_HVG_unscaled        38         37)"
      ]
     },
     "execution_count": 93,
     "metadata": {},
     "output_type": "execute_result"
    }
   ],
   "source": [
    "for file in data.keys():\n",
    "    print(f'{file}')\n",
    "    test_ranking(data[file])"
   ]
  },
  {
   "cell_type": "markdown",
   "metadata": {},
   "source": [
    "## For ATAC:"
   ]
  },
  {
   "cell_type": "code",
   "execution_count": 95,
   "metadata": {},
   "outputs": [],
   "source": [
    "files = !ls ../../../Paper/Supplementary\\ Files/Results/ATAC/*.csv\n",
    "\n",
    "data_atac = {file:pd.read_csv(file) for file in files}"
   ]
  },
  {
   "cell_type": "code",
   "execution_count": 100,
   "metadata": {},
   "outputs": [
    {
     "name": "stdout",
     "output_type": "stream",
     "text": [
      "../../../Paper/Supplementary Files/Results/ATAC/mouse_brain_atac_large_3datasets_summary_scores.csv\n"
     ]
    },
    {
     "data": {
      "text/plain": [
       "(0.9426633110843636,            Method_id  rank_zsc  rank_init\n",
       " 1     Seurat v3_gene         0          1\n",
       " 0      Harmony_embed         1          0\n",
       " 2        ComBat_gene         2          2\n",
       " 3         scVI_embed         3          3\n",
       " 4  Unintegrated_gene         4          4\n",
       " 5        BBKNN_graph         5          5\n",
       " 6    Scanorama_embed         6          6\n",
       " 7     Scanorama_gene         7          7\n",
       " 8        Conos_graph         8          8)"
      ]
     },
     "execution_count": 100,
     "metadata": {},
     "output_type": "execute_result"
    },
    {
     "name": "stdout",
     "output_type": "stream",
     "text": [
      "../../../Paper/Supplementary Files/Results/ATAC/mouse_brain_atac_small_3datasets_summary_scores.csv\n"
     ]
    },
    {
     "data": {
      "text/plain": [
       "(0.9426633110843636,             Method_id  rank_zsc  rank_init\n",
       " 0       Harmony_embed         0          0\n",
       " 1         ComBat_gene         1          1\n",
       " 2          scVI_embed         2          2\n",
       " 3      Seurat v3_gene         3          3\n",
       " 4   Unintegrated_gene         4          4\n",
       " 5         LIGER_embed         5          5\n",
       " 6     Scanorama_embed         6          6\n",
       " 7      Scanorama_gene         7          7\n",
       " 10        BBKNN_graph         8         10\n",
       " 9         Conos_graph         9          9\n",
       " 8         trVAE_embed        10          8)"
      ]
     },
     "execution_count": 100,
     "metadata": {},
     "output_type": "execute_result"
    }
   ],
   "source": [
    "for file in data_atac.keys():\n",
    "    print(f'{file}')\n",
    "    test_ranking(data_atac[file])"
   ]
  },
  {
   "cell_type": "code",
   "execution_count": null,
   "metadata": {},
   "outputs": [],
   "source": []
  }
 ],
 "metadata": {
  "kernelspec": {
   "display_name": "Python 3",
   "language": "python",
   "name": "python3"
  },
  "language_info": {
   "codemirror_mode": {
    "name": "ipython",
    "version": 3
   },
   "file_extension": ".py",
   "mimetype": "text/x-python",
   "name": "python",
   "nbconvert_exporter": "python",
   "pygments_lexer": "ipython3",
   "version": "3.7.6"
  }
 },
 "nbformat": 4,
 "nbformat_minor": 2
}
