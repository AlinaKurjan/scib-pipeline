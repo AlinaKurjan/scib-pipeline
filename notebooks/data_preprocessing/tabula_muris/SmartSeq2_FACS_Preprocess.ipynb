{
 "cells": [
  {
   "cell_type": "code",
   "execution_count": 1,
   "metadata": {},
   "outputs": [],
   "source": [
    "import scanpy as sc\n",
    "import numpy as np\n",
    "import pandas as pd\n",
    "import re\n",
    "import scIB\n",
    "import seaborn as sns\n",
    "import matplotlib.pyplot as plt\n",
    "import glob"
   ]
  },
  {
   "cell_type": "code",
   "execution_count": 2,
   "metadata": {},
   "outputs": [],
   "source": [
    "raw_data_dir = \"/storage/groups/ml01/projects/2019_Masterpraktikum_Daniela/TM/\"\n",
    "data_dir = \"/storage/groups/ml01/workspace/group.daniela/tm/\""
   ]
  },
  {
   "cell_type": "code",
   "execution_count": 3,
   "metadata": {},
   "outputs": [
    {
     "data": {
      "text/plain": [
       "11"
      ]
     },
     "execution_count": 3,
     "metadata": {},
     "output_type": "execute_result"
    }
   ],
   "source": [
    "relevant_tissues = {'Bladder', 'Brain', 'Kidney', 'Liver', 'Lung', 'Mammary_Gland',\n",
    " 'Marrow', 'Limb_Muscle', 'Pancreas', 'Spleen', 'Thymus'}\n",
    "len(relevant_tissues)"
   ]
  },
  {
   "cell_type": "code",
   "execution_count": 6,
   "metadata": {},
   "outputs": [],
   "source": [
    "facs_dirs = glob.glob(raw_data_dir+\"smartseq2/FACS/*\")\n",
    "filtered_dirs = [i for i in facs_dirs if any(substr in i for substr in relevant_tissues)]"
   ]
  },
  {
   "cell_type": "code",
   "execution_count": 7,
   "metadata": {},
   "outputs": [
    {
     "data": {
      "text/plain": [
       "['/storage/groups/ml01/projects/2019_Masterpraktikum_Daniela/TM/smartseq2/FACS/Pancreas-counts.csv',\n",
       " '/storage/groups/ml01/projects/2019_Masterpraktikum_Daniela/TM/smartseq2/FACS/Limb_Muscle-counts.csv',\n",
       " '/storage/groups/ml01/projects/2019_Masterpraktikum_Daniela/TM/smartseq2/FACS/Bladder-counts.csv',\n",
       " '/storage/groups/ml01/projects/2019_Masterpraktikum_Daniela/TM/smartseq2/FACS/Kidney-counts.csv',\n",
       " '/storage/groups/ml01/projects/2019_Masterpraktikum_Daniela/TM/smartseq2/FACS/Liver-counts.csv',\n",
       " '/storage/groups/ml01/projects/2019_Masterpraktikum_Daniela/TM/smartseq2/FACS/Thymus-counts.csv',\n",
       " '/storage/groups/ml01/projects/2019_Masterpraktikum_Daniela/TM/smartseq2/FACS/Marrow-counts.csv',\n",
       " '/storage/groups/ml01/projects/2019_Masterpraktikum_Daniela/TM/smartseq2/FACS/Spleen-counts.csv',\n",
       " '/storage/groups/ml01/projects/2019_Masterpraktikum_Daniela/TM/smartseq2/FACS/Mammary_Gland-counts.csv',\n",
       " '/storage/groups/ml01/projects/2019_Masterpraktikum_Daniela/TM/smartseq2/FACS/Brain_Myeloid-counts.csv',\n",
       " '/storage/groups/ml01/projects/2019_Masterpraktikum_Daniela/TM/smartseq2/FACS/Brain_Non-Myeloid-counts.csv',\n",
       " '/storage/groups/ml01/projects/2019_Masterpraktikum_Daniela/TM/smartseq2/FACS/Lung-counts.csv']"
      ]
     },
     "execution_count": 7,
     "metadata": {},
     "output_type": "execute_result"
    }
   ],
   "source": [
    "filtered_dirs"
   ]
  },
  {
   "cell_type": "code",
   "execution_count": null,
   "metadata": {},
   "outputs": [],
   "source": []
  }
 ],
 "metadata": {
  "kernelspec": {
   "display_name": "Python 3",
   "language": "python",
   "name": "python3"
  },
  "language_info": {
   "codemirror_mode": {
    "name": "ipython",
    "version": 3
   },
   "file_extension": ".py",
   "mimetype": "text/x-python",
   "name": "python",
   "nbconvert_exporter": "python",
   "pygments_lexer": "ipython3",
   "version": "3.7.3"
  }
 },
 "nbformat": 4,
 "nbformat_minor": 4
}
