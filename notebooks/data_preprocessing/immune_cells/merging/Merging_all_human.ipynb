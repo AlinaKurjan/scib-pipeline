{
 "cells": [
  {
   "cell_type": "markdown",
   "metadata": {},
   "source": [
    "# Merging all human datasets: PBMCs + Bone Marrow"
   ]
  },
  {
   "cell_type": "code",
   "execution_count": 2,
   "metadata": {},
   "outputs": [],
   "source": [
    "import scanpy as sc\n",
    "import numpy as np\n",
    "import scipy as sp\n",
    "import pandas as pd\n",
    "import matplotlib.pyplot as plt\n",
    "from matplotlib import rcParams\n",
    "from matplotlib import colors\n",
    "import seaborn as sb\n",
    "import glob\n",
    "\n",
    "import rpy2.rinterface_lib.callbacks\n",
    "import logging\n",
    "\n",
    "from rpy2.robjects import pandas2ri\n",
    "import anndata2ri"
   ]
  },
  {
   "cell_type": "code",
   "execution_count": 3,
   "metadata": {},
   "outputs": [
    {
     "name": "stdout",
     "output_type": "stream",
     "text": [
      "scanpy==1.4.4+40.gbd5f862 anndata==0.6.22.post1 umap==0.3.9 numpy==1.15.4 scipy==1.3.0 pandas==0.24.2 scikit-learn==0.21.2 statsmodels==0.10.1 python-igraph==0.7.1 louvain==0.6.1\n"
     ]
    }
   ],
   "source": [
    "# Ignore R warning messages\n",
    "#Note: this can be commented out to get more verbose R output\n",
    "rpy2.rinterface_lib.callbacks.logger.setLevel(logging.ERROR)\n",
    "\n",
    "# Automatically convert rpy2 outputs to pandas dataframes\n",
    "pandas2ri.activate()\n",
    "anndata2ri.activate()\n",
    "%load_ext rpy2.ipython\n",
    "\n",
    "plt.rcParams['figure.figsize']=(8,8) #rescale figures\n",
    "sc.settings.verbosity = 3\n",
    "#sc.set_figure_params(dpi=200, dpi_save=300)\n",
    "sc.logging.print_versions()\n",
    "\n",
    "results_file = './write/Immune_ALL_human.h5ad'"
   ]
  },
  {
   "cell_type": "code",
   "execution_count": 5,
   "metadata": {},
   "outputs": [
    {
     "name": "stdout",
     "output_type": "stream",
     "text": [
      "./write/Oetjen_hum_BM_pp.h5ad\n",
      "./write/Freytag_hum_PBMCs_pp.h5ad\n",
      "./write/10X_hum_PBMCs_pp.h5ad\n",
      "./write/Sun_hum_PBMCs_pp.h5ad\n",
      "./write/Villani_hum_PBMCs_pp.h5ad\n"
     ]
    }
   ],
   "source": [
    "file_paths = './write/'\n",
    "adatas_pp = []\n",
    "for i in glob.glob(file_paths+'*.h5ad'):\n",
    "    print(i)\n",
    "    adatas_pp.append(sc.read(i, cache=True)) "
   ]
  },
  {
   "cell_type": "code",
   "execution_count": 9,
   "metadata": {},
   "outputs": [
    {
     "name": "stdout",
     "output_type": "stream",
     "text": [
      "(9581, 22946)\n",
      "(3347, 24576)\n",
      "(10727, 22966)\n",
      "(8829, 20390)\n",
      "(1022, 22321)\n"
     ]
    }
   ],
   "source": [
    "for i in range(len(adatas_pp)):\n",
    "    print(adatas_pp[i].shape)"
   ]
  },
  {
   "cell_type": "code",
   "execution_count": 12,
   "metadata": {},
   "outputs": [
    {
     "name": "stderr",
     "output_type": "stream",
     "text": [
      "layers are inconsistent - only layers that are shared among all AnnData objects are included.\n"
     ]
    }
   ],
   "source": [
    "# Concatenate to unique adata object\n",
    "adata_pp = adatas_pp[0].concatenate(adatas_pp[1:], batch_key='sample_ID',\n",
    "                                                        index_unique=None)"
   ]
  },
  {
   "cell_type": "code",
   "execution_count": 13,
   "metadata": {},
   "outputs": [
    {
     "data": {
      "text/html": [
       "<div>\n",
       "<style scoped>\n",
       "    .dataframe tbody tr th:only-of-type {\n",
       "        vertical-align: middle;\n",
       "    }\n",
       "\n",
       "    .dataframe tbody tr th {\n",
       "        vertical-align: top;\n",
       "    }\n",
       "\n",
       "    .dataframe thead th {\n",
       "        text-align: right;\n",
       "    }\n",
       "</style>\n",
       "<table border=\"1\" class=\"dataframe\">\n",
       "  <thead>\n",
       "    <tr style=\"text-align: right;\">\n",
       "      <th></th>\n",
       "      <th>gene_id-0</th>\n",
       "      <th>n_cells-0</th>\n",
       "      <th>gene_ids-1</th>\n",
       "      <th>n_cells-1</th>\n",
       "      <th>gene_ids-2</th>\n",
       "      <th>feature_types-2</th>\n",
       "      <th>n_cells-2</th>\n",
       "      <th>gene_id-3</th>\n",
       "      <th>n_cells-3</th>\n",
       "      <th>n_cells-4</th>\n",
       "    </tr>\n",
       "  </thead>\n",
       "  <tbody>\n",
       "    <tr>\n",
       "      <th>LINC00115</th>\n",
       "      <td>ENSG00000225880</td>\n",
       "      <td>192</td>\n",
       "      <td>ENSG00000225880</td>\n",
       "      <td>18</td>\n",
       "      <td>ENSG00000225880</td>\n",
       "      <td>Gene Expression</td>\n",
       "      <td>338</td>\n",
       "      <td>ENSG00000225880</td>\n",
       "      <td>101</td>\n",
       "      <td>52</td>\n",
       "    </tr>\n",
       "    <tr>\n",
       "      <th>FAM41C</th>\n",
       "      <td>ENSG00000230368</td>\n",
       "      <td>524</td>\n",
       "      <td>ENSG00000230368</td>\n",
       "      <td>8</td>\n",
       "      <td>ENSG00000230368</td>\n",
       "      <td>Gene Expression</td>\n",
       "      <td>307</td>\n",
       "      <td>ENSG00000230368</td>\n",
       "      <td>240</td>\n",
       "      <td>44</td>\n",
       "    </tr>\n",
       "    <tr>\n",
       "      <th>SAMD11</th>\n",
       "      <td>ENSG00000187634</td>\n",
       "      <td>17</td>\n",
       "      <td>ENSG00000187634</td>\n",
       "      <td>1</td>\n",
       "      <td>ENSG00000187634</td>\n",
       "      <td>Gene Expression</td>\n",
       "      <td>9</td>\n",
       "      <td>ENSG00000187634</td>\n",
       "      <td>11</td>\n",
       "      <td>45</td>\n",
       "    </tr>\n",
       "    <tr>\n",
       "      <th>NOC2L</th>\n",
       "      <td>ENSG00000188976</td>\n",
       "      <td>1739</td>\n",
       "      <td>ENSG00000188976</td>\n",
       "      <td>396</td>\n",
       "      <td>ENSG00000188976</td>\n",
       "      <td>Gene Expression</td>\n",
       "      <td>2554</td>\n",
       "      <td>ENSG00000188976</td>\n",
       "      <td>1283</td>\n",
       "      <td>653</td>\n",
       "    </tr>\n",
       "    <tr>\n",
       "      <th>KLHL17</th>\n",
       "      <td>ENSG00000187961</td>\n",
       "      <td>52</td>\n",
       "      <td>ENSG00000187961</td>\n",
       "      <td>10</td>\n",
       "      <td>ENSG00000187961</td>\n",
       "      <td>Gene Expression</td>\n",
       "      <td>251</td>\n",
       "      <td>ENSG00000187961</td>\n",
       "      <td>30</td>\n",
       "      <td>24</td>\n",
       "    </tr>\n",
       "  </tbody>\n",
       "</table>\n",
       "</div>"
      ],
      "text/plain": [
       "                 gene_id-0  n_cells-0       gene_ids-1  n_cells-1  \\\n",
       "LINC00115  ENSG00000225880        192  ENSG00000225880         18   \n",
       "FAM41C     ENSG00000230368        524  ENSG00000230368          8   \n",
       "SAMD11     ENSG00000187634         17  ENSG00000187634          1   \n",
       "NOC2L      ENSG00000188976       1739  ENSG00000188976        396   \n",
       "KLHL17     ENSG00000187961         52  ENSG00000187961         10   \n",
       "\n",
       "                gene_ids-2  feature_types-2  n_cells-2        gene_id-3  \\\n",
       "LINC00115  ENSG00000225880  Gene Expression        338  ENSG00000225880   \n",
       "FAM41C     ENSG00000230368  Gene Expression        307  ENSG00000230368   \n",
       "SAMD11     ENSG00000187634  Gene Expression          9  ENSG00000187634   \n",
       "NOC2L      ENSG00000188976  Gene Expression       2554  ENSG00000188976   \n",
       "KLHL17     ENSG00000187961  Gene Expression        251  ENSG00000187961   \n",
       "\n",
       "           n_cells-3  n_cells-4  \n",
       "LINC00115        101         52  \n",
       "FAM41C           240         44  \n",
       "SAMD11            11         45  \n",
       "NOC2L           1283        653  \n",
       "KLHL17            30         24  "
      ]
     },
     "execution_count": 13,
     "metadata": {},
     "output_type": "execute_result"
    }
   ],
   "source": [
    "adata_pp.var.head()"
   ]
  },
  {
   "cell_type": "code",
   "execution_count": 14,
   "metadata": {},
   "outputs": [
    {
     "data": {
      "text/html": [
       "<div>\n",
       "<style scoped>\n",
       "    .dataframe tbody tr th:only-of-type {\n",
       "        vertical-align: middle;\n",
       "    }\n",
       "\n",
       "    .dataframe tbody tr th {\n",
       "        vertical-align: top;\n",
       "    }\n",
       "\n",
       "    .dataframe thead th {\n",
       "        text-align: right;\n",
       "    }\n",
       "</style>\n",
       "<table border=\"1\" class=\"dataframe\">\n",
       "  <thead>\n",
       "    <tr style=\"text-align: right;\">\n",
       "      <th></th>\n",
       "      <th>batch</th>\n",
       "      <th>chemistry</th>\n",
       "      <th>data_type</th>\n",
       "      <th>dpt_pseudotime</th>\n",
       "      <th>final_annotation</th>\n",
       "      <th>mt_frac</th>\n",
       "      <th>n_counts</th>\n",
       "      <th>n_genes</th>\n",
       "      <th>sample_ID</th>\n",
       "      <th>size_factors</th>\n",
       "      <th>species</th>\n",
       "      <th>study</th>\n",
       "      <th>tissue</th>\n",
       "    </tr>\n",
       "    <tr>\n",
       "      <th>index</th>\n",
       "      <th></th>\n",
       "      <th></th>\n",
       "      <th></th>\n",
       "      <th></th>\n",
       "      <th></th>\n",
       "      <th></th>\n",
       "      <th></th>\n",
       "      <th></th>\n",
       "      <th></th>\n",
       "      <th></th>\n",
       "      <th></th>\n",
       "      <th></th>\n",
       "      <th></th>\n",
       "    </tr>\n",
       "  </thead>\n",
       "  <tbody>\n",
       "    <tr>\n",
       "      <th>AAACCTGCAGCGAACA-1-Oetjen_A</th>\n",
       "      <td>Oetjen_A</td>\n",
       "      <td>v2_10X</td>\n",
       "      <td>UMI</td>\n",
       "      <td>NaN</td>\n",
       "      <td>CD16+ Monocytes</td>\n",
       "      <td>0.047970</td>\n",
       "      <td>6379.0</td>\n",
       "      <td>1862.0</td>\n",
       "      <td>0</td>\n",
       "      <td>0.957719</td>\n",
       "      <td>Human</td>\n",
       "      <td>Oetjen</td>\n",
       "      <td>Bone_Marrow</td>\n",
       "    </tr>\n",
       "    <tr>\n",
       "      <th>AAACCTGCATGTCCTC-1-Oetjen_A</th>\n",
       "      <td>Oetjen_A</td>\n",
       "      <td>v2_10X</td>\n",
       "      <td>UMI</td>\n",
       "      <td>NaN</td>\n",
       "      <td>CD4+ T cells</td>\n",
       "      <td>0.024928</td>\n",
       "      <td>4172.0</td>\n",
       "      <td>1082.0</td>\n",
       "      <td>0</td>\n",
       "      <td>0.425532</td>\n",
       "      <td>Human</td>\n",
       "      <td>Oetjen</td>\n",
       "      <td>Bone_Marrow</td>\n",
       "    </tr>\n",
       "    <tr>\n",
       "      <th>AAACCTGGTCGACTGC-1-Oetjen_A</th>\n",
       "      <td>Oetjen_A</td>\n",
       "      <td>v2_10X</td>\n",
       "      <td>UMI</td>\n",
       "      <td>NaN</td>\n",
       "      <td>CD14+ Monocytes</td>\n",
       "      <td>0.051907</td>\n",
       "      <td>6608.0</td>\n",
       "      <td>1618.0</td>\n",
       "      <td>0</td>\n",
       "      <td>0.773111</td>\n",
       "      <td>Human</td>\n",
       "      <td>Oetjen</td>\n",
       "      <td>Bone_Marrow</td>\n",
       "    </tr>\n",
       "    <tr>\n",
       "      <th>AAACCTGGTCGCTTCT-1-Oetjen_A</th>\n",
       "      <td>Oetjen_A</td>\n",
       "      <td>v2_10X</td>\n",
       "      <td>UMI</td>\n",
       "      <td>NaN</td>\n",
       "      <td>CD14+ Monocytes</td>\n",
       "      <td>0.041716</td>\n",
       "      <td>5034.0</td>\n",
       "      <td>1413.0</td>\n",
       "      <td>0</td>\n",
       "      <td>0.641188</td>\n",
       "      <td>Human</td>\n",
       "      <td>Oetjen</td>\n",
       "      <td>Bone_Marrow</td>\n",
       "    </tr>\n",
       "    <tr>\n",
       "      <th>AAACCTGTCCCGACTT-1-Oetjen_A</th>\n",
       "      <td>Oetjen_A</td>\n",
       "      <td>v2_10X</td>\n",
       "      <td>UMI</td>\n",
       "      <td>NaN</td>\n",
       "      <td>NKT cells</td>\n",
       "      <td>0.043522</td>\n",
       "      <td>3998.0</td>\n",
       "      <td>1127.0</td>\n",
       "      <td>0</td>\n",
       "      <td>0.452426</td>\n",
       "      <td>Human</td>\n",
       "      <td>Oetjen</td>\n",
       "      <td>Bone_Marrow</td>\n",
       "    </tr>\n",
       "  </tbody>\n",
       "</table>\n",
       "</div>"
      ],
      "text/plain": [
       "                                batch chemistry data_type  dpt_pseudotime  \\\n",
       "index                                                                       \n",
       "AAACCTGCAGCGAACA-1-Oetjen_A  Oetjen_A    v2_10X       UMI             NaN   \n",
       "AAACCTGCATGTCCTC-1-Oetjen_A  Oetjen_A    v2_10X       UMI             NaN   \n",
       "AAACCTGGTCGACTGC-1-Oetjen_A  Oetjen_A    v2_10X       UMI             NaN   \n",
       "AAACCTGGTCGCTTCT-1-Oetjen_A  Oetjen_A    v2_10X       UMI             NaN   \n",
       "AAACCTGTCCCGACTT-1-Oetjen_A  Oetjen_A    v2_10X       UMI             NaN   \n",
       "\n",
       "                            final_annotation   mt_frac  n_counts  n_genes  \\\n",
       "index                                                                       \n",
       "AAACCTGCAGCGAACA-1-Oetjen_A  CD16+ Monocytes  0.047970    6379.0   1862.0   \n",
       "AAACCTGCATGTCCTC-1-Oetjen_A     CD4+ T cells  0.024928    4172.0   1082.0   \n",
       "AAACCTGGTCGACTGC-1-Oetjen_A  CD14+ Monocytes  0.051907    6608.0   1618.0   \n",
       "AAACCTGGTCGCTTCT-1-Oetjen_A  CD14+ Monocytes  0.041716    5034.0   1413.0   \n",
       "AAACCTGTCCCGACTT-1-Oetjen_A        NKT cells  0.043522    3998.0   1127.0   \n",
       "\n",
       "                            sample_ID  size_factors species   study  \\\n",
       "index                                                                 \n",
       "AAACCTGCAGCGAACA-1-Oetjen_A         0      0.957719   Human  Oetjen   \n",
       "AAACCTGCATGTCCTC-1-Oetjen_A         0      0.425532   Human  Oetjen   \n",
       "AAACCTGGTCGACTGC-1-Oetjen_A         0      0.773111   Human  Oetjen   \n",
       "AAACCTGGTCGCTTCT-1-Oetjen_A         0      0.641188   Human  Oetjen   \n",
       "AAACCTGTCCCGACTT-1-Oetjen_A         0      0.452426   Human  Oetjen   \n",
       "\n",
       "                                  tissue  \n",
       "index                                     \n",
       "AAACCTGCAGCGAACA-1-Oetjen_A  Bone_Marrow  \n",
       "AAACCTGCATGTCCTC-1-Oetjen_A  Bone_Marrow  \n",
       "AAACCTGGTCGACTGC-1-Oetjen_A  Bone_Marrow  \n",
       "AAACCTGGTCGCTTCT-1-Oetjen_A  Bone_Marrow  \n",
       "AAACCTGTCCCGACTT-1-Oetjen_A  Bone_Marrow  "
      ]
     },
     "execution_count": 14,
     "metadata": {},
     "output_type": "execute_result"
    }
   ],
   "source": [
    "adata_pp.obs.head()"
   ]
  },
  {
   "cell_type": "code",
   "execution_count": 15,
   "metadata": {},
   "outputs": [
    {
     "data": {
      "text/plain": [
       "(33506, 12303)"
      ]
     },
     "execution_count": 15,
     "metadata": {},
     "output_type": "execute_result"
    }
   ],
   "source": [
    "adata_pp.shape"
   ]
  },
  {
   "cell_type": "code",
   "execution_count": 16,
   "metadata": {},
   "outputs": [
    {
     "name": "stderr",
     "output_type": "stream",
     "text": [
      "... storing 'batch' as categorical\n",
      "... storing 'chemistry' as categorical\n",
      "... storing 'data_type' as categorical\n",
      "... storing 'final_annotation' as categorical\n",
      "... storing 'study' as categorical\n",
      "... storing 'tissue' as categorical\n",
      "... storing 'feature_types-2' as categorical\n"
     ]
    }
   ],
   "source": [
    "adata_pp.write(results_file)"
   ]
  }
 ],
 "metadata": {
  "kernelspec": {
   "display_name": "Python 3",
   "language": "python",
   "name": "python3"
  },
  "language_info": {
   "codemirror_mode": {
    "name": "ipython",
    "version": 3
   },
   "file_extension": ".py",
   "mimetype": "text/x-python",
   "name": "python",
   "nbconvert_exporter": "python",
   "pygments_lexer": "ipython3",
   "version": "3.7.1"
  }
 },
 "nbformat": 4,
 "nbformat_minor": 2
}
