{
 "cells": [
  {
   "cell_type": "markdown",
   "metadata": {},
   "source": [
    "# Mouse Bone Marrow - merging annotated samples from MCA"
   ]
  },
  {
   "cell_type": "code",
   "execution_count": 1,
   "metadata": {},
   "outputs": [],
   "source": [
    "import scanpy as sc\n",
    "import numpy as np\n",
    "import scipy as sp\n",
    "import pandas as pd\n",
    "import matplotlib.pyplot as plt\n",
    "from matplotlib import rcParams\n",
    "from matplotlib import colors\n",
    "import seaborn as sb\n",
    "import glob\n",
    "\n",
    "import rpy2.rinterface_lib.callbacks\n",
    "import logging\n",
    "\n",
    "from rpy2.robjects import pandas2ri\n",
    "import anndata2ri"
   ]
  },
  {
   "cell_type": "code",
   "execution_count": 2,
   "metadata": {},
   "outputs": [
    {
     "name": "stdout",
     "output_type": "stream",
     "text": [
      "scanpy==1.4.4+40.gbd5f862 anndata==0.6.22.post1 umap==0.3.9 numpy==1.15.4 scipy==1.3.0 pandas==0.24.2 scikit-learn==0.21.2 statsmodels==0.10.1 python-igraph==0.7.1 louvain==0.6.1\n"
     ]
    }
   ],
   "source": [
    "# Ignore R warning messages\n",
    "#Note: this can be commented out to get more verbose R output\n",
    "rpy2.rinterface_lib.callbacks.logger.setLevel(logging.ERROR)\n",
    "\n",
    "# Automatically convert rpy2 outputs to pandas dataframes\n",
    "pandas2ri.activate()\n",
    "anndata2ri.activate()\n",
    "%load_ext rpy2.ipython\n",
    "\n",
    "plt.rcParams['figure.figsize']=(8,8) #rescale figures\n",
    "sc.settings.verbosity = 3\n",
    "#sc.set_figure_params(dpi=200, dpi_save=300)\n",
    "sc.logging.print_versions()\n",
    "\n",
    "results_file = './write/MCA_mou_BM_pp.h5ad'"
   ]
  },
  {
   "cell_type": "code",
   "execution_count": 3,
   "metadata": {},
   "outputs": [],
   "source": [
    "%%R\n",
    "# Load all the R libraries we will be using in the notebook\n",
    "library(scran)"
   ]
  },
  {
   "cell_type": "markdown",
   "metadata": {},
   "source": [
    "## Load \n",
    "Here we load the pre-processed datasets (which has been annotated), and the raw matrices (which won't be filtered on the gene level). "
   ]
  },
  {
   "cell_type": "markdown",
   "metadata": {},
   "source": [
    "### Raw data"
   ]
  },
  {
   "cell_type": "code",
   "execution_count": 4,
   "metadata": {},
   "outputs": [
    {
     "name": "stdout",
     "output_type": "stream",
     "text": [
      "../../Munich/datasets/mouse/MCA_boneMarrow/ckit/BoneMarrowcKit1_dge.txt.gz\n",
      "... reading from cache file cache/..-..-Munich-datasets-mouse-MCA_boneMarrow-ckit-BoneMarrowcKit1_dge.h5ad\n",
      "../../Munich/datasets/mouse/MCA_boneMarrow/ckit/BoneMarrowcKit3_dge.txt.gz\n",
      "... reading from cache file cache/..-..-Munich-datasets-mouse-MCA_boneMarrow-ckit-BoneMarrowcKit3_dge.h5ad\n",
      "../../Munich/datasets/mouse/MCA_boneMarrow/ckit/BoneMarrowcKit2_dge.txt.gz\n",
      "... reading from cache file cache/..-..-Munich-datasets-mouse-MCA_boneMarrow-ckit-BoneMarrowcKit2_dge.h5ad\n"
     ]
    }
   ],
   "source": [
    "file_paths = '../../Munich/datasets/mouse/MCA_boneMarrow/ckit/'\n",
    "adatas_raw = []\n",
    "for i in glob.glob(file_paths+'*.txt.gz'):\n",
    "    print(i)\n",
    "    adatas_raw.append(sc.read(i, cache=True)) "
   ]
  },
  {
   "cell_type": "code",
   "execution_count": 5,
   "metadata": {},
   "outputs": [],
   "source": [
    "samples = ['BM_1', 'BM_3', 'BM_2']\n",
    "# Loop to annotate data\n",
    "for i in range(len(adatas_raw)):\n",
    "    adata_tmp = adatas_raw[i]\n",
    "    adata_tmp = adata_tmp.transpose()\n",
    "    \n",
    "    #Annotate data\n",
    "    adata_tmp.obs.index.rename('barcode', inplace=True)\n",
    "    adata_tmp.obs['batch'] = ['MCA_'+samples[i]]*adata_tmp.n_obs\n",
    "    adata_tmp.obs['study'] = ['MCA_BM']*adata_tmp.n_obs\n",
    "    adata_tmp.obs['chemistry'] = ['microwell-seq']*adata_tmp.n_obs\n",
    "    adata_tmp.obs['tissue'] = ['Bone_Marrow']*adata_tmp.n_obs\n",
    "    adata_tmp.obs['species'] = ['Mouse']*adata_tmp.n_obs\n",
    "    adata_tmp.obs['data_type'] = ['UMI']*adata_tmp.n_obs\n",
    "\n",
    "    adata_tmp.var.index.names = ['gene_symbol']\n",
    "    adata_tmp.var_names_make_unique()\n",
    "    adatas_raw[i] = adata_tmp\n"
   ]
  },
  {
   "cell_type": "code",
   "execution_count": 6,
   "metadata": {},
   "outputs": [
    {
     "data": {
      "text/html": [
       "<div>\n",
       "<style scoped>\n",
       "    .dataframe tbody tr th:only-of-type {\n",
       "        vertical-align: middle;\n",
       "    }\n",
       "\n",
       "    .dataframe tbody tr th {\n",
       "        vertical-align: top;\n",
       "    }\n",
       "\n",
       "    .dataframe thead th {\n",
       "        text-align: right;\n",
       "    }\n",
       "</style>\n",
       "<table border=\"1\" class=\"dataframe\">\n",
       "  <thead>\n",
       "    <tr style=\"text-align: right;\">\n",
       "      <th></th>\n",
       "      <th>batch</th>\n",
       "      <th>study</th>\n",
       "      <th>chemistry</th>\n",
       "      <th>tissue</th>\n",
       "      <th>species</th>\n",
       "      <th>data_type</th>\n",
       "    </tr>\n",
       "    <tr>\n",
       "      <th>barcode</th>\n",
       "      <th></th>\n",
       "      <th></th>\n",
       "      <th></th>\n",
       "      <th></th>\n",
       "      <th></th>\n",
       "      <th></th>\n",
       "    </tr>\n",
       "  </thead>\n",
       "  <tbody>\n",
       "    <tr>\n",
       "      <th>BoneMarrowcKit_1.ACAATAGCGAATCTCGCA</th>\n",
       "      <td>MCA_BM_1</td>\n",
       "      <td>MCA_BM</td>\n",
       "      <td>microwell-seq</td>\n",
       "      <td>Bone_Marrow</td>\n",
       "      <td>Mouse</td>\n",
       "      <td>UMI</td>\n",
       "    </tr>\n",
       "    <tr>\n",
       "      <th>BoneMarrowcKit_1.CGAGTAGGGTTTGTAATG</th>\n",
       "      <td>MCA_BM_1</td>\n",
       "      <td>MCA_BM</td>\n",
       "      <td>microwell-seq</td>\n",
       "      <td>Bone_Marrow</td>\n",
       "      <td>Mouse</td>\n",
       "      <td>UMI</td>\n",
       "    </tr>\n",
       "    <tr>\n",
       "      <th>BoneMarrowcKit_1.CCATCTTCAAAGAGGGTC</th>\n",
       "      <td>MCA_BM_1</td>\n",
       "      <td>MCA_BM</td>\n",
       "      <td>microwell-seq</td>\n",
       "      <td>Bone_Marrow</td>\n",
       "      <td>Mouse</td>\n",
       "      <td>UMI</td>\n",
       "    </tr>\n",
       "    <tr>\n",
       "      <th>BoneMarrowcKit_1.TGCGGACCATCTATTTGC</th>\n",
       "      <td>MCA_BM_1</td>\n",
       "      <td>MCA_BM</td>\n",
       "      <td>microwell-seq</td>\n",
       "      <td>Bone_Marrow</td>\n",
       "      <td>Mouse</td>\n",
       "      <td>UMI</td>\n",
       "    </tr>\n",
       "    <tr>\n",
       "      <th>BoneMarrowcKit_1.CTCGCAATGCTTACAATA</th>\n",
       "      <td>MCA_BM_1</td>\n",
       "      <td>MCA_BM</td>\n",
       "      <td>microwell-seq</td>\n",
       "      <td>Bone_Marrow</td>\n",
       "      <td>Mouse</td>\n",
       "      <td>UMI</td>\n",
       "    </tr>\n",
       "  </tbody>\n",
       "</table>\n",
       "</div>"
      ],
      "text/plain": [
       "                                        batch   study      chemistry  \\\n",
       "barcode                                                                \n",
       "BoneMarrowcKit_1.ACAATAGCGAATCTCGCA  MCA_BM_1  MCA_BM  microwell-seq   \n",
       "BoneMarrowcKit_1.CGAGTAGGGTTTGTAATG  MCA_BM_1  MCA_BM  microwell-seq   \n",
       "BoneMarrowcKit_1.CCATCTTCAAAGAGGGTC  MCA_BM_1  MCA_BM  microwell-seq   \n",
       "BoneMarrowcKit_1.TGCGGACCATCTATTTGC  MCA_BM_1  MCA_BM  microwell-seq   \n",
       "BoneMarrowcKit_1.CTCGCAATGCTTACAATA  MCA_BM_1  MCA_BM  microwell-seq   \n",
       "\n",
       "                                          tissue species data_type  \n",
       "barcode                                                             \n",
       "BoneMarrowcKit_1.ACAATAGCGAATCTCGCA  Bone_Marrow   Mouse       UMI  \n",
       "BoneMarrowcKit_1.CGAGTAGGGTTTGTAATG  Bone_Marrow   Mouse       UMI  \n",
       "BoneMarrowcKit_1.CCATCTTCAAAGAGGGTC  Bone_Marrow   Mouse       UMI  \n",
       "BoneMarrowcKit_1.TGCGGACCATCTATTTGC  Bone_Marrow   Mouse       UMI  \n",
       "BoneMarrowcKit_1.CTCGCAATGCTTACAATA  Bone_Marrow   Mouse       UMI  "
      ]
     },
     "execution_count": 6,
     "metadata": {},
     "output_type": "execute_result"
    }
   ],
   "source": [
    "adatas_raw[0].obs.head()"
   ]
  },
  {
   "cell_type": "code",
   "execution_count": 7,
   "metadata": {},
   "outputs": [],
   "source": [
    "# Concatenate to unique adata object\n",
    "adata_raw = adatas_raw[0].concatenate(adatas_raw[1:], batch_key='sample_ID', index_unique=None)"
   ]
  },
  {
   "cell_type": "code",
   "execution_count": 8,
   "metadata": {},
   "outputs": [
    {
     "data": {
      "text/html": [
       "<div>\n",
       "<style scoped>\n",
       "    .dataframe tbody tr th:only-of-type {\n",
       "        vertical-align: middle;\n",
       "    }\n",
       "\n",
       "    .dataframe tbody tr th {\n",
       "        vertical-align: top;\n",
       "    }\n",
       "\n",
       "    .dataframe thead th {\n",
       "        text-align: right;\n",
       "    }\n",
       "</style>\n",
       "<table border=\"1\" class=\"dataframe\">\n",
       "  <thead>\n",
       "    <tr style=\"text-align: right;\">\n",
       "      <th></th>\n",
       "      <th>batch</th>\n",
       "      <th>chemistry</th>\n",
       "      <th>data_type</th>\n",
       "      <th>sample_ID</th>\n",
       "      <th>species</th>\n",
       "      <th>study</th>\n",
       "      <th>tissue</th>\n",
       "    </tr>\n",
       "    <tr>\n",
       "      <th>barcode</th>\n",
       "      <th></th>\n",
       "      <th></th>\n",
       "      <th></th>\n",
       "      <th></th>\n",
       "      <th></th>\n",
       "      <th></th>\n",
       "      <th></th>\n",
       "    </tr>\n",
       "  </thead>\n",
       "  <tbody>\n",
       "    <tr>\n",
       "      <th>BoneMarrowcKit_1.ACAATAGCGAATCTCGCA</th>\n",
       "      <td>MCA_BM_1</td>\n",
       "      <td>microwell-seq</td>\n",
       "      <td>UMI</td>\n",
       "      <td>0</td>\n",
       "      <td>Mouse</td>\n",
       "      <td>MCA_BM</td>\n",
       "      <td>Bone_Marrow</td>\n",
       "    </tr>\n",
       "    <tr>\n",
       "      <th>BoneMarrowcKit_1.CGAGTAGGGTTTGTAATG</th>\n",
       "      <td>MCA_BM_1</td>\n",
       "      <td>microwell-seq</td>\n",
       "      <td>UMI</td>\n",
       "      <td>0</td>\n",
       "      <td>Mouse</td>\n",
       "      <td>MCA_BM</td>\n",
       "      <td>Bone_Marrow</td>\n",
       "    </tr>\n",
       "    <tr>\n",
       "      <th>BoneMarrowcKit_1.CCATCTTCAAAGAGGGTC</th>\n",
       "      <td>MCA_BM_1</td>\n",
       "      <td>microwell-seq</td>\n",
       "      <td>UMI</td>\n",
       "      <td>0</td>\n",
       "      <td>Mouse</td>\n",
       "      <td>MCA_BM</td>\n",
       "      <td>Bone_Marrow</td>\n",
       "    </tr>\n",
       "    <tr>\n",
       "      <th>BoneMarrowcKit_1.TGCGGACCATCTATTTGC</th>\n",
       "      <td>MCA_BM_1</td>\n",
       "      <td>microwell-seq</td>\n",
       "      <td>UMI</td>\n",
       "      <td>0</td>\n",
       "      <td>Mouse</td>\n",
       "      <td>MCA_BM</td>\n",
       "      <td>Bone_Marrow</td>\n",
       "    </tr>\n",
       "    <tr>\n",
       "      <th>BoneMarrowcKit_1.CTCGCAATGCTTACAATA</th>\n",
       "      <td>MCA_BM_1</td>\n",
       "      <td>microwell-seq</td>\n",
       "      <td>UMI</td>\n",
       "      <td>0</td>\n",
       "      <td>Mouse</td>\n",
       "      <td>MCA_BM</td>\n",
       "      <td>Bone_Marrow</td>\n",
       "    </tr>\n",
       "  </tbody>\n",
       "</table>\n",
       "</div>"
      ],
      "text/plain": [
       "                                        batch      chemistry data_type  \\\n",
       "barcode                                                                  \n",
       "BoneMarrowcKit_1.ACAATAGCGAATCTCGCA  MCA_BM_1  microwell-seq       UMI   \n",
       "BoneMarrowcKit_1.CGAGTAGGGTTTGTAATG  MCA_BM_1  microwell-seq       UMI   \n",
       "BoneMarrowcKit_1.CCATCTTCAAAGAGGGTC  MCA_BM_1  microwell-seq       UMI   \n",
       "BoneMarrowcKit_1.TGCGGACCATCTATTTGC  MCA_BM_1  microwell-seq       UMI   \n",
       "BoneMarrowcKit_1.CTCGCAATGCTTACAATA  MCA_BM_1  microwell-seq       UMI   \n",
       "\n",
       "                                    sample_ID species   study       tissue  \n",
       "barcode                                                                     \n",
       "BoneMarrowcKit_1.ACAATAGCGAATCTCGCA         0   Mouse  MCA_BM  Bone_Marrow  \n",
       "BoneMarrowcKit_1.CGAGTAGGGTTTGTAATG         0   Mouse  MCA_BM  Bone_Marrow  \n",
       "BoneMarrowcKit_1.CCATCTTCAAAGAGGGTC         0   Mouse  MCA_BM  Bone_Marrow  \n",
       "BoneMarrowcKit_1.TGCGGACCATCTATTTGC         0   Mouse  MCA_BM  Bone_Marrow  \n",
       "BoneMarrowcKit_1.CTCGCAATGCTTACAATA         0   Mouse  MCA_BM  Bone_Marrow  "
      ]
     },
     "execution_count": 8,
     "metadata": {},
     "output_type": "execute_result"
    }
   ],
   "source": [
    "adata_raw.obs.head()"
   ]
  },
  {
   "cell_type": "code",
   "execution_count": 9,
   "metadata": {},
   "outputs": [
    {
     "data": {
      "text/html": [
       "<div>\n",
       "<style scoped>\n",
       "    .dataframe tbody tr th:only-of-type {\n",
       "        vertical-align: middle;\n",
       "    }\n",
       "\n",
       "    .dataframe tbody tr th {\n",
       "        vertical-align: top;\n",
       "    }\n",
       "\n",
       "    .dataframe thead th {\n",
       "        text-align: right;\n",
       "    }\n",
       "</style>\n",
       "<table border=\"1\" class=\"dataframe\">\n",
       "  <thead>\n",
       "    <tr style=\"text-align: right;\">\n",
       "      <th></th>\n",
       "      <th>batch</th>\n",
       "      <th>chemistry</th>\n",
       "      <th>data_type</th>\n",
       "      <th>species</th>\n",
       "      <th>study</th>\n",
       "      <th>tissue</th>\n",
       "    </tr>\n",
       "    <tr>\n",
       "      <th>barcode</th>\n",
       "      <th></th>\n",
       "      <th></th>\n",
       "      <th></th>\n",
       "      <th></th>\n",
       "      <th></th>\n",
       "      <th></th>\n",
       "    </tr>\n",
       "  </thead>\n",
       "  <tbody>\n",
       "    <tr>\n",
       "      <th>BoneMarrowcKit_1.ACAATAGCGAATCTCGCA</th>\n",
       "      <td>MCA_BM_1</td>\n",
       "      <td>microwell-seq</td>\n",
       "      <td>UMI</td>\n",
       "      <td>Mouse</td>\n",
       "      <td>MCA_BM</td>\n",
       "      <td>Bone_Marrow</td>\n",
       "    </tr>\n",
       "    <tr>\n",
       "      <th>BoneMarrowcKit_1.CGAGTAGGGTTTGTAATG</th>\n",
       "      <td>MCA_BM_1</td>\n",
       "      <td>microwell-seq</td>\n",
       "      <td>UMI</td>\n",
       "      <td>Mouse</td>\n",
       "      <td>MCA_BM</td>\n",
       "      <td>Bone_Marrow</td>\n",
       "    </tr>\n",
       "    <tr>\n",
       "      <th>BoneMarrowcKit_1.CCATCTTCAAAGAGGGTC</th>\n",
       "      <td>MCA_BM_1</td>\n",
       "      <td>microwell-seq</td>\n",
       "      <td>UMI</td>\n",
       "      <td>Mouse</td>\n",
       "      <td>MCA_BM</td>\n",
       "      <td>Bone_Marrow</td>\n",
       "    </tr>\n",
       "    <tr>\n",
       "      <th>BoneMarrowcKit_1.TGCGGACCATCTATTTGC</th>\n",
       "      <td>MCA_BM_1</td>\n",
       "      <td>microwell-seq</td>\n",
       "      <td>UMI</td>\n",
       "      <td>Mouse</td>\n",
       "      <td>MCA_BM</td>\n",
       "      <td>Bone_Marrow</td>\n",
       "    </tr>\n",
       "    <tr>\n",
       "      <th>BoneMarrowcKit_1.CTCGCAATGCTTACAATA</th>\n",
       "      <td>MCA_BM_1</td>\n",
       "      <td>microwell-seq</td>\n",
       "      <td>UMI</td>\n",
       "      <td>Mouse</td>\n",
       "      <td>MCA_BM</td>\n",
       "      <td>Bone_Marrow</td>\n",
       "    </tr>\n",
       "  </tbody>\n",
       "</table>\n",
       "</div>"
      ],
      "text/plain": [
       "                                        batch      chemistry data_type  \\\n",
       "barcode                                                                  \n",
       "BoneMarrowcKit_1.ACAATAGCGAATCTCGCA  MCA_BM_1  microwell-seq       UMI   \n",
       "BoneMarrowcKit_1.CGAGTAGGGTTTGTAATG  MCA_BM_1  microwell-seq       UMI   \n",
       "BoneMarrowcKit_1.CCATCTTCAAAGAGGGTC  MCA_BM_1  microwell-seq       UMI   \n",
       "BoneMarrowcKit_1.TGCGGACCATCTATTTGC  MCA_BM_1  microwell-seq       UMI   \n",
       "BoneMarrowcKit_1.CTCGCAATGCTTACAATA  MCA_BM_1  microwell-seq       UMI   \n",
       "\n",
       "                                    species   study       tissue  \n",
       "barcode                                                           \n",
       "BoneMarrowcKit_1.ACAATAGCGAATCTCGCA   Mouse  MCA_BM  Bone_Marrow  \n",
       "BoneMarrowcKit_1.CGAGTAGGGTTTGTAATG   Mouse  MCA_BM  Bone_Marrow  \n",
       "BoneMarrowcKit_1.CCATCTTCAAAGAGGGTC   Mouse  MCA_BM  Bone_Marrow  \n",
       "BoneMarrowcKit_1.TGCGGACCATCTATTTGC   Mouse  MCA_BM  Bone_Marrow  \n",
       "BoneMarrowcKit_1.CTCGCAATGCTTACAATA   Mouse  MCA_BM  Bone_Marrow  "
      ]
     },
     "execution_count": 9,
     "metadata": {},
     "output_type": "execute_result"
    }
   ],
   "source": [
    "adata_raw.obs.drop(columns=['sample_ID'], inplace=True)\n",
    "adata_raw.obs.head()"
   ]
  },
  {
   "cell_type": "code",
   "execution_count": 10,
   "metadata": {},
   "outputs": [
    {
     "data": {
      "text/plain": [
       "(26815, 15455)"
      ]
     },
     "execution_count": 10,
     "metadata": {},
     "output_type": "execute_result"
    }
   ],
   "source": [
    "adata_raw.shape"
   ]
  },
  {
   "cell_type": "markdown",
   "metadata": {},
   "source": [
    "### Pre-processed data"
   ]
  },
  {
   "cell_type": "code",
   "execution_count": 11,
   "metadata": {},
   "outputs": [
    {
     "name": "stdout",
     "output_type": "stream",
     "text": [
      "../../Bone_Marrow_mouse/write/MCA_BM_1_ckit.h5ad\n",
      "../../Bone_Marrow_mouse/write/MCA_BM_3_ckit.h5ad\n",
      "../../Bone_Marrow_mouse/write/MCA_BM_2_ckit.h5ad\n"
     ]
    }
   ],
   "source": [
    "file_paths = '../../Bone_Marrow_mouse/write/'\n",
    "adatas_pp = []\n",
    "for i in glob.glob(file_paths+'*.h5ad'):\n",
    "    print(i)\n",
    "    adatas_pp.append(sc.read(i, cache=True)) "
   ]
  },
  {
   "cell_type": "code",
   "execution_count": 12,
   "metadata": {},
   "outputs": [],
   "source": [
    "for i in range(len(adatas_pp)):\n",
    "    adata_tmp = adatas_pp[i]\n",
    "    adata_obs = adata_tmp.obs.reset_index()\n",
    "    adata_obs = adata_obs[['index', 'final_annotation', 'dpt_pseudotime', 'n_counts', 'n_genes', 'mt_frac']].rename(columns = {'index':'barcode'})\n",
    "    adata_obs.set_index('barcode', inplace = True)\n",
    "    adatas_pp[i].obs = adata_obs\n",
    "    "
   ]
  },
  {
   "cell_type": "code",
   "execution_count": 13,
   "metadata": {},
   "outputs": [],
   "source": [
    "# Concatenate to unique adata object\n",
    "adata_pp = adatas_pp[0].concatenate(adatas_pp[1:], batch_key='sample_ID',\n",
    "                                                        index_unique=None)"
   ]
  },
  {
   "cell_type": "code",
   "execution_count": 14,
   "metadata": {},
   "outputs": [
    {
     "data": {
      "text/html": [
       "<div>\n",
       "<style scoped>\n",
       "    .dataframe tbody tr th:only-of-type {\n",
       "        vertical-align: middle;\n",
       "    }\n",
       "\n",
       "    .dataframe tbody tr th {\n",
       "        vertical-align: top;\n",
       "    }\n",
       "\n",
       "    .dataframe thead th {\n",
       "        text-align: right;\n",
       "    }\n",
       "</style>\n",
       "<table border=\"1\" class=\"dataframe\">\n",
       "  <thead>\n",
       "    <tr style=\"text-align: right;\">\n",
       "      <th></th>\n",
       "      <th>dpt_pseudotime</th>\n",
       "      <th>final_annotation</th>\n",
       "      <th>mt_frac</th>\n",
       "      <th>n_counts</th>\n",
       "      <th>n_genes</th>\n",
       "    </tr>\n",
       "    <tr>\n",
       "      <th>barcode</th>\n",
       "      <th></th>\n",
       "      <th></th>\n",
       "      <th></th>\n",
       "      <th></th>\n",
       "      <th></th>\n",
       "    </tr>\n",
       "  </thead>\n",
       "  <tbody>\n",
       "    <tr>\n",
       "      <th>BoneMarrowcKit_1.ACAATAGCGAATCTCGCA</th>\n",
       "      <td>NaN</td>\n",
       "      <td>Neutrophils</td>\n",
       "      <td>0.014483</td>\n",
       "      <td>6076.0</td>\n",
       "      <td>2649</td>\n",
       "    </tr>\n",
       "    <tr>\n",
       "      <th>BoneMarrowcKit_1.TGCGGACCATCTATTTGC</th>\n",
       "      <td>NaN</td>\n",
       "      <td>Monocyte progenitors</td>\n",
       "      <td>0.010089</td>\n",
       "      <td>7533.0</td>\n",
       "      <td>2537</td>\n",
       "    </tr>\n",
       "    <tr>\n",
       "      <th>BoneMarrowcKit_1.CAACAACTGAAATTTAGG</th>\n",
       "      <td>NaN</td>\n",
       "      <td>Monocyte progenitors</td>\n",
       "      <td>0.018253</td>\n",
       "      <td>7944.0</td>\n",
       "      <td>2644</td>\n",
       "    </tr>\n",
       "    <tr>\n",
       "      <th>BoneMarrowcKit_1.GCAGGAATCTCTTGGATG</th>\n",
       "      <td>NaN</td>\n",
       "      <td>Neutrophils</td>\n",
       "      <td>0.009422</td>\n",
       "      <td>5413.0</td>\n",
       "      <td>2161</td>\n",
       "    </tr>\n",
       "    <tr>\n",
       "      <th>BoneMarrowcKit_1.CTGTGTGAATTATCGGGT</th>\n",
       "      <td>0.191907</td>\n",
       "      <td>Erythrocytes</td>\n",
       "      <td>0.010878</td>\n",
       "      <td>6619.0</td>\n",
       "      <td>2408</td>\n",
       "    </tr>\n",
       "  </tbody>\n",
       "</table>\n",
       "</div>"
      ],
      "text/plain": [
       "                                     dpt_pseudotime      final_annotation  \\\n",
       "barcode                                                                     \n",
       "BoneMarrowcKit_1.ACAATAGCGAATCTCGCA             NaN           Neutrophils   \n",
       "BoneMarrowcKit_1.TGCGGACCATCTATTTGC             NaN  Monocyte progenitors   \n",
       "BoneMarrowcKit_1.CAACAACTGAAATTTAGG             NaN  Monocyte progenitors   \n",
       "BoneMarrowcKit_1.GCAGGAATCTCTTGGATG             NaN           Neutrophils   \n",
       "BoneMarrowcKit_1.CTGTGTGAATTATCGGGT        0.191907          Erythrocytes   \n",
       "\n",
       "                                      mt_frac  n_counts  n_genes  \n",
       "barcode                                                           \n",
       "BoneMarrowcKit_1.ACAATAGCGAATCTCGCA  0.014483    6076.0     2649  \n",
       "BoneMarrowcKit_1.TGCGGACCATCTATTTGC  0.010089    7533.0     2537  \n",
       "BoneMarrowcKit_1.CAACAACTGAAATTTAGG  0.018253    7944.0     2644  \n",
       "BoneMarrowcKit_1.GCAGGAATCTCTTGGATG  0.009422    5413.0     2161  \n",
       "BoneMarrowcKit_1.CTGTGTGAATTATCGGGT  0.010878    6619.0     2408  "
      ]
     },
     "execution_count": 14,
     "metadata": {},
     "output_type": "execute_result"
    }
   ],
   "source": [
    "adata_pp.obs.drop(columns=['sample_ID'], inplace = True)\n",
    "adata_pp.obs.head()"
   ]
  },
  {
   "cell_type": "code",
   "execution_count": 15,
   "metadata": {},
   "outputs": [
    {
     "data": {
      "text/plain": [
       "(26815, 15455)"
      ]
     },
     "execution_count": 15,
     "metadata": {},
     "output_type": "execute_result"
    }
   ],
   "source": [
    "adata_raw.shape"
   ]
  },
  {
   "cell_type": "code",
   "execution_count": 16,
   "metadata": {},
   "outputs": [
    {
     "data": {
      "text/plain": [
       "(26465, 10981)"
      ]
     },
     "execution_count": 16,
     "metadata": {},
     "output_type": "execute_result"
    }
   ],
   "source": [
    "adata_pp.shape"
   ]
  },
  {
   "cell_type": "code",
   "execution_count": 17,
   "metadata": {},
   "outputs": [
    {
     "data": {
      "text/html": [
       "<div>\n",
       "<style scoped>\n",
       "    .dataframe tbody tr th:only-of-type {\n",
       "        vertical-align: middle;\n",
       "    }\n",
       "\n",
       "    .dataframe tbody tr th {\n",
       "        vertical-align: top;\n",
       "    }\n",
       "\n",
       "    .dataframe thead th {\n",
       "        text-align: right;\n",
       "    }\n",
       "</style>\n",
       "<table border=\"1\" class=\"dataframe\">\n",
       "  <thead>\n",
       "    <tr style=\"text-align: right;\">\n",
       "      <th></th>\n",
       "      <th>batch</th>\n",
       "      <th>chemistry</th>\n",
       "      <th>data_type</th>\n",
       "      <th>species</th>\n",
       "      <th>study</th>\n",
       "      <th>tissue</th>\n",
       "      <th>dpt_pseudotime</th>\n",
       "      <th>final_annotation</th>\n",
       "      <th>mt_frac</th>\n",
       "      <th>n_counts</th>\n",
       "      <th>n_genes</th>\n",
       "    </tr>\n",
       "    <tr>\n",
       "      <th>barcode</th>\n",
       "      <th></th>\n",
       "      <th></th>\n",
       "      <th></th>\n",
       "      <th></th>\n",
       "      <th></th>\n",
       "      <th></th>\n",
       "      <th></th>\n",
       "      <th></th>\n",
       "      <th></th>\n",
       "      <th></th>\n",
       "      <th></th>\n",
       "    </tr>\n",
       "  </thead>\n",
       "  <tbody>\n",
       "    <tr>\n",
       "      <th>BoneMarrowcKit_1.ACAATAGCGAATCTCGCA</th>\n",
       "      <td>MCA_BM_1</td>\n",
       "      <td>microwell-seq</td>\n",
       "      <td>UMI</td>\n",
       "      <td>Mouse</td>\n",
       "      <td>MCA_BM</td>\n",
       "      <td>Bone_Marrow</td>\n",
       "      <td>NaN</td>\n",
       "      <td>Neutrophils</td>\n",
       "      <td>0.014483</td>\n",
       "      <td>6076.0</td>\n",
       "      <td>2649.0</td>\n",
       "    </tr>\n",
       "    <tr>\n",
       "      <th>BoneMarrowcKit_1.CGAGTAGGGTTTGTAATG</th>\n",
       "      <td>MCA_BM_1</td>\n",
       "      <td>microwell-seq</td>\n",
       "      <td>UMI</td>\n",
       "      <td>Mouse</td>\n",
       "      <td>MCA_BM</td>\n",
       "      <td>Bone_Marrow</td>\n",
       "      <td>NaN</td>\n",
       "      <td>NaN</td>\n",
       "      <td>NaN</td>\n",
       "      <td>NaN</td>\n",
       "      <td>NaN</td>\n",
       "    </tr>\n",
       "    <tr>\n",
       "      <th>BoneMarrowcKit_1.CCATCTTCAAAGAGGGTC</th>\n",
       "      <td>MCA_BM_1</td>\n",
       "      <td>microwell-seq</td>\n",
       "      <td>UMI</td>\n",
       "      <td>Mouse</td>\n",
       "      <td>MCA_BM</td>\n",
       "      <td>Bone_Marrow</td>\n",
       "      <td>NaN</td>\n",
       "      <td>NaN</td>\n",
       "      <td>NaN</td>\n",
       "      <td>NaN</td>\n",
       "      <td>NaN</td>\n",
       "    </tr>\n",
       "    <tr>\n",
       "      <th>BoneMarrowcKit_1.TGCGGACCATCTATTTGC</th>\n",
       "      <td>MCA_BM_1</td>\n",
       "      <td>microwell-seq</td>\n",
       "      <td>UMI</td>\n",
       "      <td>Mouse</td>\n",
       "      <td>MCA_BM</td>\n",
       "      <td>Bone_Marrow</td>\n",
       "      <td>NaN</td>\n",
       "      <td>Monocyte progenitors</td>\n",
       "      <td>0.010089</td>\n",
       "      <td>7533.0</td>\n",
       "      <td>2537.0</td>\n",
       "    </tr>\n",
       "    <tr>\n",
       "      <th>BoneMarrowcKit_1.CTCGCAATGCTTACAATA</th>\n",
       "      <td>MCA_BM_1</td>\n",
       "      <td>microwell-seq</td>\n",
       "      <td>UMI</td>\n",
       "      <td>Mouse</td>\n",
       "      <td>MCA_BM</td>\n",
       "      <td>Bone_Marrow</td>\n",
       "      <td>NaN</td>\n",
       "      <td>NaN</td>\n",
       "      <td>NaN</td>\n",
       "      <td>NaN</td>\n",
       "      <td>NaN</td>\n",
       "    </tr>\n",
       "  </tbody>\n",
       "</table>\n",
       "</div>"
      ],
      "text/plain": [
       "                                        batch      chemistry data_type  \\\n",
       "barcode                                                                  \n",
       "BoneMarrowcKit_1.ACAATAGCGAATCTCGCA  MCA_BM_1  microwell-seq       UMI   \n",
       "BoneMarrowcKit_1.CGAGTAGGGTTTGTAATG  MCA_BM_1  microwell-seq       UMI   \n",
       "BoneMarrowcKit_1.CCATCTTCAAAGAGGGTC  MCA_BM_1  microwell-seq       UMI   \n",
       "BoneMarrowcKit_1.TGCGGACCATCTATTTGC  MCA_BM_1  microwell-seq       UMI   \n",
       "BoneMarrowcKit_1.CTCGCAATGCTTACAATA  MCA_BM_1  microwell-seq       UMI   \n",
       "\n",
       "                                    species   study       tissue  \\\n",
       "barcode                                                            \n",
       "BoneMarrowcKit_1.ACAATAGCGAATCTCGCA   Mouse  MCA_BM  Bone_Marrow   \n",
       "BoneMarrowcKit_1.CGAGTAGGGTTTGTAATG   Mouse  MCA_BM  Bone_Marrow   \n",
       "BoneMarrowcKit_1.CCATCTTCAAAGAGGGTC   Mouse  MCA_BM  Bone_Marrow   \n",
       "BoneMarrowcKit_1.TGCGGACCATCTATTTGC   Mouse  MCA_BM  Bone_Marrow   \n",
       "BoneMarrowcKit_1.CTCGCAATGCTTACAATA   Mouse  MCA_BM  Bone_Marrow   \n",
       "\n",
       "                                     dpt_pseudotime      final_annotation  \\\n",
       "barcode                                                                     \n",
       "BoneMarrowcKit_1.ACAATAGCGAATCTCGCA             NaN           Neutrophils   \n",
       "BoneMarrowcKit_1.CGAGTAGGGTTTGTAATG             NaN                   NaN   \n",
       "BoneMarrowcKit_1.CCATCTTCAAAGAGGGTC             NaN                   NaN   \n",
       "BoneMarrowcKit_1.TGCGGACCATCTATTTGC             NaN  Monocyte progenitors   \n",
       "BoneMarrowcKit_1.CTCGCAATGCTTACAATA             NaN                   NaN   \n",
       "\n",
       "                                      mt_frac  n_counts  n_genes  \n",
       "barcode                                                           \n",
       "BoneMarrowcKit_1.ACAATAGCGAATCTCGCA  0.014483    6076.0   2649.0  \n",
       "BoneMarrowcKit_1.CGAGTAGGGTTTGTAATG       NaN       NaN      NaN  \n",
       "BoneMarrowcKit_1.CCATCTTCAAAGAGGGTC       NaN       NaN      NaN  \n",
       "BoneMarrowcKit_1.TGCGGACCATCTATTTGC  0.010089    7533.0   2537.0  \n",
       "BoneMarrowcKit_1.CTCGCAATGCTTACAATA       NaN       NaN      NaN  "
      ]
     },
     "execution_count": 17,
     "metadata": {},
     "output_type": "execute_result"
    }
   ],
   "source": [
    "# Restrict to cells that passed QC and were annotated\n",
    "adata_obs_raw = adata_raw.obs.reset_index()\n",
    "adata_obs_pp = adata_pp.obs.reset_index()\n",
    "adata_merged = adata_obs_raw.merge(adata_obs_pp, on='barcode', how='left')\n",
    "adata_merged.set_index('barcode', inplace = True)\n",
    "adata_raw.obs = adata_merged\n",
    "adata_raw.obs.head()"
   ]
  },
  {
   "cell_type": "code",
   "execution_count": 18,
   "metadata": {},
   "outputs": [
    {
     "data": {
      "text/plain": [
       "(26465, 15455)"
      ]
     },
     "execution_count": 18,
     "metadata": {},
     "output_type": "execute_result"
    }
   ],
   "source": [
    "adata_raw = adata_raw[~pd.isnull(adata_raw.obs['final_annotation'])]\n",
    "adata_raw.shape"
   ]
  },
  {
   "cell_type": "markdown",
   "metadata": {},
   "source": [
    "### Normalization"
   ]
  },
  {
   "cell_type": "code",
   "execution_count": 19,
   "metadata": {},
   "outputs": [
    {
     "name": "stdout",
     "output_type": "stream",
     "text": [
      "Total number of genes: 15455\n"
     ]
    },
    {
     "name": "stderr",
     "output_type": "stream",
     "text": [
      "Trying to set attribute `.var` of view, making a copy.\n"
     ]
    },
    {
     "name": "stdout",
     "output_type": "stream",
     "text": [
      "Number of genes after cell filter: 15455\n"
     ]
    }
   ],
   "source": [
    "# Exclude genes that are = 0 in all cells\n",
    "#Filter genes:\n",
    "print('Total number of genes: {:d}'.format(adata_raw.n_vars))\n",
    "\n",
    "# Min 20 cells - filters out 0 count genes\n",
    "sc.pp.filter_genes(adata_raw, min_cells=1)\n",
    "print('Number of genes after cell filter: {:d}'.format(adata_raw.n_vars))"
   ]
  },
  {
   "cell_type": "code",
   "execution_count": 20,
   "metadata": {},
   "outputs": [
    {
     "name": "stdout",
     "output_type": "stream",
     "text": [
      "normalizing by total count per cell\n",
      "    finished (0:00:02): normalized adata.X and added    'n_counts', counts per cell before normalization (adata.obs)\n",
      "computing PCA with n_comps = 15\n",
      "    finished (0:00:11)\n",
      "computing neighbors\n",
      "    using 'X_pca' with n_pcs = 15\n",
      "    finished: added to `.uns['neighbors']`\n",
      "    'distances', distances for each pair of neighbors\n",
      "    'connectivities', weighted adjacency matrix (0:00:09)\n",
      "running Louvain clustering\n",
      "    using the \"louvain\" package of Traag (2017)\n",
      "    finished: found 10 clusters and added\n",
      "    'groups', the cluster labels (adata.obs, categorical) (0:00:03)\n"
     ]
    }
   ],
   "source": [
    "#Perform a clustering for scran normalization in clusters\n",
    "adata_pp = adata_raw.copy()\n",
    "sc.pp.normalize_per_cell(adata_pp, counts_per_cell_after=1e6)\n",
    "sc.pp.log1p(adata_pp)\n",
    "sc.pp.pca(adata_pp, n_comps=15, svd_solver='arpack')\n",
    "sc.pp.neighbors(adata_pp)\n",
    "sc.tl.louvain(adata_pp, key_added='groups', resolution=0.5)"
   ]
  },
  {
   "cell_type": "code",
   "execution_count": 21,
   "metadata": {},
   "outputs": [
    {
     "data": {
      "text/plain": [
       "0    4626\n",
       "1    4061\n",
       "2    3669\n",
       "3    2944\n",
       "4    2734\n",
       "5    2661\n",
       "6    2638\n",
       "7    1973\n",
       "8     827\n",
       "9     332\n",
       "Name: groups, dtype: int64"
      ]
     },
     "execution_count": 21,
     "metadata": {},
     "output_type": "execute_result"
    }
   ],
   "source": [
    "# Check if the minimum number of cells per cluster is < 21:in that case, sizes will be also passed as input to the normalization\n",
    "adata_pp.obs['groups'].value_counts()"
   ]
  },
  {
   "cell_type": "code",
   "execution_count": 22,
   "metadata": {},
   "outputs": [],
   "source": [
    "#Preprocess variables for scran normalization\n",
    "input_groups = adata_pp.obs['groups']\n",
    "data_mat = adata_raw.X.T"
   ]
  },
  {
   "cell_type": "code",
   "execution_count": 23,
   "metadata": {},
   "outputs": [],
   "source": [
    "%%R -i data_mat -i input_groups -o size_factors\n",
    "\n",
    "size_factors = computeSumFactors(data_mat, clusters=input_groups, min.mean=0.1)"
   ]
  },
  {
   "cell_type": "code",
   "execution_count": 24,
   "metadata": {},
   "outputs": [],
   "source": [
    "#Delete adata_pp\n",
    "del adata_pp"
   ]
  },
  {
   "cell_type": "code",
   "execution_count": 25,
   "metadata": {},
   "outputs": [
    {
     "name": "stderr",
     "output_type": "stream",
     "text": [
      "... storing 'batch' as categorical\n",
      "... storing 'chemistry' as categorical\n",
      "... storing 'data_type' as categorical\n",
      "... storing 'species' as categorical\n",
      "... storing 'study' as categorical\n",
      "... storing 'tissue' as categorical\n"
     ]
    },
    {
     "data": {
      "image/png": "[encoded data removed]",
      "text/plain": [
       "<Figure size 671.674x576 with 1 Axes>"
      ]
     },
     "metadata": {
      "needs_background": "light"
     },
     "output_type": "display_data"
    },
    {
     "data": {
      "image/png": "[encoded data removed]",
      "text/plain": [
       "<Figure size 671.674x576 with 1 Axes>"
      ]
     },
     "metadata": {
      "needs_background": "light"
     },
     "output_type": "display_data"
    },
    {
     "data": {
      "image/png": "[encoded data removed]",
      "text/plain": [
       "<Figure size 576x576 with 1 Axes>"
      ]
     },
     "metadata": {
      "needs_background": "light"
     },
     "output_type": "display_data"
    }
   ],
   "source": [
    "# Visualize the estimated size factors\n",
    "adata_raw.obs['size_factors'] = size_factors\n",
    "\n",
    "sc.pl.scatter(adata_raw, 'size_factors', 'n_counts')\n",
    "sc.pl.scatter(adata_raw, 'size_factors', 'n_genes')\n",
    "\n",
    "sb.distplot(size_factors, bins=50, kde=False)\n",
    "plt.show()"
   ]
  },
  {
   "cell_type": "code",
   "execution_count": 26,
   "metadata": {},
   "outputs": [],
   "source": [
    "#Keep the count data in a counts layer\n",
    "adata_raw.layers[\"counts\"] = adata_raw.X.copy()"
   ]
  },
  {
   "cell_type": "code",
   "execution_count": 27,
   "metadata": {},
   "outputs": [],
   "source": [
    "#Normalize adata \n",
    "adata_raw.X /= adata_raw.obs['size_factors'].values[:,None]\n",
    "sc.pp.log1p(adata_raw)"
   ]
  },
  {
   "cell_type": "code",
   "execution_count": 28,
   "metadata": {},
   "outputs": [],
   "source": [
    "adata_raw.write(results_file)"
   ]
  }
 ],
 "metadata": {
  "kernelspec": {
   "display_name": "Python 3",
   "language": "python",
   "name": "python3"
  },
  "language_info": {
   "codemirror_mode": {
    "name": "ipython",
    "version": 3
   },
   "file_extension": ".py",
   "mimetype": "text/x-python",
   "name": "python",
   "nbconvert_exporter": "python",
   "pygments_lexer": "ipython3",
   "version": "3.7.1"
  }
 },
 "nbformat": 4,
 "nbformat_minor": 2
}
