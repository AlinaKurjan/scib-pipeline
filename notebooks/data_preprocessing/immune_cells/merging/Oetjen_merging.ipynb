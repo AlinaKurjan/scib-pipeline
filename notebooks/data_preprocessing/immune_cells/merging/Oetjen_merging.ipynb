{
 "cells": [
  {
   "cell_type": "markdown",
   "metadata": {},
   "source": [
    "# Human Bone Marrow - merging annotated samples from Oetjen et al."
   ]
  },
  {
   "cell_type": "code",
   "execution_count": 1,
   "metadata": {},
   "outputs": [],
   "source": [
    "import scanpy as sc\n",
    "import numpy as np\n",
    "import scipy as sp\n",
    "import pandas as pd\n",
    "import matplotlib.pyplot as plt\n",
    "from matplotlib import rcParams\n",
    "from matplotlib import colors\n",
    "import seaborn as sb\n",
    "import glob\n",
    "\n",
    "import rpy2.rinterface_lib.callbacks\n",
    "import logging\n",
    "\n",
    "from rpy2.robjects import pandas2ri\n",
    "import anndata2ri"
   ]
  },
  {
   "cell_type": "code",
   "execution_count": 2,
   "metadata": {},
   "outputs": [
    {
     "name": "stdout",
     "output_type": "stream",
     "text": [
      "scanpy==1.4.4+40.gbd5f862 anndata==0.6.22.post1 umap==0.3.9 numpy==1.15.4 scipy==1.3.0 pandas==0.24.2 scikit-learn==0.21.2 statsmodels==0.10.1 python-igraph==0.7.1 louvain==0.6.1\n"
     ]
    }
   ],
   "source": [
    "# Ignore R warning messages\n",
    "#Note: this can be commented out to get more verbose R output\n",
    "rpy2.rinterface_lib.callbacks.logger.setLevel(logging.ERROR)\n",
    "\n",
    "# Automatically convert rpy2 outputs to pandas dataframes\n",
    "pandas2ri.activate()\n",
    "anndata2ri.activate()\n",
    "%load_ext rpy2.ipython\n",
    "\n",
    "plt.rcParams['figure.figsize']=(8,8) #rescale figures\n",
    "sc.settings.verbosity = 3\n",
    "#sc.set_figure_params(dpi=200, dpi_save=300)\n",
    "sc.logging.print_versions()\n",
    "\n",
    "results_file = './write/Oetjen_hum_BM_pp.h5ad'"
   ]
  },
  {
   "cell_type": "code",
   "execution_count": 3,
   "metadata": {},
   "outputs": [],
   "source": [
    "%%R\n",
    "# Load all the R libraries we will be using in the notebook\n",
    "library(scran)"
   ]
  },
  {
   "cell_type": "markdown",
   "metadata": {},
   "source": [
    "## Load human bone marrow\n",
    "Here we load the pre-processed datasets (which has been annotated), and the raw matrices (which won't be filtered on the gene level). "
   ]
  },
  {
   "cell_type": "markdown",
   "metadata": {},
   "source": [
    "### Raw data"
   ]
  },
  {
   "cell_type": "code",
   "execution_count": 4,
   "metadata": {},
   "outputs": [],
   "source": [
    "# Set up data loading\n",
    "file_base = '../Munich/datasets/human/BoneMarrow_Oetjen/GSE120221_RAW/'\n",
    "geo_id = ['GSM3396161_', 'GSM3396176_', 'GSM3396184_']\n",
    "mat = 'matrix_'\n",
    "barcode = 'barcodes_'\n",
    "gene = 'genes_'\n",
    "sample_letter = ['A', 'P', 'U']\n",
    "mat_end = '.mtx.gz'\n",
    "tsv_end = '.tsv.gz'"
   ]
  },
  {
   "cell_type": "code",
   "execution_count": 5,
   "metadata": {},
   "outputs": [
    {
     "name": "stdout",
     "output_type": "stream",
     "text": [
      "... reading from cache file cache/..-Munich-datasets-human-BoneMarrow_Oetjen-GSE120221_RAW-GSM3396161_matrix_A.h5ad\n",
      "... reading from cache file cache/..-Munich-datasets-human-BoneMarrow_Oetjen-GSE120221_RAW-GSM3396176_matrix_P.h5ad\n",
      "... reading from cache file cache/..-Munich-datasets-human-BoneMarrow_Oetjen-GSE120221_RAW-GSM3396184_matrix_U.h5ad\n"
     ]
    }
   ],
   "source": [
    "adatas_raw = []\n",
    "# Loop to load data\n",
    "for i in range(len(sample_letter)):\n",
    "    #Parse filenames\n",
    "    geo = geo_id[i]\n",
    "    sample = sample_letter[i]\n",
    "    data_file = file_base+geo+mat+sample+mat_end\n",
    "    barcode_file = file_base+geo+barcode+sample+tsv_end\n",
    "    gene_file = file_base+geo+gene+sample+tsv_end\n",
    "    \n",
    "    #Load data\n",
    "    adata_tmp = sc.read(data_file, cache=True)\n",
    "    adata_tmp = adata_tmp.transpose()\n",
    "    adata_tmp.X = adata_tmp.X.toarray()\n",
    "    \n",
    "    barcodes_tmp = pd.read_csv(barcode_file, header=None, sep='\\t')\n",
    "    genes_tmp = pd.read_csv(gene_file, header=None, sep='\\t')\n",
    "    \n",
    "    #Annotate data\n",
    "    barcodes_tmp.rename(columns={0:'barcode'}, inplace=True)\n",
    "    barcodes_tmp.set_index('barcode', inplace=True)\n",
    "    adata_tmp.obs = barcodes_tmp\n",
    "    adata_tmp.obs['batch'] = ['Oetjen_'+sample]*adata_tmp.n_obs\n",
    "    adata_tmp.obs['study'] = ['Oetjen']*adata_tmp.n_obs\n",
    "    adata_tmp.obs['chemistry'] = ['v2_10X']*adata_tmp.n_obs\n",
    "    adata_tmp.obs['tissue'] = ['Bone_Marrow']*adata_tmp.n_obs\n",
    "    adata_tmp.obs['species'] = ['Human']*adata_tmp.n_obs\n",
    "    adata_tmp.obs['data_type'] = ['UMI']*adata_tmp.n_obs\n",
    "\n",
    "    genes_tmp.rename(columns={0:'gene_id', 1:'gene_symbol'}, inplace=True)\n",
    "    genes_tmp.set_index('gene_symbol', inplace=True)\n",
    "    adata_tmp.var = genes_tmp\n",
    "    adata_tmp.var_names_make_unique()\n",
    "    \n",
    "    #Append to main adata object\n",
    "    adatas_raw.append(adata_tmp)\n"
   ]
  },
  {
   "cell_type": "code",
   "execution_count": 6,
   "metadata": {},
   "outputs": [],
   "source": [
    "# Concatenate to unique adata object\n",
    "adata_raw = adatas_raw[0].concatenate(adatas_raw[1:], batch_key='sample_ID', \n",
    "                                               batch_categories=['Oetjen_A','Oetjen_P', 'Oetjen_U'])"
   ]
  },
  {
   "cell_type": "code",
   "execution_count": 7,
   "metadata": {},
   "outputs": [
    {
     "data": {
      "text/html": [
       "<div>\n",
       "<style scoped>\n",
       "    .dataframe tbody tr th:only-of-type {\n",
       "        vertical-align: middle;\n",
       "    }\n",
       "\n",
       "    .dataframe tbody tr th {\n",
       "        vertical-align: top;\n",
       "    }\n",
       "\n",
       "    .dataframe thead th {\n",
       "        text-align: right;\n",
       "    }\n",
       "</style>\n",
       "<table border=\"1\" class=\"dataframe\">\n",
       "  <thead>\n",
       "    <tr style=\"text-align: right;\">\n",
       "      <th></th>\n",
       "      <th>batch</th>\n",
       "      <th>chemistry</th>\n",
       "      <th>data_type</th>\n",
       "      <th>sample_ID</th>\n",
       "      <th>species</th>\n",
       "      <th>study</th>\n",
       "      <th>tissue</th>\n",
       "    </tr>\n",
       "  </thead>\n",
       "  <tbody>\n",
       "    <tr>\n",
       "      <th>AAACCTGCAAGTAATG-1-Oetjen_A</th>\n",
       "      <td>Oetjen_A</td>\n",
       "      <td>v2_10X</td>\n",
       "      <td>UMI</td>\n",
       "      <td>Oetjen_A</td>\n",
       "      <td>Human</td>\n",
       "      <td>Oetjen</td>\n",
       "      <td>Bone_Marrow</td>\n",
       "    </tr>\n",
       "    <tr>\n",
       "      <th>AAACCTGCAGCGAACA-1-Oetjen_A</th>\n",
       "      <td>Oetjen_A</td>\n",
       "      <td>v2_10X</td>\n",
       "      <td>UMI</td>\n",
       "      <td>Oetjen_A</td>\n",
       "      <td>Human</td>\n",
       "      <td>Oetjen</td>\n",
       "      <td>Bone_Marrow</td>\n",
       "    </tr>\n",
       "    <tr>\n",
       "      <th>AAACCTGCATGTCCTC-1-Oetjen_A</th>\n",
       "      <td>Oetjen_A</td>\n",
       "      <td>v2_10X</td>\n",
       "      <td>UMI</td>\n",
       "      <td>Oetjen_A</td>\n",
       "      <td>Human</td>\n",
       "      <td>Oetjen</td>\n",
       "      <td>Bone_Marrow</td>\n",
       "    </tr>\n",
       "    <tr>\n",
       "      <th>AAACCTGGTCGACTGC-1-Oetjen_A</th>\n",
       "      <td>Oetjen_A</td>\n",
       "      <td>v2_10X</td>\n",
       "      <td>UMI</td>\n",
       "      <td>Oetjen_A</td>\n",
       "      <td>Human</td>\n",
       "      <td>Oetjen</td>\n",
       "      <td>Bone_Marrow</td>\n",
       "    </tr>\n",
       "    <tr>\n",
       "      <th>AAACCTGGTCGCTTCT-1-Oetjen_A</th>\n",
       "      <td>Oetjen_A</td>\n",
       "      <td>v2_10X</td>\n",
       "      <td>UMI</td>\n",
       "      <td>Oetjen_A</td>\n",
       "      <td>Human</td>\n",
       "      <td>Oetjen</td>\n",
       "      <td>Bone_Marrow</td>\n",
       "    </tr>\n",
       "  </tbody>\n",
       "</table>\n",
       "</div>"
      ],
      "text/plain": [
       "                                batch chemistry data_type sample_ID species  \\\n",
       "AAACCTGCAAGTAATG-1-Oetjen_A  Oetjen_A    v2_10X       UMI  Oetjen_A   Human   \n",
       "AAACCTGCAGCGAACA-1-Oetjen_A  Oetjen_A    v2_10X       UMI  Oetjen_A   Human   \n",
       "AAACCTGCATGTCCTC-1-Oetjen_A  Oetjen_A    v2_10X       UMI  Oetjen_A   Human   \n",
       "AAACCTGGTCGACTGC-1-Oetjen_A  Oetjen_A    v2_10X       UMI  Oetjen_A   Human   \n",
       "AAACCTGGTCGCTTCT-1-Oetjen_A  Oetjen_A    v2_10X       UMI  Oetjen_A   Human   \n",
       "\n",
       "                              study       tissue  \n",
       "AAACCTGCAAGTAATG-1-Oetjen_A  Oetjen  Bone_Marrow  \n",
       "AAACCTGCAGCGAACA-1-Oetjen_A  Oetjen  Bone_Marrow  \n",
       "AAACCTGCATGTCCTC-1-Oetjen_A  Oetjen  Bone_Marrow  \n",
       "AAACCTGGTCGACTGC-1-Oetjen_A  Oetjen  Bone_Marrow  \n",
       "AAACCTGGTCGCTTCT-1-Oetjen_A  Oetjen  Bone_Marrow  "
      ]
     },
     "execution_count": 7,
     "metadata": {},
     "output_type": "execute_result"
    }
   ],
   "source": [
    "adata_raw.obs.head()"
   ]
  },
  {
   "cell_type": "code",
   "execution_count": 8,
   "metadata": {},
   "outputs": [
    {
     "data": {
      "text/html": [
       "<div>\n",
       "<style scoped>\n",
       "    .dataframe tbody tr th:only-of-type {\n",
       "        vertical-align: middle;\n",
       "    }\n",
       "\n",
       "    .dataframe tbody tr th {\n",
       "        vertical-align: top;\n",
       "    }\n",
       "\n",
       "    .dataframe thead th {\n",
       "        text-align: right;\n",
       "    }\n",
       "</style>\n",
       "<table border=\"1\" class=\"dataframe\">\n",
       "  <thead>\n",
       "    <tr style=\"text-align: right;\">\n",
       "      <th></th>\n",
       "      <th>batch</th>\n",
       "      <th>chemistry</th>\n",
       "      <th>data_type</th>\n",
       "      <th>species</th>\n",
       "      <th>study</th>\n",
       "      <th>tissue</th>\n",
       "    </tr>\n",
       "  </thead>\n",
       "  <tbody>\n",
       "    <tr>\n",
       "      <th>AAACCTGCAAGTAATG-1-Oetjen_A</th>\n",
       "      <td>Oetjen_A</td>\n",
       "      <td>v2_10X</td>\n",
       "      <td>UMI</td>\n",
       "      <td>Human</td>\n",
       "      <td>Oetjen</td>\n",
       "      <td>Bone_Marrow</td>\n",
       "    </tr>\n",
       "    <tr>\n",
       "      <th>AAACCTGCAGCGAACA-1-Oetjen_A</th>\n",
       "      <td>Oetjen_A</td>\n",
       "      <td>v2_10X</td>\n",
       "      <td>UMI</td>\n",
       "      <td>Human</td>\n",
       "      <td>Oetjen</td>\n",
       "      <td>Bone_Marrow</td>\n",
       "    </tr>\n",
       "    <tr>\n",
       "      <th>AAACCTGCATGTCCTC-1-Oetjen_A</th>\n",
       "      <td>Oetjen_A</td>\n",
       "      <td>v2_10X</td>\n",
       "      <td>UMI</td>\n",
       "      <td>Human</td>\n",
       "      <td>Oetjen</td>\n",
       "      <td>Bone_Marrow</td>\n",
       "    </tr>\n",
       "    <tr>\n",
       "      <th>AAACCTGGTCGACTGC-1-Oetjen_A</th>\n",
       "      <td>Oetjen_A</td>\n",
       "      <td>v2_10X</td>\n",
       "      <td>UMI</td>\n",
       "      <td>Human</td>\n",
       "      <td>Oetjen</td>\n",
       "      <td>Bone_Marrow</td>\n",
       "    </tr>\n",
       "    <tr>\n",
       "      <th>AAACCTGGTCGCTTCT-1-Oetjen_A</th>\n",
       "      <td>Oetjen_A</td>\n",
       "      <td>v2_10X</td>\n",
       "      <td>UMI</td>\n",
       "      <td>Human</td>\n",
       "      <td>Oetjen</td>\n",
       "      <td>Bone_Marrow</td>\n",
       "    </tr>\n",
       "  </tbody>\n",
       "</table>\n",
       "</div>"
      ],
      "text/plain": [
       "                                batch chemistry data_type species   study  \\\n",
       "AAACCTGCAAGTAATG-1-Oetjen_A  Oetjen_A    v2_10X       UMI   Human  Oetjen   \n",
       "AAACCTGCAGCGAACA-1-Oetjen_A  Oetjen_A    v2_10X       UMI   Human  Oetjen   \n",
       "AAACCTGCATGTCCTC-1-Oetjen_A  Oetjen_A    v2_10X       UMI   Human  Oetjen   \n",
       "AAACCTGGTCGACTGC-1-Oetjen_A  Oetjen_A    v2_10X       UMI   Human  Oetjen   \n",
       "AAACCTGGTCGCTTCT-1-Oetjen_A  Oetjen_A    v2_10X       UMI   Human  Oetjen   \n",
       "\n",
       "                                  tissue  \n",
       "AAACCTGCAAGTAATG-1-Oetjen_A  Bone_Marrow  \n",
       "AAACCTGCAGCGAACA-1-Oetjen_A  Bone_Marrow  \n",
       "AAACCTGCATGTCCTC-1-Oetjen_A  Bone_Marrow  \n",
       "AAACCTGGTCGACTGC-1-Oetjen_A  Bone_Marrow  \n",
       "AAACCTGGTCGCTTCT-1-Oetjen_A  Bone_Marrow  "
      ]
     },
     "execution_count": 8,
     "metadata": {},
     "output_type": "execute_result"
    }
   ],
   "source": [
    "adata_raw.obs.drop(columns=['sample_ID'], inplace=True)\n",
    "adata_raw.obs.head()"
   ]
  },
  {
   "cell_type": "code",
   "execution_count": 9,
   "metadata": {},
   "outputs": [
    {
     "data": {
      "text/html": [
       "<div>\n",
       "<style scoped>\n",
       "    .dataframe tbody tr th:only-of-type {\n",
       "        vertical-align: middle;\n",
       "    }\n",
       "\n",
       "    .dataframe tbody tr th {\n",
       "        vertical-align: top;\n",
       "    }\n",
       "\n",
       "    .dataframe thead th {\n",
       "        text-align: right;\n",
       "    }\n",
       "</style>\n",
       "<table border=\"1\" class=\"dataframe\">\n",
       "  <thead>\n",
       "    <tr style=\"text-align: right;\">\n",
       "      <th></th>\n",
       "      <th>batch</th>\n",
       "      <th>chemistry</th>\n",
       "      <th>data_type</th>\n",
       "      <th>species</th>\n",
       "      <th>study</th>\n",
       "      <th>tissue</th>\n",
       "    </tr>\n",
       "    <tr>\n",
       "      <th>barcode</th>\n",
       "      <th></th>\n",
       "      <th></th>\n",
       "      <th></th>\n",
       "      <th></th>\n",
       "      <th></th>\n",
       "      <th></th>\n",
       "    </tr>\n",
       "  </thead>\n",
       "  <tbody>\n",
       "    <tr>\n",
       "      <th>AAACCTGCAAGTAATG-1-Oetjen_A</th>\n",
       "      <td>Oetjen_A</td>\n",
       "      <td>v2_10X</td>\n",
       "      <td>UMI</td>\n",
       "      <td>Human</td>\n",
       "      <td>Oetjen</td>\n",
       "      <td>Bone_Marrow</td>\n",
       "    </tr>\n",
       "    <tr>\n",
       "      <th>AAACCTGCAGCGAACA-1-Oetjen_A</th>\n",
       "      <td>Oetjen_A</td>\n",
       "      <td>v2_10X</td>\n",
       "      <td>UMI</td>\n",
       "      <td>Human</td>\n",
       "      <td>Oetjen</td>\n",
       "      <td>Bone_Marrow</td>\n",
       "    </tr>\n",
       "    <tr>\n",
       "      <th>AAACCTGCATGTCCTC-1-Oetjen_A</th>\n",
       "      <td>Oetjen_A</td>\n",
       "      <td>v2_10X</td>\n",
       "      <td>UMI</td>\n",
       "      <td>Human</td>\n",
       "      <td>Oetjen</td>\n",
       "      <td>Bone_Marrow</td>\n",
       "    </tr>\n",
       "    <tr>\n",
       "      <th>AAACCTGGTCGACTGC-1-Oetjen_A</th>\n",
       "      <td>Oetjen_A</td>\n",
       "      <td>v2_10X</td>\n",
       "      <td>UMI</td>\n",
       "      <td>Human</td>\n",
       "      <td>Oetjen</td>\n",
       "      <td>Bone_Marrow</td>\n",
       "    </tr>\n",
       "    <tr>\n",
       "      <th>AAACCTGGTCGCTTCT-1-Oetjen_A</th>\n",
       "      <td>Oetjen_A</td>\n",
       "      <td>v2_10X</td>\n",
       "      <td>UMI</td>\n",
       "      <td>Human</td>\n",
       "      <td>Oetjen</td>\n",
       "      <td>Bone_Marrow</td>\n",
       "    </tr>\n",
       "  </tbody>\n",
       "</table>\n",
       "</div>"
      ],
      "text/plain": [
       "                                batch chemistry data_type species   study  \\\n",
       "barcode                                                                     \n",
       "AAACCTGCAAGTAATG-1-Oetjen_A  Oetjen_A    v2_10X       UMI   Human  Oetjen   \n",
       "AAACCTGCAGCGAACA-1-Oetjen_A  Oetjen_A    v2_10X       UMI   Human  Oetjen   \n",
       "AAACCTGCATGTCCTC-1-Oetjen_A  Oetjen_A    v2_10X       UMI   Human  Oetjen   \n",
       "AAACCTGGTCGACTGC-1-Oetjen_A  Oetjen_A    v2_10X       UMI   Human  Oetjen   \n",
       "AAACCTGGTCGCTTCT-1-Oetjen_A  Oetjen_A    v2_10X       UMI   Human  Oetjen   \n",
       "\n",
       "                                  tissue  \n",
       "barcode                                   \n",
       "AAACCTGCAAGTAATG-1-Oetjen_A  Bone_Marrow  \n",
       "AAACCTGCAGCGAACA-1-Oetjen_A  Bone_Marrow  \n",
       "AAACCTGCATGTCCTC-1-Oetjen_A  Bone_Marrow  \n",
       "AAACCTGGTCGACTGC-1-Oetjen_A  Bone_Marrow  \n",
       "AAACCTGGTCGCTTCT-1-Oetjen_A  Bone_Marrow  "
      ]
     },
     "execution_count": 9,
     "metadata": {},
     "output_type": "execute_result"
    }
   ],
   "source": [
    "adata_raw.obs.index.rename('barcode', inplace=True)\n",
    "adata_raw.obs.head()"
   ]
  },
  {
   "cell_type": "code",
   "execution_count": 10,
   "metadata": {},
   "outputs": [
    {
     "data": {
      "text/plain": [
       "(10495, 33694)"
      ]
     },
     "execution_count": 10,
     "metadata": {},
     "output_type": "execute_result"
    }
   ],
   "source": [
    "adata_raw.shape"
   ]
  },
  {
   "cell_type": "markdown",
   "metadata": {},
   "source": [
    "### Pre-processed data"
   ]
  },
  {
   "cell_type": "code",
   "execution_count": 11,
   "metadata": {},
   "outputs": [
    {
     "name": "stdout",
     "output_type": "stream",
     "text": [
      "../Bone_Marrow_human/write/Oet_BM_A_1.h5ad\n",
      "../Bone_Marrow_human/write/Oet_BM_U_3.h5ad\n",
      "../Bone_Marrow_human/write/Oet_BM_P_2.h5ad\n"
     ]
    }
   ],
   "source": [
    "file_paths = '../Bone_Marrow_human/write/'\n",
    "adatas_pp = []\n",
    "for i in glob.glob(file_paths+'*.h5ad'):\n",
    "    print(i)\n",
    "    adatas_pp.append(sc.read(i, cache=True)) "
   ]
  },
  {
   "cell_type": "code",
   "execution_count": 12,
   "metadata": {},
   "outputs": [],
   "source": [
    "sample_letter = ['A', 'U', 'P']\n",
    "for i in range(len(adatas_pp)):\n",
    "    adata_tmp = adatas_pp[i]\n",
    "    adata_obs = adata_tmp.obs.reset_index()\n",
    "    adata_obs = adata_obs[['index', 'final_annotation', 'dpt_pseudotime', 'n_counts', 'n_genes', 'mt_frac']].rename(columns = {'index':'barcode'})\n",
    "    adata_obs['barcode'] = adata_obs['barcode']+['-Oetjen_'+sample_letter[i]]*adata_tmp.n_obs\n",
    "    adata_obs.set_index('barcode', inplace = True)\n",
    "    adatas_pp[i].obs = adata_obs\n",
    "    "
   ]
  },
  {
   "cell_type": "code",
   "execution_count": 13,
   "metadata": {},
   "outputs": [],
   "source": [
    "# Concatenate to unique adata object\n",
    "adata_pp = adatas_pp[0].concatenate(adatas_pp[1:], batch_key='sample_ID',\n",
    "                                                        index_unique=None)"
   ]
  },
  {
   "cell_type": "code",
   "execution_count": 14,
   "metadata": {},
   "outputs": [],
   "source": [
    "adata_pp.obs.drop(columns=['sample_ID'], inplace = True)"
   ]
  },
  {
   "cell_type": "code",
   "execution_count": 15,
   "metadata": {},
   "outputs": [
    {
     "data": {
      "text/plain": [
       "(10495, 33694)"
      ]
     },
     "execution_count": 15,
     "metadata": {},
     "output_type": "execute_result"
    }
   ],
   "source": [
    "adata_raw.shape"
   ]
  },
  {
   "cell_type": "code",
   "execution_count": 16,
   "metadata": {},
   "outputs": [
    {
     "data": {
      "text/plain": [
       "(9581, 12086)"
      ]
     },
     "execution_count": 16,
     "metadata": {},
     "output_type": "execute_result"
    }
   ],
   "source": [
    "adata_pp.shape"
   ]
  },
  {
   "cell_type": "code",
   "execution_count": 17,
   "metadata": {},
   "outputs": [
    {
     "data": {
      "text/html": [
       "<div>\n",
       "<style scoped>\n",
       "    .dataframe tbody tr th:only-of-type {\n",
       "        vertical-align: middle;\n",
       "    }\n",
       "\n",
       "    .dataframe tbody tr th {\n",
       "        vertical-align: top;\n",
       "    }\n",
       "\n",
       "    .dataframe thead th {\n",
       "        text-align: right;\n",
       "    }\n",
       "</style>\n",
       "<table border=\"1\" class=\"dataframe\">\n",
       "  <thead>\n",
       "    <tr style=\"text-align: right;\">\n",
       "      <th></th>\n",
       "      <th>batch</th>\n",
       "      <th>chemistry</th>\n",
       "      <th>data_type</th>\n",
       "      <th>species</th>\n",
       "      <th>study</th>\n",
       "      <th>tissue</th>\n",
       "      <th>dpt_pseudotime</th>\n",
       "      <th>final_annotation</th>\n",
       "      <th>mt_frac</th>\n",
       "      <th>n_counts</th>\n",
       "      <th>n_genes</th>\n",
       "    </tr>\n",
       "    <tr>\n",
       "      <th>barcode</th>\n",
       "      <th></th>\n",
       "      <th></th>\n",
       "      <th></th>\n",
       "      <th></th>\n",
       "      <th></th>\n",
       "      <th></th>\n",
       "      <th></th>\n",
       "      <th></th>\n",
       "      <th></th>\n",
       "      <th></th>\n",
       "      <th></th>\n",
       "    </tr>\n",
       "  </thead>\n",
       "  <tbody>\n",
       "    <tr>\n",
       "      <th>AAACCTGCAAGTAATG-1-Oetjen_A</th>\n",
       "      <td>Oetjen_A</td>\n",
       "      <td>v2_10X</td>\n",
       "      <td>UMI</td>\n",
       "      <td>Human</td>\n",
       "      <td>Oetjen</td>\n",
       "      <td>Bone_Marrow</td>\n",
       "      <td>NaN</td>\n",
       "      <td>NaN</td>\n",
       "      <td>NaN</td>\n",
       "      <td>NaN</td>\n",
       "      <td>NaN</td>\n",
       "    </tr>\n",
       "    <tr>\n",
       "      <th>AAACCTGCAGCGAACA-1-Oetjen_A</th>\n",
       "      <td>Oetjen_A</td>\n",
       "      <td>v2_10X</td>\n",
       "      <td>UMI</td>\n",
       "      <td>Human</td>\n",
       "      <td>Oetjen</td>\n",
       "      <td>Bone_Marrow</td>\n",
       "      <td>NaN</td>\n",
       "      <td>CD16+ Monocytes</td>\n",
       "      <td>0.047970</td>\n",
       "      <td>6379.0</td>\n",
       "      <td>1862.0</td>\n",
       "    </tr>\n",
       "    <tr>\n",
       "      <th>AAACCTGCATGTCCTC-1-Oetjen_A</th>\n",
       "      <td>Oetjen_A</td>\n",
       "      <td>v2_10X</td>\n",
       "      <td>UMI</td>\n",
       "      <td>Human</td>\n",
       "      <td>Oetjen</td>\n",
       "      <td>Bone_Marrow</td>\n",
       "      <td>NaN</td>\n",
       "      <td>CD4+ T cells</td>\n",
       "      <td>0.024928</td>\n",
       "      <td>4172.0</td>\n",
       "      <td>1082.0</td>\n",
       "    </tr>\n",
       "    <tr>\n",
       "      <th>AAACCTGGTCGACTGC-1-Oetjen_A</th>\n",
       "      <td>Oetjen_A</td>\n",
       "      <td>v2_10X</td>\n",
       "      <td>UMI</td>\n",
       "      <td>Human</td>\n",
       "      <td>Oetjen</td>\n",
       "      <td>Bone_Marrow</td>\n",
       "      <td>NaN</td>\n",
       "      <td>CD14+ Monocytes</td>\n",
       "      <td>0.051907</td>\n",
       "      <td>6608.0</td>\n",
       "      <td>1618.0</td>\n",
       "    </tr>\n",
       "    <tr>\n",
       "      <th>AAACCTGGTCGCTTCT-1-Oetjen_A</th>\n",
       "      <td>Oetjen_A</td>\n",
       "      <td>v2_10X</td>\n",
       "      <td>UMI</td>\n",
       "      <td>Human</td>\n",
       "      <td>Oetjen</td>\n",
       "      <td>Bone_Marrow</td>\n",
       "      <td>NaN</td>\n",
       "      <td>CD14+ Monocytes</td>\n",
       "      <td>0.041716</td>\n",
       "      <td>5034.0</td>\n",
       "      <td>1413.0</td>\n",
       "    </tr>\n",
       "  </tbody>\n",
       "</table>\n",
       "</div>"
      ],
      "text/plain": [
       "                                batch chemistry data_type species   study  \\\n",
       "barcode                                                                     \n",
       "AAACCTGCAAGTAATG-1-Oetjen_A  Oetjen_A    v2_10X       UMI   Human  Oetjen   \n",
       "AAACCTGCAGCGAACA-1-Oetjen_A  Oetjen_A    v2_10X       UMI   Human  Oetjen   \n",
       "AAACCTGCATGTCCTC-1-Oetjen_A  Oetjen_A    v2_10X       UMI   Human  Oetjen   \n",
       "AAACCTGGTCGACTGC-1-Oetjen_A  Oetjen_A    v2_10X       UMI   Human  Oetjen   \n",
       "AAACCTGGTCGCTTCT-1-Oetjen_A  Oetjen_A    v2_10X       UMI   Human  Oetjen   \n",
       "\n",
       "                                  tissue  dpt_pseudotime final_annotation  \\\n",
       "barcode                                                                     \n",
       "AAACCTGCAAGTAATG-1-Oetjen_A  Bone_Marrow             NaN              NaN   \n",
       "AAACCTGCAGCGAACA-1-Oetjen_A  Bone_Marrow             NaN  CD16+ Monocytes   \n",
       "AAACCTGCATGTCCTC-1-Oetjen_A  Bone_Marrow             NaN     CD4+ T cells   \n",
       "AAACCTGGTCGACTGC-1-Oetjen_A  Bone_Marrow             NaN  CD14+ Monocytes   \n",
       "AAACCTGGTCGCTTCT-1-Oetjen_A  Bone_Marrow             NaN  CD14+ Monocytes   \n",
       "\n",
       "                              mt_frac  n_counts  n_genes  \n",
       "barcode                                                   \n",
       "AAACCTGCAAGTAATG-1-Oetjen_A       NaN       NaN      NaN  \n",
       "AAACCTGCAGCGAACA-1-Oetjen_A  0.047970    6379.0   1862.0  \n",
       "AAACCTGCATGTCCTC-1-Oetjen_A  0.024928    4172.0   1082.0  \n",
       "AAACCTGGTCGACTGC-1-Oetjen_A  0.051907    6608.0   1618.0  \n",
       "AAACCTGGTCGCTTCT-1-Oetjen_A  0.041716    5034.0   1413.0  "
      ]
     },
     "execution_count": 17,
     "metadata": {},
     "output_type": "execute_result"
    }
   ],
   "source": [
    "# Restrict to cells that passed QC and were annotated\n",
    "adata_obs_raw = adata_raw.obs.reset_index()\n",
    "adata_obs_pp = adata_pp.obs.reset_index()\n",
    "adata_merged = adata_obs_raw.merge(adata_obs_pp, on='barcode', how='left')\n",
    "adata_merged.set_index('barcode', inplace = True)\n",
    "adata_raw.obs = adata_merged\n",
    "adata_raw.obs.head()"
   ]
  },
  {
   "cell_type": "code",
   "execution_count": 18,
   "metadata": {},
   "outputs": [
    {
     "data": {
      "text/plain": [
       "(9581, 33694)"
      ]
     },
     "execution_count": 18,
     "metadata": {},
     "output_type": "execute_result"
    }
   ],
   "source": [
    "adata_raw = adata_raw[~pd.isnull(adata_raw.obs['final_annotation'])]\n",
    "adata_raw.shape"
   ]
  },
  {
   "cell_type": "markdown",
   "metadata": {},
   "source": [
    "### Normalization"
   ]
  },
  {
   "cell_type": "code",
   "execution_count": 19,
   "metadata": {},
   "outputs": [
    {
     "name": "stdout",
     "output_type": "stream",
     "text": [
      "Total number of genes: 33694\n",
      "filtered out 10748 genes that are detectedin less than 1 cells\n"
     ]
    },
    {
     "name": "stderr",
     "output_type": "stream",
     "text": [
      "Trying to set attribute `.var` of view, making a copy.\n"
     ]
    },
    {
     "name": "stdout",
     "output_type": "stream",
     "text": [
      "Number of genes after cell filter: 22946\n"
     ]
    }
   ],
   "source": [
    "# Exclude genes that are = 0 in all cells\n",
    "#Filter genes:\n",
    "print('Total number of genes: {:d}'.format(adata_raw.n_vars))\n",
    "\n",
    "# Min 20 cells - filters out 0 count genes\n",
    "sc.pp.filter_genes(adata_raw, min_cells=1)\n",
    "print('Number of genes after cell filter: {:d}'.format(adata_raw.n_vars))"
   ]
  },
  {
   "cell_type": "code",
   "execution_count": 20,
   "metadata": {},
   "outputs": [
    {
     "name": "stdout",
     "output_type": "stream",
     "text": [
      "normalizing by total count per cell\n",
      "    finished (0:00:01): normalized adata.X and added    'n_counts', counts per cell before normalization (adata.obs)\n",
      "computing PCA with n_comps = 15\n",
      "    finished (0:00:05)\n",
      "computing neighbors\n",
      "    using 'X_pca' with n_pcs = 15\n",
      "    finished: added to `.uns['neighbors']`\n",
      "    'distances', distances for each pair of neighbors\n",
      "    'connectivities', weighted adjacency matrix (0:00:06)\n",
      "running Louvain clustering\n",
      "    using the \"louvain\" package of Traag (2017)\n",
      "    finished: found 17 clusters and added\n",
      "    'groups', the cluster labels (adata.obs, categorical) (0:00:00)\n"
     ]
    }
   ],
   "source": [
    "#Perform a clustering for scran normalization in clusters\n",
    "adata_pp = adata_raw.copy()\n",
    "sc.pp.normalize_per_cell(adata_pp, counts_per_cell_after=1e6)\n",
    "sc.pp.log1p(adata_pp)\n",
    "sc.pp.pca(adata_pp, n_comps=15, svd_solver='arpack')\n",
    "sc.pp.neighbors(adata_pp)\n",
    "sc.tl.louvain(adata_pp, key_added='groups', resolution=0.5)"
   ]
  },
  {
   "cell_type": "code",
   "execution_count": 21,
   "metadata": {},
   "outputs": [
    {
     "data": {
      "text/plain": [
       "0     1356\n",
       "1     1275\n",
       "2      931\n",
       "3      913\n",
       "4      907\n",
       "5      713\n",
       "6      707\n",
       "7      626\n",
       "8      508\n",
       "9      434\n",
       "10     366\n",
       "11     197\n",
       "12     168\n",
       "13     130\n",
       "14     123\n",
       "15     116\n",
       "16     111\n",
       "Name: groups, dtype: int64"
      ]
     },
     "execution_count": 21,
     "metadata": {},
     "output_type": "execute_result"
    }
   ],
   "source": [
    "# Check if the minimum number of cells per cluster is < 21:in that case, sizes will be also passed as input to the normalization\n",
    "adata_pp.obs['groups'].value_counts()"
   ]
  },
  {
   "cell_type": "code",
   "execution_count": 22,
   "metadata": {},
   "outputs": [],
   "source": [
    "#Preprocess variables for scran normalization\n",
    "input_groups = adata_pp.obs['groups']\n",
    "data_mat = adata_raw.X.T"
   ]
  },
  {
   "cell_type": "code",
   "execution_count": 23,
   "metadata": {},
   "outputs": [],
   "source": [
    "%%R -i data_mat -i input_groups -o size_factors\n",
    "\n",
    "size_factors = computeSumFactors(data_mat, clusters=input_groups, min.mean=0.1)"
   ]
  },
  {
   "cell_type": "code",
   "execution_count": 24,
   "metadata": {},
   "outputs": [],
   "source": [
    "#Delete adata_pp\n",
    "del adata_pp"
   ]
  },
  {
   "cell_type": "code",
   "execution_count": 25,
   "metadata": {},
   "outputs": [
    {
     "name": "stderr",
     "output_type": "stream",
     "text": [
      "... storing 'batch' as categorical\n",
      "... storing 'chemistry' as categorical\n",
      "... storing 'data_type' as categorical\n",
      "... storing 'species' as categorical\n",
      "... storing 'study' as categorical\n",
      "... storing 'tissue' as categorical\n",
      "... storing 'final_annotation' as categorical\n"
     ]
    },
    {
     "data": {
      "image/png": "[encoded data removed]",
      "text/plain": [
       "<Figure size 671.674x576 with 1 Axes>"
      ]
     },
     "metadata": {
      "needs_background": "light"
     },
     "output_type": "display_data"
    },
    {
     "data": {
      "image/png": "[encoded data removed]",
      "text/plain": [
       "<Figure size 671.674x576 with 1 Axes>"
      ]
     },
     "metadata": {
      "needs_background": "light"
     },
     "output_type": "display_data"
    },
    {
     "data": {
      "image/png": "[encoded data removed]",
      "text/plain": [
       "<Figure size 576x576 with 1 Axes>"
      ]
     },
     "metadata": {
      "needs_background": "light"
     },
     "output_type": "display_data"
    }
   ],
   "source": [
    "# Visualize the estimated size factors\n",
    "adata_raw.obs['size_factors'] = size_factors\n",
    "\n",
    "sc.pl.scatter(adata_raw, 'size_factors', 'n_counts')\n",
    "sc.pl.scatter(adata_raw, 'size_factors', 'n_genes')\n",
    "\n",
    "sb.distplot(size_factors, bins=50, kde=False)\n",
    "plt.show()"
   ]
  },
  {
   "cell_type": "code",
   "execution_count": 26,
   "metadata": {},
   "outputs": [],
   "source": [
    "#Keep the count data in a counts layer\n",
    "adata_raw.layers[\"counts\"] = adata_raw.X.copy()"
   ]
  },
  {
   "cell_type": "code",
   "execution_count": 27,
   "metadata": {},
   "outputs": [],
   "source": [
    "#Normalize adata \n",
    "adata_raw.X /= adata_raw.obs['size_factors'].values[:,None]\n",
    "sc.pp.log1p(adata_raw)"
   ]
  },
  {
   "cell_type": "code",
   "execution_count": 28,
   "metadata": {},
   "outputs": [],
   "source": [
    "# Save final merged object\n",
    "adata_raw.write(results_file)"
   ]
  }
 ],
 "metadata": {
  "kernelspec": {
   "display_name": "Python 3",
   "language": "python",
   "name": "python3"
  },
  "language_info": {
   "codemirror_mode": {
    "name": "ipython",
    "version": 3
   },
   "file_extension": ".py",
   "mimetype": "text/x-python",
   "name": "python",
   "nbconvert_exporter": "python",
   "pygments_lexer": "ipython3",
   "version": "3.7.1"
  }
 },
 "nbformat": 4,
 "nbformat_minor": 2
}
