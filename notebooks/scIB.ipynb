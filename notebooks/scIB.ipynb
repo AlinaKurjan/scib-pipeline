{
 "cells": [
  {
   "cell_type": "markdown",
   "metadata": {},
   "source": [
    "# Benchmarking of integration methods\n",
    "This notebook provides a short overview on how to use the scIB module and performs a short analysis of tabula muris thymus and bone marrow data."
   ]
  },
  {
   "cell_type": "code",
   "execution_count": 2,
   "metadata": {},
   "outputs": [],
   "source": [
    "import scanpy as sc\n",
    "import scIB\n",
    "import pandas as pd\n",
    "import matplotlib.pyplot as plt"
   ]
  },
  {
   "cell_type": "code",
   "execution_count": 3,
   "metadata": {},
   "outputs": [],
   "source": [
    "%matplotlib inline"
   ]
  },
  {
   "cell_type": "code",
   "execution_count": 4,
   "metadata": {},
   "outputs": [],
   "source": [
    "file = '../red.h5ad'\n",
    "batch = 'method'\n",
    "hvg = None"
   ]
  },
  {
   "cell_type": "markdown",
   "metadata": {},
   "source": [
    "## Read the data"
   ]
  },
  {
   "cell_type": "code",
   "execution_count": 5,
   "metadata": {},
   "outputs": [],
   "source": [
    "adata = sc.read(file)"
   ]
  },
  {
   "cell_type": "code",
   "execution_count": 6,
   "metadata": {},
   "outputs": [],
   "source": [
    "methods = {}"
   ]
  },
  {
   "cell_type": "markdown",
   "metadata": {},
   "source": [
    "## Run the integration methods\n",
    "The functions for the integration methods are in `scIB.integration`. Generally, the methods expect an anndata object and the batch key as an input. The runtime and memory usage of the functions are meaured using `scIB.metrics.measureTM`. This function returns memory usage in MB, runtime in s and the output of the tested function."
   ]
  },
  {
   "cell_type": "code",
   "execution_count": 7,
   "metadata": {},
   "outputs": [
    {
     "name": "stderr",
     "output_type": "stream",
     "text": [
      "/home/icb/daniel.strobl/miniconda3/envs/sc-tutorial/lib/python3.7/site-packages/sklearn/externals/six.py:31: DeprecationWarning: The module is deprecated in version 0.21 and will be removed in version 0.23 since we've dropped support for Python 2.7. Please rely on the official version of six (https://pypi.org/project/six/).\n",
      "  \"(https://pypi.org/project/six/).\", DeprecationWarning)\n"
     ]
    },
    {
     "name": "stdout",
     "output_type": "stream",
     "text": [
      "Found 12914 genes among all datasets\n",
      "[[0.         0.85774059]\n",
      " [0.         0.        ]]\n",
      "Processing datasets (0, 1)\n",
      "memory usage:874.0 MB\n",
      "runtime: 5.0 s\n"
     ]
    }
   ],
   "source": [
    "methods['scanorama'] = scIB.metrics.measureTM(scIB.integration.runScanorama, adata, batch)"
   ]
  },
  {
   "cell_type": "code",
   "execution_count": 11,
   "metadata": {},
   "outputs": [],
   "source": [
    "methods['scanorama'][2][0][1].obsm['X_pca'] = methods['scanorama'][2][0][0]"
   ]
  },
  {
   "cell_type": "code",
   "execution_count": 13,
   "metadata": {},
   "outputs": [
    {
     "name": "stderr",
     "output_type": "stream",
     "text": [
      "/home/icb/daniel.strobl/miniconda3/envs/sc-tutorial/lib/python3.7/site-packages/umap/umap_.py:349: NumbaWarning: \n",
      "Compilation is falling back to object mode WITH looplifting enabled because Function \"fuzzy_simplicial_set\" failed type inference due to: Untyped global name 'nearest_neighbors': cannot determine Numba type of <class 'function'>\n",
      "\n",
      "File \"../../../../../../../../../home/icb/daniel.strobl/miniconda3/envs/sc-tutorial/lib/python3.7/site-packages/umap/umap_.py\", line 467:\n",
      "def fuzzy_simplicial_set(\n",
      "    <source elided>\n",
      "    if knn_indices is None or knn_dists is None:\n",
      "        knn_indices, knn_dists, _ = nearest_neighbors(\n",
      "        ^\n",
      "\n",
      "  @numba.jit()\n",
      "/home/icb/daniel.strobl/miniconda3/envs/sc-tutorial/lib/python3.7/site-packages/numba/compiler.py:742: NumbaWarning: Function \"fuzzy_simplicial_set\" was compiled in object mode without forceobj=True.\n",
      "\n",
      "File \"../../../../../../../../../home/icb/daniel.strobl/miniconda3/envs/sc-tutorial/lib/python3.7/site-packages/umap/umap_.py\", line 350:\n",
      "@numba.jit()\n",
      "def fuzzy_simplicial_set(\n",
      "^\n",
      "\n",
      "  self.func_ir.loc))\n",
      "/home/icb/daniel.strobl/miniconda3/envs/sc-tutorial/lib/python3.7/site-packages/numba/compiler.py:751: NumbaDeprecationWarning: \n",
      "Fall-back from the nopython compilation path to the object mode compilation path has been detected, this is deprecated behaviour.\n",
      "\n",
      "For more information visit http://numba.pydata.org/numba-doc/latest/reference/deprecation.html#deprecation-of-object-mode-fall-back-behaviour-when-using-jit\n",
      "\n",
      "File \"../../../../../../../../../home/icb/daniel.strobl/miniconda3/envs/sc-tutorial/lib/python3.7/site-packages/umap/umap_.py\", line 350:\n",
      "@numba.jit()\n",
      "def fuzzy_simplicial_set(\n",
      "^\n",
      "\n",
      "  warnings.warn(errors.NumbaDeprecationWarning(msg, self.func_ir.loc))\n"
     ]
    },
    {
     "name": "stdout",
     "output_type": "stream",
     "text": [
      "memory usage:14.0 MB\n",
      "runtime: 4.0 s\n"
     ]
    }
   ],
   "source": [
    "methods['bbknn'] = scIB.metrics.measureTM(scIB.integration.runBBKNN, adata, batch)"
   ]
  },
  {
   "cell_type": "code",
   "execution_count": 6,
   "metadata": {},
   "outputs": [],
   "source": [
    "#scgen = scIB.metrics.measureTM(scIB.integration.runScGen, adata, batch = batch)"
   ]
  },
  {
   "cell_type": "code",
   "execution_count": 14,
   "metadata": {},
   "outputs": [
    {
     "name": "stderr",
     "output_type": "stream",
     "text": [
      "/home/icb/daniel.strobl/miniconda3/envs/sc-tutorial/lib/python3.7/site-packages/mnnpy/utils.py:14: NumbaWarning: \n",
      "Compilation is falling back to object mode WITH looplifting enabled because Function \"l2_norm\" failed type inference due to: Invalid use of Function(<function norm at 0x7f52a011f6a8>) with argument(s) of type(s): (axis=Literal[int](1), x=array(float32, 2d, A))\n",
      " * parameterized\n",
      "In definition 0:\n",
      "    TypeError: norm_impl() got an unexpected keyword argument 'x'\n",
      "    raised from /home/icb/daniel.strobl/miniconda3/envs/sc-tutorial/lib/python3.7/site-packages/numba/typing/templates.py:475\n",
      "In definition 1:\n",
      "    TypeError: norm_impl() got an unexpected keyword argument 'x'\n",
      "    raised from /home/icb/daniel.strobl/miniconda3/envs/sc-tutorial/lib/python3.7/site-packages/numba/typing/templates.py:475\n",
      "This error is usually caused by passing an argument of a type that is unsupported by the named function.\n",
      "[1] During: resolving callee type: Function(<function norm at 0x7f52a011f6a8>)\n",
      "[2] During: typing of call at /home/icb/daniel.strobl/miniconda3/envs/sc-tutorial/lib/python3.7/site-packages/mnnpy/utils.py (16)\n",
      "\n",
      "\n",
      "File \"../../../../../../../../../home/icb/daniel.strobl/miniconda3/envs/sc-tutorial/lib/python3.7/site-packages/mnnpy/utils.py\", line 16:\n",
      "def l2_norm(in_matrix):\n",
      "    return np.linalg.norm(x=in_matrix, axis=1)\n",
      "    ^\n",
      "\n",
      "  @jit(float32[:](float32[:, :]), nogil=True)\n",
      "/home/icb/daniel.strobl/miniconda3/envs/sc-tutorial/lib/python3.7/site-packages/numba/compiler.py:742: NumbaWarning: Function \"l2_norm\" was compiled in object mode without forceobj=True.\n",
      "\n",
      "File \"../../../../../../../../../home/icb/daniel.strobl/miniconda3/envs/sc-tutorial/lib/python3.7/site-packages/mnnpy/utils.py\", line 15:\n",
      "@jit(float32[:](float32[:, :]), nogil=True)\n",
      "def l2_norm(in_matrix):\n",
      "^\n",
      "\n",
      "  self.func_ir.loc))\n",
      "/home/icb/daniel.strobl/miniconda3/envs/sc-tutorial/lib/python3.7/site-packages/numba/compiler.py:751: NumbaDeprecationWarning: \n",
      "Fall-back from the nopython compilation path to the object mode compilation path has been detected, this is deprecated behaviour.\n",
      "\n",
      "For more information visit http://numba.pydata.org/numba-doc/latest/reference/deprecation.html#deprecation-of-object-mode-fall-back-behaviour-when-using-jit\n",
      "\n",
      "File \"../../../../../../../../../home/icb/daniel.strobl/miniconda3/envs/sc-tutorial/lib/python3.7/site-packages/mnnpy/utils.py\", line 15:\n",
      "@jit(float32[:](float32[:, :]), nogil=True)\n",
      "def l2_norm(in_matrix):\n",
      "^\n",
      "\n",
      "  warnings.warn(errors.NumbaDeprecationWarning(msg, self.func_ir.loc))\n",
      "/home/icb/daniel.strobl/miniconda3/envs/sc-tutorial/lib/python3.7/site-packages/mnnpy/utils.py:14: NumbaWarning: Code running in object mode won't allow parallel execution despite nogil=True.\n",
      "  @jit(float32[:](float32[:, :]), nogil=True)\n",
      "/home/icb/daniel.strobl/miniconda3/envs/sc-tutorial/lib/python3.7/site-packages/mnnpy/utils.py:29: NumbaPerformanceWarning: np.dot() is faster on contiguous arrays, called on (array(float32, 1d, A), array(float32, 1d, A))\n",
      "  dist[i, j] = np.dot(m[i], n[j])\n",
      "/home/icb/daniel.strobl/miniconda3/envs/sc-tutorial/lib/python3.7/site-packages/mnnpy/utils.py:88: NumbaWarning: \n",
      "Compilation is falling back to object mode WITH looplifting enabled because Function \"find_mutual_nn\" failed type inference due to: Untyped global name 'cKDTree': cannot determine Numba type of <class 'type'>\n",
      "\n",
      "File \"../../../../../../../../../home/icb/daniel.strobl/miniconda3/envs/sc-tutorial/lib/python3.7/site-packages/mnnpy/utils.py\", line 90:\n",
      "def find_mutual_nn(data1, data2, k1, k2, n_jobs):\n",
      "    k_index_1 = cKDTree(data1).query(x=data2, k=k1, n_jobs=n_jobs)[1]\n",
      "    ^\n",
      "\n",
      "  @jit((float32[:, :], float32[:, :], int8, int8, int8))\n",
      "/home/icb/daniel.strobl/miniconda3/envs/sc-tutorial/lib/python3.7/site-packages/mnnpy/utils.py:88: NumbaWarning: \n",
      "Compilation is falling back to object mode WITHOUT looplifting enabled because Function \"find_mutual_nn\" failed type inference due to: Untyped global name 'cKDTree': cannot determine Numba type of <class 'type'>\n",
      "\n",
      "File \"../../../../../../../../../home/icb/daniel.strobl/miniconda3/envs/sc-tutorial/lib/python3.7/site-packages/mnnpy/utils.py\", line 90:\n",
      "def find_mutual_nn(data1, data2, k1, k2, n_jobs):\n",
      "    k_index_1 = cKDTree(data1).query(x=data2, k=k1, n_jobs=n_jobs)[1]\n",
      "    ^\n",
      "\n",
      "  @jit((float32[:, :], float32[:, :], int8, int8, int8))\n",
      "/home/icb/daniel.strobl/miniconda3/envs/sc-tutorial/lib/python3.7/site-packages/numba/compiler.py:742: NumbaWarning: Function \"find_mutual_nn\" was compiled in object mode without forceobj=True, but has lifted loops.\n",
      "\n",
      "File \"../../../../../../../../../home/icb/daniel.strobl/miniconda3/envs/sc-tutorial/lib/python3.7/site-packages/mnnpy/utils.py\", line 89:\n",
      "@jit((float32[:, :], float32[:, :], int8, int8, int8))\n",
      "def find_mutual_nn(data1, data2, k1, k2, n_jobs):\n",
      "^\n",
      "\n",
      "  self.func_ir.loc))\n",
      "/home/icb/daniel.strobl/miniconda3/envs/sc-tutorial/lib/python3.7/site-packages/numba/compiler.py:751: NumbaDeprecationWarning: \n",
      "Fall-back from the nopython compilation path to the object mode compilation path has been detected, this is deprecated behaviour.\n",
      "\n",
      "For more information visit http://numba.pydata.org/numba-doc/latest/reference/deprecation.html#deprecation-of-object-mode-fall-back-behaviour-when-using-jit\n",
      "\n",
      "File \"../../../../../../../../../home/icb/daniel.strobl/miniconda3/envs/sc-tutorial/lib/python3.7/site-packages/mnnpy/utils.py\", line 89:\n",
      "@jit((float32[:, :], float32[:, :], int8, int8, int8))\n",
      "def find_mutual_nn(data1, data2, k1, k2, n_jobs):\n",
      "^\n",
      "\n",
      "  warnings.warn(errors.NumbaDeprecationWarning(msg, self.func_ir.loc))\n",
      "/home/icb/daniel.strobl/miniconda3/envs/sc-tutorial/lib/python3.7/site-packages/mnnpy/utils.py:102: NumbaWarning: \n",
      "Compilation is falling back to object mode WITH looplifting enabled because Function \"compute_correction\" failed type inference due to: Invalid use of Function(<function unique at 0x7f52a00d3268>) with argument(s) of type(s): (array(int32, 1d, A), return_counts=bool)\n",
      " * parameterized\n",
      "In definition 0:\n",
      "    TypeError: np_unique() got an unexpected keyword argument 'return_counts'\n",
      "    raised from /home/icb/daniel.strobl/miniconda3/envs/sc-tutorial/lib/python3.7/site-packages/numba/typing/templates.py:475\n",
      "In definition 1:\n",
      "    TypeError: np_unique() got an unexpected keyword argument 'return_counts'\n",
      "    raised from /home/icb/daniel.strobl/miniconda3/envs/sc-tutorial/lib/python3.7/site-packages/numba/typing/templates.py:475\n",
      "This error is usually caused by passing an argument of a type that is unsupported by the named function.\n",
      "[1] During: resolving callee type: Function(<function unique at 0x7f52a00d3268>)\n",
      "[2] During: typing of call at /home/icb/daniel.strobl/miniconda3/envs/sc-tutorial/lib/python3.7/site-packages/mnnpy/utils.py (105)\n",
      "\n",
      "\n",
      "File \"../../../../../../../../../home/icb/daniel.strobl/miniconda3/envs/sc-tutorial/lib/python3.7/site-packages/mnnpy/utils.py\", line 105:\n",
      "def compute_correction(data1, data2, mnn1, mnn2, data2_or_raw2, sigma):\n",
      "    <source elided>\n",
      "    vect = data1[mnn1] - data2[mnn2]\n",
      "    mnn_index, mnn_count = np.unique(mnn2, return_counts=True)\n",
      "    ^\n",
      "\n",
      "  @jit(float32[:, :](float32[:, :], float32[:, :], int32[:], int32[:], float32[:, :], float32))\n",
      "/home/icb/daniel.strobl/miniconda3/envs/sc-tutorial/lib/python3.7/site-packages/mnnpy/utils.py:102: NumbaWarning: \n",
      "Compilation is falling back to object mode WITHOUT looplifting enabled because Function \"compute_correction\" failed type inference due to: cannot determine Numba type of <class 'numba.dispatcher.LiftedLoop'>\n",
      "\n",
      "File \"../../../../../../../../../home/icb/daniel.strobl/miniconda3/envs/sc-tutorial/lib/python3.7/site-packages/mnnpy/utils.py\", line 107:\n",
      "def compute_correction(data1, data2, mnn1, mnn2, data2_or_raw2, sigma):\n",
      "    <source elided>\n",
      "    vect_reduced = np.zeros((data2.shape[0], vect.shape[1]), dtype=np.float32)\n",
      "    for index, ve in zip(mnn2, vect):\n",
      "    ^\n",
      "\n",
      "  @jit(float32[:, :](float32[:, :], float32[:, :], int32[:], int32[:], float32[:, :], float32))\n",
      "/home/icb/daniel.strobl/miniconda3/envs/sc-tutorial/lib/python3.7/site-packages/numba/compiler.py:742: NumbaWarning: Function \"compute_correction\" was compiled in object mode without forceobj=True, but has lifted loops.\n",
      "\n",
      "File \"../../../../../../../../../home/icb/daniel.strobl/miniconda3/envs/sc-tutorial/lib/python3.7/site-packages/mnnpy/utils.py\", line 103:\n",
      "@jit(float32[:, :](float32[:, :], float32[:, :], int32[:], int32[:], float32[:, :], float32))\n",
      "def compute_correction(data1, data2, mnn1, mnn2, data2_or_raw2, sigma):\n",
      "^\n",
      "\n",
      "  self.func_ir.loc))\n",
      "/home/icb/daniel.strobl/miniconda3/envs/sc-tutorial/lib/python3.7/site-packages/numba/compiler.py:751: NumbaDeprecationWarning: \n",
      "Fall-back from the nopython compilation path to the object mode compilation path has been detected, this is deprecated behaviour.\n",
      "\n",
      "For more information visit http://numba.pydata.org/numba-doc/latest/reference/deprecation.html#deprecation-of-object-mode-fall-back-behaviour-when-using-jit\n",
      "\n",
      "File \"../../../../../../../../../home/icb/daniel.strobl/miniconda3/envs/sc-tutorial/lib/python3.7/site-packages/mnnpy/utils.py\", line 103:\n",
      "@jit(float32[:, :](float32[:, :], float32[:, :], int32[:], int32[:], float32[:, :], float32))\n",
      "def compute_correction(data1, data2, mnn1, mnn2, data2_or_raw2, sigma):\n",
      "^\n",
      "\n",
      "  warnings.warn(errors.NumbaDeprecationWarning(msg, self.func_ir.loc))\n",
      "/home/icb/daniel.strobl/miniconda3/envs/sc-tutorial/lib/python3.7/site-packages/mnnpy/utils.py:199: NumbaWarning: \n",
      "Compilation is falling back to object mode WITH looplifting enabled because Function \"adjust_s_variance\" failed type inference due to: Untyped global name 'sq_dist_to_line': cannot determine Numba type of <class 'numba.ir.UndefinedType'>\n",
      "\n",
      "File \"../../../../../../../../../home/icb/daniel.strobl/miniconda3/envs/sc-tutorial/lib/python3.7/site-packages/mnnpy/utils.py\", line 209:\n",
      "def adjust_s_variance(data1, data2, curcell, curvect, sigma):\n",
      "    <source elided>\n",
      "        sameproj = np.dot(grad, samecell)\n",
      "        samedist = sq_dist_to_line(curcell, grad, samecell)\n",
      "        ^\n",
      "\n",
      "  @jit(float32(float32[:, :], float32[:, :], float32[:], float32[:], float32), nogil=True)\n",
      "/home/icb/daniel.strobl/miniconda3/envs/sc-tutorial/lib/python3.7/site-packages/mnnpy/utils.py:199: NumbaWarning: \n",
      "Compilation is falling back to object mode WITHOUT looplifting enabled because Function \"adjust_s_variance\" failed type inference due to: cannot determine Numba type of <class 'numba.dispatcher.LiftedLoop'>\n",
      "\n",
      "File \"../../../../../../../../../home/icb/daniel.strobl/miniconda3/envs/sc-tutorial/lib/python3.7/site-packages/mnnpy/utils.py\", line 207:\n",
      "def adjust_s_variance(data1, data2, curcell, curvect, sigma):\n",
      "    <source elided>\n",
      "    totalprob2 = 0.\n",
      "    for samecell in data2:\n",
      "    ^\n",
      "\n",
      "  @jit(float32(float32[:, :], float32[:, :], float32[:], float32[:], float32), nogil=True)\n",
      "/home/icb/daniel.strobl/miniconda3/envs/sc-tutorial/lib/python3.7/site-packages/numba/compiler.py:742: NumbaWarning: Function \"adjust_s_variance\" was compiled in object mode without forceobj=True, but has lifted loops.\n",
      "\n",
      "File \"../../../../../../../../../home/icb/daniel.strobl/miniconda3/envs/sc-tutorial/lib/python3.7/site-packages/mnnpy/utils.py\", line 200:\n",
      "@jit(float32(float32[:, :], float32[:, :], float32[:], float32[:], float32), nogil=True)\n",
      "def adjust_s_variance(data1, data2, curcell, curvect, sigma):\n",
      "^\n",
      "\n",
      "  self.func_ir.loc))\n",
      "/home/icb/daniel.strobl/miniconda3/envs/sc-tutorial/lib/python3.7/site-packages/numba/compiler.py:751: NumbaDeprecationWarning: \n",
      "Fall-back from the nopython compilation path to the object mode compilation path has been detected, this is deprecated behaviour.\n",
      "\n",
      "For more information visit http://numba.pydata.org/numba-doc/latest/reference/deprecation.html#deprecation-of-object-mode-fall-back-behaviour-when-using-jit\n",
      "\n",
      "File \"../../../../../../../../../home/icb/daniel.strobl/miniconda3/envs/sc-tutorial/lib/python3.7/site-packages/mnnpy/utils.py\", line 200:\n",
      "@jit(float32(float32[:, :], float32[:, :], float32[:], float32[:], float32), nogil=True)\n",
      "def adjust_s_variance(data1, data2, curcell, curvect, sigma):\n",
      "^\n",
      "\n",
      "  warnings.warn(errors.NumbaDeprecationWarning(msg, self.func_ir.loc))\n",
      "/home/icb/daniel.strobl/miniconda3/envs/sc-tutorial/lib/python3.7/site-packages/mnnpy/utils.py:199: NumbaWarning: Code running in object mode won't allow parallel execution despite nogil=True.\n",
      "  @jit(float32(float32[:, :], float32[:, :], float32[:], float32[:], float32), nogil=True)\n",
      "/home/icb/daniel.strobl/miniconda3/envs/sc-tutorial/lib/python3.7/site-packages/mnnpy/utils.py:238: NumbaPerformanceWarning: np.dot() is faster on contiguous arrays, called on (array(float32, 1d, C), array(float32, 1d, A))\n",
      "  scale = np.dot(working, grad)\n"
     ]
    },
    {
     "name": "stdout",
     "output_type": "stream",
     "text": [
      "Performing cosine normalization...\n"
     ]
    },
    {
     "name": "stderr",
     "output_type": "stream",
     "text": [
      "/home/icb/daniel.strobl/miniconda3/envs/sc-tutorial/lib/python3.7/site-packages/mnnpy/utils.py:14: NumbaWarning: \n",
      "Compilation is falling back to object mode WITH looplifting enabled because Function \"l2_norm\" failed type inference due to: Invalid use of Function(<function norm at 0x7f52a011f6a8>) with argument(s) of type(s): (axis=Literal[int](1), x=array(float32, 2d, A))\n",
      " * parameterized\n",
      "In definition 0:\n",
      "    TypeError: norm_impl() got an unexpected keyword argument 'x'\n",
      "    raised from /home/icb/daniel.strobl/miniconda3/envs/sc-tutorial/lib/python3.7/site-packages/numba/typing/templates.py:475\n",
      "In definition 1:\n",
      "    TypeError: norm_impl() got an unexpected keyword argument 'x'\n",
      "    raised from /home/icb/daniel.strobl/miniconda3/envs/sc-tutorial/lib/python3.7/site-packages/numba/typing/templates.py:475\n",
      "This error is usually caused by passing an argument of a type that is unsupported by the named function.\n",
      "[1] During: resolving callee type: Function(<function norm at 0x7f52a011f6a8>)\n",
      "[2] During: typing of call at /home/icb/daniel.strobl/miniconda3/envs/sc-tutorial/lib/python3.7/site-packages/mnnpy/utils.py (16)\n",
      "\n",
      "\n",
      "File \"../../../../../../../../../home/icb/daniel.strobl/miniconda3/envs/sc-tutorial/lib/python3.7/site-packages/mnnpy/utils.py\", line 16:\n",
      "def l2_norm(in_matrix):\n",
      "    return np.linalg.norm(x=in_matrix, axis=1)\n",
      "    ^\n",
      "\n",
      "  @jit(float32[:](float32[:, :]), nogil=True)\n",
      "/home/icb/daniel.strobl/miniconda3/envs/sc-tutorial/lib/python3.7/site-packages/numba/compiler.py:742: NumbaWarning: Function \"l2_norm\" was compiled in object mode without forceobj=True.\n",
      "\n",
      "File \"../../../../../../../../../home/icb/daniel.strobl/miniconda3/envs/sc-tutorial/lib/python3.7/site-packages/mnnpy/utils.py\", line 15:\n",
      "@jit(float32[:](float32[:, :]), nogil=True)\n",
      "def l2_norm(in_matrix):\n",
      "^\n",
      "\n",
      "  self.func_ir.loc))\n",
      "/home/icb/daniel.strobl/miniconda3/envs/sc-tutorial/lib/python3.7/site-packages/numba/compiler.py:751: NumbaDeprecationWarning: \n",
      "Fall-back from the nopython compilation path to the object mode compilation path has been detected, this is deprecated behaviour.\n",
      "\n",
      "For more information visit http://numba.pydata.org/numba-doc/latest/reference/deprecation.html#deprecation-of-object-mode-fall-back-behaviour-when-using-jit\n",
      "\n",
      "File \"../../../../../../../../../home/icb/daniel.strobl/miniconda3/envs/sc-tutorial/lib/python3.7/site-packages/mnnpy/utils.py\", line 15:\n",
      "@jit(float32[:](float32[:, :]), nogil=True)\n",
      "def l2_norm(in_matrix):\n",
      "^\n",
      "\n",
      "  warnings.warn(errors.NumbaDeprecationWarning(msg, self.func_ir.loc))\n",
      "/home/icb/daniel.strobl/miniconda3/envs/sc-tutorial/lib/python3.7/site-packages/mnnpy/utils.py:14: NumbaWarning: Code running in object mode won't allow parallel execution despite nogil=True.\n",
      "  @jit(float32[:](float32[:, :]), nogil=True)\n",
      "/home/icb/daniel.strobl/miniconda3/envs/sc-tutorial/lib/python3.7/site-packages/mnnpy/utils.py:14: NumbaWarning: \n",
      "Compilation is falling back to object mode WITH looplifting enabled because Function \"l2_norm\" failed type inference due to: Invalid use of Function(<function norm at 0x7f52a011f6a8>) with argument(s) of type(s): (axis=Literal[int](1), x=array(float32, 2d, A))\n",
      " * parameterized\n",
      "In definition 0:\n",
      "    TypeError: norm_impl() got an unexpected keyword argument 'x'\n",
      "    raised from /home/icb/daniel.strobl/miniconda3/envs/sc-tutorial/lib/python3.7/site-packages/numba/typing/templates.py:475\n",
      "In definition 1:\n",
      "    TypeError: norm_impl() got an unexpected keyword argument 'x'\n",
      "    raised from /home/icb/daniel.strobl/miniconda3/envs/sc-tutorial/lib/python3.7/site-packages/numba/typing/templates.py:475\n",
      "This error is usually caused by passing an argument of a type that is unsupported by the named function.\n",
      "[1] During: resolving callee type: Function(<function norm at 0x7f52a011f6a8>)\n",
      "[2] During: typing of call at /home/icb/daniel.strobl/miniconda3/envs/sc-tutorial/lib/python3.7/site-packages/mnnpy/utils.py (16)\n",
      "\n",
      "\n",
      "File \"../../../../../../../../../home/icb/daniel.strobl/miniconda3/envs/sc-tutorial/lib/python3.7/site-packages/mnnpy/utils.py\", line 16:\n",
      "def l2_norm(in_matrix):\n",
      "    return np.linalg.norm(x=in_matrix, axis=1)\n",
      "    ^\n",
      "\n",
      "  @jit(float32[:](float32[:, :]), nogil=True)\n",
      "/home/icb/daniel.strobl/miniconda3/envs/sc-tutorial/lib/python3.7/site-packages/numba/compiler.py:742: NumbaWarning: Function \"l2_norm\" was compiled in object mode without forceobj=True.\n",
      "\n",
      "File \"../../../../../../../../../home/icb/daniel.strobl/miniconda3/envs/sc-tutorial/lib/python3.7/site-packages/mnnpy/utils.py\", line 15:\n",
      "@jit(float32[:](float32[:, :]), nogil=True)\n",
      "def l2_norm(in_matrix):\n",
      "^\n",
      "\n",
      "  self.func_ir.loc))\n",
      "/home/icb/daniel.strobl/miniconda3/envs/sc-tutorial/lib/python3.7/site-packages/numba/compiler.py:751: NumbaDeprecationWarning: \n",
      "Fall-back from the nopython compilation path to the object mode compilation path has been detected, this is deprecated behaviour.\n",
      "\n",
      "For more information visit http://numba.pydata.org/numba-doc/latest/reference/deprecation.html#deprecation-of-object-mode-fall-back-behaviour-when-using-jit\n",
      "\n",
      "File \"../../../../../../../../../home/icb/daniel.strobl/miniconda3/envs/sc-tutorial/lib/python3.7/site-packages/mnnpy/utils.py\", line 15:\n",
      "@jit(float32[:](float32[:, :]), nogil=True)\n",
      "def l2_norm(in_matrix):\n",
      "^\n",
      "\n",
      "  warnings.warn(errors.NumbaDeprecationWarning(msg, self.func_ir.loc))\n",
      "/home/icb/daniel.strobl/miniconda3/envs/sc-tutorial/lib/python3.7/site-packages/mnnpy/utils.py:14: NumbaWarning: Code running in object mode won't allow parallel execution despite nogil=True.\n",
      "  @jit(float32[:](float32[:, :]), nogil=True)\n"
     ]
    },
    {
     "name": "stdout",
     "output_type": "stream",
     "text": [
      "Starting MNN correct iteration. Reference batch: 0\n",
      "Step 1 of 1: processing batch 1\n",
      "  Looking for MNNs...\n"
     ]
    },
    {
     "name": "stderr",
     "output_type": "stream",
     "text": [
      "/home/icb/daniel.strobl/miniconda3/envs/sc-tutorial/lib/python3.7/site-packages/mnnpy/utils.py:88: NumbaWarning: \n",
      "Compilation is falling back to object mode WITHOUT looplifting enabled because Function \"find_mutual_nn\" failed type inference due to: non-precise type pyobject\n",
      "[1] During: typing of argument at /home/icb/daniel.strobl/miniconda3/envs/sc-tutorial/lib/python3.7/site-packages/mnnpy/utils.py (94)\n",
      "\n",
      "File \"../../../../../../../../../home/icb/daniel.strobl/miniconda3/envs/sc-tutorial/lib/python3.7/site-packages/mnnpy/utils.py\", line 94:\n",
      "def find_mutual_nn(data1, data2, k1, k2, n_jobs):\n",
      "    <source elided>\n",
      "    mutual_2 = []\n",
      "    for index_2 in range(data2.shape[0]):\n",
      "    ^\n",
      "\n",
      "  @jit((float32[:, :], float32[:, :], int8, int8, int8))\n",
      "/home/icb/daniel.strobl/miniconda3/envs/sc-tutorial/lib/python3.7/site-packages/numba/compiler.py:742: NumbaWarning: Function \"find_mutual_nn\" was compiled in object mode without forceobj=True.\n",
      "\n",
      "File \"../../../../../../../../../home/icb/daniel.strobl/miniconda3/envs/sc-tutorial/lib/python3.7/site-packages/mnnpy/utils.py\", line 94:\n",
      "def find_mutual_nn(data1, data2, k1, k2, n_jobs):\n",
      "    <source elided>\n",
      "    mutual_2 = []\n",
      "    for index_2 in range(data2.shape[0]):\n",
      "    ^\n",
      "\n",
      "  self.func_ir.loc))\n",
      "/home/icb/daniel.strobl/miniconda3/envs/sc-tutorial/lib/python3.7/site-packages/numba/compiler.py:751: NumbaDeprecationWarning: \n",
      "Fall-back from the nopython compilation path to the object mode compilation path has been detected, this is deprecated behaviour.\n",
      "\n",
      "For more information visit http://numba.pydata.org/numba-doc/latest/reference/deprecation.html#deprecation-of-object-mode-fall-back-behaviour-when-using-jit\n",
      "\n",
      "File \"../../../../../../../../../home/icb/daniel.strobl/miniconda3/envs/sc-tutorial/lib/python3.7/site-packages/mnnpy/utils.py\", line 94:\n",
      "def find_mutual_nn(data1, data2, k1, k2, n_jobs):\n",
      "    <source elided>\n",
      "    mutual_2 = []\n",
      "    for index_2 in range(data2.shape[0]):\n",
      "    ^\n",
      "\n",
      "  warnings.warn(errors.NumbaDeprecationWarning(msg, self.func_ir.loc))\n"
     ]
    },
    {
     "name": "stdout",
     "output_type": "stream",
     "text": [
      "  Computing correction vectors...\n"
     ]
    },
    {
     "name": "stderr",
     "output_type": "stream",
     "text": [
      "/home/icb/daniel.strobl/miniconda3/envs/sc-tutorial/lib/python3.7/site-packages/numba/ir_utils.py:1959: NumbaPendingDeprecationWarning: \n",
      "Encountered the use of a type that is scheduled for deprecation: type 'reflected list' found for argument 'mnn2' of function 'compute_correction'.\n",
      "\n",
      "For more information visit http://numba.pydata.org/numba-doc/latest/reference/deprecation.html#deprecation-of-reflection-for-list-and-set-types\n",
      "\n",
      "File \"../../../../../../../../../home/icb/daniel.strobl/miniconda3/envs/sc-tutorial/lib/python3.7/site-packages/mnnpy/utils.py\", line 107:\n",
      "def compute_correction(data1, data2, mnn1, mnn2, data2_or_raw2, sigma):\n",
      "    <source elided>\n",
      "    vect_reduced = np.zeros((data2.shape[0], vect.shape[1]), dtype=np.float32)\n",
      "    for index, ve in zip(mnn2, vect):\n",
      "    ^\n",
      "\n",
      "  warnings.warn(NumbaPendingDeprecationWarning(msg, loc=loc))\n",
      "/home/icb/daniel.strobl/miniconda3/envs/sc-tutorial/lib/python3.7/site-packages/mnnpy/utils.py:102: NumbaWarning: \n",
      "Compilation is falling back to object mode WITHOUT looplifting enabled because Function compute_correction failed at nopython mode lowering due to: iterating over 2D array\n",
      "\n",
      "File \"../../../../../../../../../home/icb/daniel.strobl/miniconda3/envs/sc-tutorial/lib/python3.7/site-packages/mnnpy/utils.py\", line 107:\n",
      "def compute_correction(data1, data2, mnn1, mnn2, data2_or_raw2, sigma):\n",
      "    <source elided>\n",
      "    vect_reduced = np.zeros((data2.shape[0], vect.shape[1]), dtype=np.float32)\n",
      "    for index, ve in zip(mnn2, vect):\n",
      "    ^\n",
      "\n",
      "[1] During: lowering \"$78.2 = iternext(value=$phi78.1)\" at /home/icb/daniel.strobl/miniconda3/envs/sc-tutorial/lib/python3.7/site-packages/mnnpy/utils.py (107)\n",
      "  @jit(float32[:, :](float32[:, :], float32[:, :], int32[:], int32[:], float32[:, :], float32))\n",
      "/home/icb/daniel.strobl/miniconda3/envs/sc-tutorial/lib/python3.7/site-packages/numba/compiler.py:742: NumbaWarning: Function \"compute_correction\" was compiled in object mode without forceobj=True.\n",
      "\n",
      "File \"../../../../../../../../../home/icb/daniel.strobl/miniconda3/envs/sc-tutorial/lib/python3.7/site-packages/mnnpy/utils.py\", line 107:\n",
      "def compute_correction(data1, data2, mnn1, mnn2, data2_or_raw2, sigma):\n",
      "    <source elided>\n",
      "    vect_reduced = np.zeros((data2.shape[0], vect.shape[1]), dtype=np.float32)\n",
      "    for index, ve in zip(mnn2, vect):\n",
      "    ^\n",
      "\n",
      "  self.func_ir.loc))\n",
      "/home/icb/daniel.strobl/miniconda3/envs/sc-tutorial/lib/python3.7/site-packages/numba/compiler.py:751: NumbaDeprecationWarning: \n",
      "Fall-back from the nopython compilation path to the object mode compilation path has been detected, this is deprecated behaviour.\n",
      "\n",
      "For more information visit http://numba.pydata.org/numba-doc/latest/reference/deprecation.html#deprecation-of-object-mode-fall-back-behaviour-when-using-jit\n",
      "\n",
      "File \"../../../../../../../../../home/icb/daniel.strobl/miniconda3/envs/sc-tutorial/lib/python3.7/site-packages/mnnpy/utils.py\", line 107:\n",
      "def compute_correction(data1, data2, mnn1, mnn2, data2_or_raw2, sigma):\n",
      "    <source elided>\n",
      "    vect_reduced = np.zeros((data2.shape[0], vect.shape[1]), dtype=np.float32)\n",
      "    for index, ve in zip(mnn2, vect):\n",
      "    ^\n",
      "\n",
      "  warnings.warn(errors.NumbaDeprecationWarning(msg, self.func_ir.loc))\n"
     ]
    },
    {
     "name": "stdout",
     "output_type": "stream",
     "text": [
      "  Adjusting variance...\n",
      "  Applying correction...\n",
      "MNN correction complete. Gathering output...\n",
      "Packing AnnData object...\n",
      "Done.\n",
      "memory usage:715.0 MB\n",
      "runtime: 28.0 s\n"
     ]
    }
   ],
   "source": [
    "methods['mnn'] = scIB.metrics.measureTM(scIB.integration.runMNN, adata, batch)"
   ]
  },
  {
   "cell_type": "code",
   "execution_count": 15,
   "metadata": {},
   "outputs": [
    {
     "name": "stdout",
     "output_type": "stream",
     "text": [
      "memory usage:95.0 MB\n",
      "runtime: 10.0 s\n"
     ]
    }
   ],
   "source": [
    "methods['harmony'] = scIB.metrics.measureTM(scIB.integration.runHarmony, adata, batch)"
   ]
  },
  {
   "cell_type": "raw",
   "metadata": {},
   "source": [
    "#conos = scIB.metrics.measureTM(scIB.integration.runConos, adata, 'sample')"
   ]
  },
  {
   "cell_type": "code",
   "execution_count": 16,
   "metadata": {},
   "outputs": [
    {
     "name": "stdout",
     "output_type": "stream",
     "text": [
      "memory usage:1711.0 MB\n",
      "runtime: 46.0 s\n"
     ]
    }
   ],
   "source": [
    "methods['seurat'] = scIB.metrics.measureTM(scIB.integration.runSeurat, adata, batch)"
   ]
  },
  {
   "cell_type": "markdown",
   "metadata": {},
   "source": [
    "## Runtime analysis\n",
    "Here, we compare the runtimes and the memory usage of all tested methods"
   ]
  },
  {
   "cell_type": "code",
   "execution_count": 23,
   "metadata": {},
   "outputs": [],
   "source": [
    "mem = pd.Series()\n",
    "time = pd.Series()\n",
    "for i in methods.keys():\n",
    "    mem[i]=methods[i][0]\n",
    "    time[i]=methods[i][1]"
   ]
  },
  {
   "cell_type": "code",
   "execution_count": 29,
   "metadata": {},
   "outputs": [
    {
     "data": {
      "image/png": "[encoded data removed]",
      "text/plain": [
       "<Figure size 432x288 with 1 Axes>"
      ]
     },
     "metadata": {
      "needs_background": "light"
     },
     "output_type": "display_data"
    }
   ],
   "source": [
    "mem.plot.bar()\n",
    "plt.show()"
   ]
  },
  {
   "cell_type": "markdown",
   "metadata": {},
   "source": [
    "## Quantifying quality of Integration"
   ]
  },
  {
   "cell_type": "markdown",
   "metadata": {},
   "source": [
    "### Silhouette score"
   ]
  },
  {
   "cell_type": "code",
   "execution_count": null,
   "metadata": {},
   "outputs": [],
   "source": []
  }
 ],
 "metadata": {
  "kernelspec": {
   "display_name": "Python 3",
   "language": "python",
   "name": "python3"
  },
  "language_info": {
   "codemirror_mode": {
    "name": "ipython",
    "version": 3
   },
   "file_extension": ".py",
   "mimetype": "text/x-python",
   "name": "python",
   "nbconvert_exporter": "python",
   "pygments_lexer": "ipython3",
   "version": "3.7.3"
  }
 },
 "nbformat": 4,
 "nbformat_minor": 4
}
