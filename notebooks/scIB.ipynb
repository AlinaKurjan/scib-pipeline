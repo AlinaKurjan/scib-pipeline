{
 "cells": [
  {
   "cell_type": "markdown",
   "metadata": {},
   "source": [
    "# Benchmarking of integration methods\n",
    "This notebook provides a short overview on how to use the scIB module and performs a short analysis of tabula muris thymus and bone marrow data."
   ]
  },
  {
   "cell_type": "code",
   "execution_count": 1,
   "metadata": {},
   "outputs": [],
   "source": [
    "import scanpy as sc\n",
    "import scIB\n",
    "import pandas as pd\n",
    "import matplotlib.pyplot as plt\n",
    "import numpy as np"
   ]
  },
  {
   "cell_type": "code",
   "execution_count": 2,
   "metadata": {},
   "outputs": [],
   "source": [
    "import warnings\n",
    "warnings.filterwarnings('ignore')"
   ]
  },
  {
   "cell_type": "code",
   "execution_count": 3,
   "metadata": {},
   "outputs": [],
   "source": [
    "import copy"
   ]
  },
  {
   "cell_type": "code",
   "execution_count": 4,
   "metadata": {},
   "outputs": [],
   "source": [
    "%matplotlib inline"
   ]
  },
  {
   "cell_type": "code",
   "execution_count": 5,
   "metadata": {},
   "outputs": [],
   "source": [
    "file = '../merged_adata.h5ad'\n",
    "batch = 'method'\n",
    "hvg = None"
   ]
  },
  {
   "cell_type": "markdown",
   "metadata": {},
   "source": [
    "## Read the data"
   ]
  },
  {
   "cell_type": "code",
   "execution_count": 6,
   "metadata": {},
   "outputs": [],
   "source": [
    "adata = sc.read(file)"
   ]
  },
  {
   "cell_type": "code",
   "execution_count": 7,
   "metadata": {},
   "outputs": [],
   "source": [
    "methods = {}\n",
    "adatas = {}"
   ]
  },
  {
   "cell_type": "markdown",
   "metadata": {},
   "source": [
    "## Run the integration methods\n",
    "The functions for the integration methods are in `scIB.integration`. Generally, the methods expect an anndata object and the batch key as an input. The runtime and memory usage of the functions are meaured using `scIB.metrics.measureTM`. This function returns memory usage in MB, runtime in s and the output of the tested function."
   ]
  },
  {
   "cell_type": "code",
   "execution_count": 8,
   "metadata": {},
   "outputs": [
    {
     "name": "stdout",
     "output_type": "stream",
     "text": [
      "Found 12914 genes among all datasets\n",
      "[[0.         0.53899291]\n",
      " [0.         0.        ]]\n",
      "Processing datasets (0, 1)\n",
      "memory usage:6695.0 MB\n",
      "runtime: 65.0 s\n"
     ]
    }
   ],
   "source": [
    "methods['scanorama'] = scIB.metrics.measureTM(scIB.integration.runScanorama, adata, batch)"
   ]
  },
  {
   "cell_type": "code",
   "execution_count": 9,
   "metadata": {},
   "outputs": [],
   "source": [
    "methods['scanorama'][2][0][1].obsm['X_pca'] = methods['scanorama'][2][0][0]\n",
    "adatas['scanorama'] = methods['scanorama'][2][0][1]\n",
    "sc.pp.neighbors(adatas['scanorama'])"
   ]
  },
  {
   "cell_type": "code",
   "execution_count": 10,
   "metadata": {},
   "outputs": [
    {
     "name": "stdout",
     "output_type": "stream",
     "text": [
      "memory usage:731.0 MB\n",
      "runtime: 5.0 s\n"
     ]
    }
   ],
   "source": [
    "methods['bbknn'] = scIB.metrics.measureTM(scIB.integration.runBBKNN, adata, batch)"
   ]
  },
  {
   "cell_type": "code",
   "execution_count": 11,
   "metadata": {},
   "outputs": [],
   "source": [
    "#scgen = scIB.metrics.measureTM(scIB.integration.runScGen, adata, batch = batch)"
   ]
  },
  {
   "cell_type": "code",
   "execution_count": null,
   "metadata": {},
   "outputs": [
    {
     "name": "stdout",
     "output_type": "stream",
     "text": [
      "Performing cosine normalization...\n",
      "Starting MNN correct iteration. Reference batch: 0\n",
      "Step 1 of 1: processing batch 1\n",
      "  Looking for MNNs...\n"
     ]
    }
   ],
   "source": [
    "methods['mnn'] = scIB.metrics.measureTM(scIB.integration.runMNN, adata, batch)"
   ]
  },
  {
   "cell_type": "code",
   "execution_count": null,
   "metadata": {},
   "outputs": [],
   "source": [
    "adatas['mnn'] = methods['mnn'][2][0]\n",
    "sc.tl.pca(adatas['mnn'], svd_solver='arpack')\n",
    "sc.pp.neighbors(adatas['mnn'])"
   ]
  },
  {
   "cell_type": "code",
   "execution_count": null,
   "metadata": {},
   "outputs": [],
   "source": [
    "methods['harmony'] = scIB.metrics.measureTM(scIB.integration.runHarmony, adata, batch)"
   ]
  },
  {
   "cell_type": "code",
   "execution_count": null,
   "metadata": {},
   "outputs": [],
   "source": [
    "adatas['harmony'] = copy.deepcopy(adata)\n",
    "adatas['harmony'].obsm['X_pca'] = methods['harmony'][2][0]\n",
    "sc.pp.neighbors(adatas['harmony'])"
   ]
  },
  {
   "cell_type": "raw",
   "metadata": {},
   "source": [
    "#conos = scIB.metrics.measureTM(scIB.integration.runConos, adata, 'sample')"
   ]
  },
  {
   "cell_type": "code",
   "execution_count": null,
   "metadata": {},
   "outputs": [],
   "source": [
    "methods['seurat'] = scIB.metrics.measureTM(scIB.integration.runSeurat, adata, batch)"
   ]
  },
  {
   "cell_type": "code",
   "execution_count": null,
   "metadata": {},
   "outputs": [],
   "source": [
    "adatas['seurat'] = methods['seurat'][2][0]\n",
    "sc.tl.pca(adatas['seurat'], svd_solver='arpack')\n",
    "sc.pp.neighbors(adatas['seurat'])"
   ]
  },
  {
   "cell_type": "markdown",
   "metadata": {},
   "source": [
    "## Runtime analysis\n",
    "Here, we compare the runtimes and the memory usage of all tested methods"
   ]
  },
  {
   "cell_type": "code",
   "execution_count": null,
   "metadata": {},
   "outputs": [],
   "source": [
    "mem = pd.Series()\n",
    "time = pd.Series()\n",
    "for i in methods.keys():\n",
    "    mem[i]=methods[i][0]\n",
    "    time[i]=methods[i][1]"
   ]
  },
  {
   "cell_type": "code",
   "execution_count": null,
   "metadata": {},
   "outputs": [],
   "source": [
    "mem.plot.bar()\n",
    "plt.show()"
   ]
  },
  {
   "cell_type": "markdown",
   "metadata": {},
   "source": [
    "## Quantifying quality of Integration"
   ]
  },
  {
   "cell_type": "markdown",
   "metadata": {},
   "source": [
    "### Silhouette score"
   ]
  },
  {
   "cell_type": "code",
   "execution_count": null,
   "metadata": {},
   "outputs": [],
   "source": [
    "sil = pd.Series()\n",
    "for i in adatas.keys():\n",
    "    sil[i] = np.mean(scIB.metrics.silhouette_score(adatas[i], 'method', 'cell_ontology_class')[0])"
   ]
  },
  {
   "cell_type": "code",
   "execution_count": null,
   "metadata": {},
   "outputs": [],
   "source": [
    "sil.plot.bar()"
   ]
  },
  {
   "cell_type": "code",
   "execution_count": null,
   "metadata": {},
   "outputs": [],
   "source": [
    "scIB.metrics.plot_silhouette_score(adatas, verbose=False)\n",
    "plt.show()"
   ]
  },
  {
   "cell_type": "code",
   "execution_count": null,
   "metadata": {},
   "outputs": [],
   "source": [
    "nmi = pd.Series()\n",
    "for i in adatas.keys():\n",
    "    sc.tl.louvain(adatas[i], key_added='louvain_post')\n",
    "    nmi[i]= scIB.metrics.nmi(adatas[i], 'cell_ontology_class', 'louvain_post')"
   ]
  },
  {
   "cell_type": "code",
   "execution_count": null,
   "metadata": {},
   "outputs": [],
   "source": [
    "nmi"
   ]
  }
 ],
 "metadata": {
  "kernelspec": {
   "display_name": "Python 3",
   "language": "python",
   "name": "python3"
  },
  "language_info": {
   "codemirror_mode": {
    "name": "ipython",
    "version": 3
   },
   "file_extension": ".py",
   "mimetype": "text/x-python",
   "name": "python",
   "nbconvert_exporter": "python",
   "pygments_lexer": "ipython3",
   "version": "3.7.3"
  }
 },
 "nbformat": 4,
 "nbformat_minor": 4
}
