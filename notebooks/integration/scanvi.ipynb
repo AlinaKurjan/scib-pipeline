{
 "cells": [
  {
   "cell_type": "code",
   "execution_count": 2,
   "metadata": {},
   "outputs": [
    {
     "name": "stderr",
     "output_type": "stream",
     "text": [
      "[2020-07-29 15:16:39,535] INFO - scvi._settings | Added StreamHandler with custom formatter to 'scvi' logger.\n"
     ]
    }
   ],
   "source": [
    "import scanpy as sc\n",
    "import scvi"
   ]
  },
  {
   "cell_type": "code",
   "execution_count": 45,
   "metadata": {},
   "outputs": [],
   "source": [
    "import scIB"
   ]
  },
  {
   "cell_type": "code",
   "execution_count": 4,
   "metadata": {},
   "outputs": [],
   "source": [
    "import scvi.models"
   ]
  },
  {
   "cell_type": "code",
   "execution_count": 58,
   "metadata": {},
   "outputs": [],
   "source": [
    "adata = sc.read('/storage/groups/ml01/workspace/scIB/simulations_1_1/sim1_1_norm.h5ad')"
   ]
  },
  {
   "cell_type": "code",
   "execution_count": 26,
   "metadata": {},
   "outputs": [],
   "source": [
    "from scvi.dataset import AnnDatasetFromAnnData\n",
    "from sklearn.preprocessing import LabelEncoder"
   ]
  },
  {
   "cell_type": "code",
   "execution_count": 48,
   "metadata": {},
   "outputs": [],
   "source": [
    "import numpy as np"
   ]
  },
  {
   "cell_type": "code",
   "execution_count": 17,
   "metadata": {},
   "outputs": [
    {
     "data": {
      "text/plain": [
       "AnnData object with n_obs × n_vars = 26668 × 18756 \n",
       "    obs: 'barcode', 'batch', 'cell_type', 'cell_type_union', 'channel', 'log_counts', 'marker_gene', 'n_counts', 'n_genes', 'percent_mito', 'sample', 'sample_id', 'sex', 'size_factors', 'study', 'tissue'\n",
       "    var: 'gene_ids-1-1'\n",
       "    layers: 'counts'"
      ]
     },
     "execution_count": 17,
     "metadata": {},
     "output_type": "execute_result"
    }
   ],
   "source": [
    "adata"
   ]
  },
  {
   "cell_type": "code",
   "execution_count": 27,
   "metadata": {},
   "outputs": [],
   "source": [
    "le = LabelEncoder()\n",
    "adata.obs['labels'] = le.fit_transform(adata.obs['cell_type_union'].values)"
   ]
  },
  {
   "cell_type": "code",
   "execution_count": 32,
   "metadata": {},
   "outputs": [
    {
     "name": "stderr",
     "output_type": "stream",
     "text": [
      "[2020-07-29 15:48:49,661] INFO - scvi.dataset.dataset | Remapping batch_indices to [0,N]\n",
      "[2020-07-29 15:48:49,663] INFO - scvi.dataset.dataset | Remapping labels to [0,N]\n",
      "[2020-07-29 15:48:49,823] INFO - scvi.dataset.dataset | Computing the library size for the new data\n",
      "[2020-07-29 15:48:49,995] INFO - scvi.dataset.dataset | Downsampled from 26668 to 26668 cells\n"
     ]
    }
   ],
   "source": [
    "net_adata = AnnDatasetFromAnnData(adata, batch_label='batch', class_label='labels')"
   ]
  },
  {
   "cell_type": "code",
   "execution_count": 37,
   "metadata": {},
   "outputs": [],
   "source": [
    "net_adata.labels = adata.obs['labels']"
   ]
  },
  {
   "cell_type": "code",
   "execution_count": 39,
   "metadata": {},
   "outputs": [
    {
     "data": {
      "text/plain": [
       "107"
      ]
     },
     "execution_count": 39,
     "metadata": {},
     "output_type": "execute_result"
    }
   ],
   "source": [
    "net_adata.n_labels"
   ]
  },
  {
   "cell_type": "code",
   "execution_count": 53,
   "metadata": {},
   "outputs": [],
   "source": [
    "def runScanvi(adata, batch, labels, hvg=None):\n",
    "    # Use non-normalized (count) data for scvi!\n",
    "    # Expects data only on HVGs\n",
    "    \n",
    "    scIB.utils.checkSanity(adata, batch, hvg)\n",
    "\n",
    "    # Check for counts data layer\n",
    "    if 'counts' not in adata.layers:\n",
    "        raise TypeError('Adata does not contain a `counts` layer in `adata.layers[`counts`]`')\n",
    "\n",
    "    from scvi.models import VAE, SCANVI\n",
    "    from scvi.inference import AlternateSemiSupervisedTrainer, SemiSupervisedTrainer\n",
    "    from sklearn.preprocessing import LabelEncoder\n",
    "    from scvi.dataset import AnnDatasetFromAnnData\n",
    "\n",
    "    # Defaults from SCVI github tutorials scanpy_pbmc3k and harmonization\n",
    "    n_epochs=np.min([round((20000/adata.n_obs)*400), 400])\n",
    "    n_latent=30\n",
    "    n_hidden=128\n",
    "    n_layers=2\n",
    "    \n",
    "    net_adata = adata.copy()\n",
    "    net_adata.X = adata.layers['counts']\n",
    "    del net_adata.layers['counts']\n",
    "    # Ensure that the raw counts are not accidentally used\n",
    "    del net_adata.raw # Note that this only works from anndata 0.7\n",
    "\n",
    "    # Define batch indices\n",
    "    le = LabelEncoder()\n",
    "    net_adata.obs['batch_indices'] = le.fit_transform(net_adata.obs[batch].values)\n",
    "    net_adata.obs['labels'] = le.fit_transform(net_adata.obs[labels].values)\n",
    "\n",
    "    net_adata = AnnDatasetFromAnnData(net_adata)\n",
    "    net_adata.labels = adata.obs['labels']\n",
    "\n",
    "    scanvi = SCANVI(\n",
    "        net_adata.nb_genes,\n",
    "        reconstruction_loss='nb',\n",
    "        n_batch=net_adata.n_batches,\n",
    "        n_labels=net_adata.n_labels,\n",
    "        n_layers=n_layers,\n",
    "        n_latent=n_latent,\n",
    "        n_hidden=n_hidden,\n",
    "    )\n",
    "\n",
    "    trainer = SemiSupervisedTrainer(\n",
    "        scanvi,\n",
    "        net_adata,\n",
    "        train_size=1.0,\n",
    "        use_cuda=False,\n",
    "    )\n",
    "\n",
    "    trainer.train(n_epochs=5)\n",
    "\n",
    "    full = trainer.create_posterior(trainer.model, net_adata, indices=np.arange(len(net_adata)))\n",
    "    latent, _, _ = full.sequential().get_latent()\n",
    "\n",
    "    adata.obsm['X_emb'] = latent\n",
    "\n",
    "    return adata\n"
   ]
  },
  {
   "cell_type": "code",
   "execution_count": 55,
   "metadata": {},
   "outputs": [
    {
     "name": "stderr",
     "output_type": "stream",
     "text": [
      "[2020-07-29 16:08:39,334] INFO - scvi.dataset.dataset | Remapping batch_indices to [0,N]\n",
      "[2020-07-29 16:08:39,336] INFO - scvi.dataset.dataset | Remapping labels to [0,N]\n",
      "[2020-07-29 16:08:39,495] INFO - scvi.dataset.dataset | Computing the library size for the new data\n",
      "[2020-07-29 16:08:39,646] INFO - scvi.dataset.dataset | Downsampled from 26668 to 26668 cells\n"
     ]
    },
    {
     "name": "stdout",
     "output_type": "stream",
     "text": [
      "training: 100%|██████████| 5/5 [05:37<00:00, 67.49s/it]\n"
     ]
    }
   ],
   "source": [
    "integrated = runScanvi(adata, 'batch', 'cell_type_union')"
   ]
  },
  {
   "cell_type": "code",
   "execution_count": 57,
   "metadata": {},
   "outputs": [
    {
     "data": {
      "text/plain": [
       "AnnData object with n_obs × n_vars = 26668 × 18756 \n",
       "    obs: 'barcode', 'batch', 'cell_type', 'cell_type_union', 'channel', 'log_counts', 'marker_gene', 'n_counts', 'n_genes', 'percent_mito', 'sample', 'sample_id', 'sex', 'size_factors', 'study', 'tissue', 'labels'\n",
       "    var: 'gene_ids-1-1'\n",
       "    obsm: 'X_emb'\n",
       "    layers: 'counts'"
      ]
     },
     "execution_count": 57,
     "metadata": {},
     "output_type": "execute_result"
    }
   ],
   "source": [
    "integrated"
   ]
  }
 ],
 "metadata": {
  "kernelspec": {
   "display_name": "Python 3",
   "language": "python",
   "name": "python3"
  },
  "language_info": {
   "codemirror_mode": {
    "name": "ipython",
    "version": 3
   },
   "file_extension": ".py",
   "mimetype": "text/x-python",
   "name": "python",
   "nbconvert_exporter": "python",
   "pygments_lexer": "ipython3",
   "version": "3.7.3"
  }
 },
 "nbformat": 4,
 "nbformat_minor": 2
}
