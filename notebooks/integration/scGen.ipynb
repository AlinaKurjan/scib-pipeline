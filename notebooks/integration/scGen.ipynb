{
 "cells": [
  {
   "cell_type": "code",
   "execution_count": 1,
   "metadata": {},
   "outputs": [
    {
     "name": "stderr",
     "output_type": "stream",
     "text": [
      "Using TensorFlow backend.\n"
     ]
    }
   ],
   "source": [
    "import scanpy as sc\n",
    "import scgen"
   ]
  },
  {
   "cell_type": "code",
   "execution_count": 2,
   "metadata": {},
   "outputs": [],
   "source": [
    "data_dir = '../data/'"
   ]
  },
  {
   "cell_type": "code",
   "execution_count": 3,
   "metadata": {},
   "outputs": [],
   "source": [
    "adata = sc.read(data_dir+'processed/merged_adata.h5ad')"
   ]
  },
  {
   "cell_type": "code",
   "execution_count": 4,
   "metadata": {},
   "outputs": [],
   "source": [
    "def scgen_batch_correction(adata, cell_type='louvain', batch='method', model_path='./models/batch', epochs=100):\n",
    "    if 'cell_type' not in adata.obs:\n",
    "        adata.obs['cell_type'] = adata.obs[cell_type].copy()\n",
    "    if 'batch' not in adata.obs:\n",
    "        adata.obs['batch'] = adata.obs[batch].copy()\n",
    "    \n",
    "    # TODO: reduce data\n",
    "        \n",
    "    network = scgen.VAEArith(x_dimension= adata.shape[1], model_path=model_path)\n",
    "    network.train(train_data=adata, n_epochs=epochs)\n",
    "    corrected_adata = scgen.batch_removal(network, adata)\n",
    "    network.sess.close()\n",
    "    return corrected_adata"
   ]
  },
  {
   "cell_type": "code",
   "execution_count": null,
   "metadata": {},
   "outputs": [],
   "source": [
    "corrected_adata = scgen_batch_correction(adata, epochs=1, model_path=data_dir+\"/models/method\")"
   ]
  }
 ],
 "metadata": {
  "kernelspec": {
   "display_name": "Python 3",
   "language": "python",
   "name": "python3"
  },
  "language_info": {
   "codemirror_mode": {
    "name": "ipython",
    "version": 3
   },
   "file_extension": ".py",
   "mimetype": "text/x-python",
   "name": "python",
   "nbconvert_exporter": "python",
   "pygments_lexer": "ipython3",
   "version": "3.7.3"
  }
 },
 "nbformat": 4,
 "nbformat_minor": 2
}
