{
 "cells": [
  {
   "cell_type": "code",
   "execution_count": 1,
   "metadata": {},
   "outputs": [],
   "source": [
    "import scIB"
   ]
  },
  {
   "cell_type": "code",
   "execution_count": 2,
   "metadata": {},
   "outputs": [],
   "source": [
    "import scanpy as sc"
   ]
  },
  {
   "cell_type": "code",
   "execution_count": 3,
   "metadata": {},
   "outputs": [
    {
     "name": "stderr",
     "output_type": "stream",
     "text": [
      "/home/icb/daniel.strobl/miniconda3/envs/sc-tutorial/lib/python3.7/site-packages/tensorflow/python/framework/dtypes.py:516: FutureWarning: Passing (type, 1) or '1type' as a synonym of type is deprecated; in a future version of numpy, it will be understood as (type, (1,)) / '(1,)type'.\n",
      "  _np_qint8 = np.dtype([(\"qint8\", np.int8, 1)])\n",
      "/home/icb/daniel.strobl/miniconda3/envs/sc-tutorial/lib/python3.7/site-packages/tensorflow/python/framework/dtypes.py:517: FutureWarning: Passing (type, 1) or '1type' as a synonym of type is deprecated; in a future version of numpy, it will be understood as (type, (1,)) / '(1,)type'.\n",
      "  _np_quint8 = np.dtype([(\"quint8\", np.uint8, 1)])\n",
      "/home/icb/daniel.strobl/miniconda3/envs/sc-tutorial/lib/python3.7/site-packages/tensorflow/python/framework/dtypes.py:518: FutureWarning: Passing (type, 1) or '1type' as a synonym of type is deprecated; in a future version of numpy, it will be understood as (type, (1,)) / '(1,)type'.\n",
      "  _np_qint16 = np.dtype([(\"qint16\", np.int16, 1)])\n",
      "/home/icb/daniel.strobl/miniconda3/envs/sc-tutorial/lib/python3.7/site-packages/tensorflow/python/framework/dtypes.py:519: FutureWarning: Passing (type, 1) or '1type' as a synonym of type is deprecated; in a future version of numpy, it will be understood as (type, (1,)) / '(1,)type'.\n",
      "  _np_quint16 = np.dtype([(\"quint16\", np.uint16, 1)])\n",
      "/home/icb/daniel.strobl/miniconda3/envs/sc-tutorial/lib/python3.7/site-packages/tensorflow/python/framework/dtypes.py:520: FutureWarning: Passing (type, 1) or '1type' as a synonym of type is deprecated; in a future version of numpy, it will be understood as (type, (1,)) / '(1,)type'.\n",
      "  _np_qint32 = np.dtype([(\"qint32\", np.int32, 1)])\n",
      "/home/icb/daniel.strobl/miniconda3/envs/sc-tutorial/lib/python3.7/site-packages/tensorflow/python/framework/dtypes.py:525: FutureWarning: Passing (type, 1) or '1type' as a synonym of type is deprecated; in a future version of numpy, it will be understood as (type, (1,)) / '(1,)type'.\n",
      "  np_resource = np.dtype([(\"resource\", np.ubyte, 1)])\n",
      "/home/icb/daniel.strobl/miniconda3/envs/sc-tutorial/lib/python3.7/site-packages/tensorboard/compat/tensorflow_stub/dtypes.py:541: FutureWarning: Passing (type, 1) or '1type' as a synonym of type is deprecated; in a future version of numpy, it will be understood as (type, (1,)) / '(1,)type'.\n",
      "  _np_qint8 = np.dtype([(\"qint8\", np.int8, 1)])\n",
      "/home/icb/daniel.strobl/miniconda3/envs/sc-tutorial/lib/python3.7/site-packages/tensorboard/compat/tensorflow_stub/dtypes.py:542: FutureWarning: Passing (type, 1) or '1type' as a synonym of type is deprecated; in a future version of numpy, it will be understood as (type, (1,)) / '(1,)type'.\n",
      "  _np_quint8 = np.dtype([(\"quint8\", np.uint8, 1)])\n",
      "/home/icb/daniel.strobl/miniconda3/envs/sc-tutorial/lib/python3.7/site-packages/tensorboard/compat/tensorflow_stub/dtypes.py:543: FutureWarning: Passing (type, 1) or '1type' as a synonym of type is deprecated; in a future version of numpy, it will be understood as (type, (1,)) / '(1,)type'.\n",
      "  _np_qint16 = np.dtype([(\"qint16\", np.int16, 1)])\n",
      "/home/icb/daniel.strobl/miniconda3/envs/sc-tutorial/lib/python3.7/site-packages/tensorboard/compat/tensorflow_stub/dtypes.py:544: FutureWarning: Passing (type, 1) or '1type' as a synonym of type is deprecated; in a future version of numpy, it will be understood as (type, (1,)) / '(1,)type'.\n",
      "  _np_quint16 = np.dtype([(\"quint16\", np.uint16, 1)])\n",
      "/home/icb/daniel.strobl/miniconda3/envs/sc-tutorial/lib/python3.7/site-packages/tensorboard/compat/tensorflow_stub/dtypes.py:545: FutureWarning: Passing (type, 1) or '1type' as a synonym of type is deprecated; in a future version of numpy, it will be understood as (type, (1,)) / '(1,)type'.\n",
      "  _np_qint32 = np.dtype([(\"qint32\", np.int32, 1)])\n",
      "/home/icb/daniel.strobl/miniconda3/envs/sc-tutorial/lib/python3.7/site-packages/tensorboard/compat/tensorflow_stub/dtypes.py:550: FutureWarning: Passing (type, 1) or '1type' as a synonym of type is deprecated; in a future version of numpy, it will be understood as (type, (1,)) / '(1,)type'.\n",
      "  np_resource = np.dtype([(\"resource\", np.ubyte, 1)])\n"
     ]
    }
   ],
   "source": [
    "import SAUCIE"
   ]
  },
  {
   "cell_type": "code",
   "execution_count": 4,
   "metadata": {},
   "outputs": [],
   "source": [
    "adata = sc.read('/storage/groups/ml01/workspace/group.daniela/small_test.h5ad')"
   ]
  },
  {
   "cell_type": "code",
   "execution_count": 5,
   "metadata": {},
   "outputs": [
    {
     "name": "stderr",
     "output_type": "stream",
     "text": [
      "WARNING: Logging before flag parsing goes to stderr.\n",
      "W0728 23:29:22.220131 140542310590272 deprecation_wrapper.py:119] From /home/icb/daniel.strobl/miniconda3/envs/sc-tutorial/lib/python3.7/site-packages/SAUCIE/model.py:61: The name tf.placeholder is deprecated. Please use tf.compat.v1.placeholder instead.\n",
      "\n",
      "W0728 23:29:22.244321 140542310590272 deprecation.py:323] From /home/icb/daniel.strobl/miniconda3/envs/sc-tutorial/lib/python3.7/site-packages/SAUCIE/model.py:152: dense (from tensorflow.python.layers.core) is deprecated and will be removed in a future version.\n",
      "Instructions for updating:\n",
      "Use keras.layers.dense instead.\n",
      "W0728 23:29:22.247167 140542310590272 deprecation.py:506] From /home/icb/daniel.strobl/miniconda3/envs/sc-tutorial/lib/python3.7/site-packages/tensorflow/python/ops/init_ops.py:1251: calling VarianceScaling.__init__ (from tensorflow.python.ops.init_ops) with dtype is deprecated and will be removed in a future version.\n",
      "Instructions for updating:\n",
      "Call initializer instance with the dtype argument instead of passing it to the constructor\n",
      "W0728 23:29:22.547419 140542310590272 deprecation_wrapper.py:119] From /home/icb/daniel.strobl/miniconda3/envs/sc-tutorial/lib/python3.7/site-packages/SAUCIE/model.py:183: The name tf.variable_scope is deprecated. Please use tf.compat.v1.variable_scope instead.\n",
      "\n",
      "W0728 23:29:22.551739 140542310590272 deprecation_wrapper.py:119] From /home/icb/daniel.strobl/miniconda3/envs/sc-tutorial/lib/python3.7/site-packages/SAUCIE/model.py:215: The name tf.add_to_collection is deprecated. Please use tf.compat.v1.add_to_collection instead.\n",
      "\n",
      "W0728 23:29:22.552556 140542310590272 deprecation_wrapper.py:119] From /home/icb/daniel.strobl/miniconda3/envs/sc-tutorial/lib/python3.7/site-packages/SAUCIE/model.py:326: The name tf.get_collection is deprecated. Please use tf.compat.v1.get_collection instead.\n",
      "\n",
      "W0728 23:29:22.555126 140542310590272 deprecation_wrapper.py:119] From /home/icb/daniel.strobl/miniconda3/envs/sc-tutorial/lib/python3.7/site-packages/SAUCIE/model.py:202: The name tf.train.AdamOptimizer is deprecated. Please use tf.compat.v1.train.AdamOptimizer instead.\n",
      "\n",
      "W0728 23:29:22.573478 140542310590272 deprecation.py:323] From /home/icb/daniel.strobl/miniconda3/envs/sc-tutorial/lib/python3.7/site-packages/tensorflow/python/ops/math_grad.py:1205: add_dispatch_support.<locals>.wrapper (from tensorflow.python.ops.array_ops) is deprecated and will be removed in a future version.\n",
      "Instructions for updating:\n",
      "Use tf.where in 2.0, which has the same broadcast rule as np.where\n",
      "W0728 23:29:22.811841 140542310590272 deprecation_wrapper.py:119] From /home/icb/daniel.strobl/miniconda3/envs/sc-tutorial/lib/python3.7/site-packages/SAUCIE/model.py:84: The name tf.GPUOptions is deprecated. Please use tf.compat.v1.GPUOptions instead.\n",
      "\n",
      "W0728 23:29:22.853749 140542310590272 deprecation_wrapper.py:119] From /home/icb/daniel.strobl/miniconda3/envs/sc-tutorial/lib/python3.7/site-packages/SAUCIE/model.py:357: The name tf.train.Saver is deprecated. Please use tf.compat.v1.train.Saver instead.\n",
      "\n"
     ]
    }
   ],
   "source": [
    "saucie = SAUCIE.SAUCIE(adata.X.shape[1])"
   ]
  },
  {
   "cell_type": "code",
   "execution_count": 8,
   "metadata": {},
   "outputs": [],
   "source": [
    "loader = SAUCIE.Loader(adata.X.todense(), labels=adata.obs.batch)"
   ]
  },
  {
   "cell_type": "code",
   "execution_count": 9,
   "metadata": {},
   "outputs": [],
   "source": [
    "saucie.train(loader, steps=1000)"
   ]
  },
  {
   "cell_type": "code",
   "execution_count": 10,
   "metadata": {},
   "outputs": [],
   "source": [
    "embedding = saucie.get_embedding(loader)"
   ]
  },
  {
   "cell_type": "code",
   "execution_count": 11,
   "metadata": {},
   "outputs": [],
   "source": [
    "corrected = saucie.get_reconstruction(loader)"
   ]
  },
  {
   "cell_type": "code",
   "execution_count": 24,
   "metadata": {},
   "outputs": [
    {
     "data": {
      "text/plain": [
       "18756"
      ]
     },
     "execution_count": 24,
     "metadata": {},
     "output_type": "execute_result"
    }
   ],
   "source": [
    "adata.X."
   ]
  },
  {
   "cell_type": "code",
   "execution_count": 13,
   "metadata": {},
   "outputs": [
    {
     "data": {
      "text/plain": [
       "array([[ 1.4411391e-01,  1.3693626e-01,  1.0125791e-01, ...,\n",
       "        -5.4079918e-03, -5.1650219e-05, -3.0549180e-03],\n",
       "       [ 7.1466756e-01,  4.8899522e-01,  2.2739609e-01, ...,\n",
       "        -1.2173108e-03,  1.6469061e-03, -5.6891181e-03],\n",
       "       [ 9.6726060e-02,  1.2923352e-01,  6.9325790e-02, ...,\n",
       "        -6.3553429e-03, -1.7275382e-04, -2.2908954e-03],\n",
       "       ...,\n",
       "       [ 1.4580421e-02,  3.3932630e-02,  1.0987879e-02, ...,\n",
       "        -3.6518222e-03, -1.6534433e-03, -3.4409692e-04],\n",
       "       [ 1.1402022e-02,  1.8314252e-02, -3.9667897e-03, ...,\n",
       "        -4.8570298e-03, -6.2483782e-03,  1.5465447e-03],\n",
       "       [ 2.2926980e-01,  1.4970228e-01,  8.1797235e-02, ...,\n",
       "        -3.2591159e-03, -9.0518501e-05, -1.8374717e-03]], dtype=float32)"
      ]
     },
     "execution_count": 13,
     "metadata": {},
     "output_type": "execute_result"
    }
   ],
   "source": [
    "corrected[0]"
   ]
  },
  {
   "cell_type": "code",
   "execution_count": 16,
   "metadata": {},
   "outputs": [],
   "source": [
    "saucie=None"
   ]
  },
  {
   "cell_type": "code",
   "execution_count": 5,
   "metadata": {},
   "outputs": [],
   "source": [
    "def runSaucie(adata, batch):\n",
    "    saucie = SAUCIE.SAUCIE(adata.X.shape[1])\n",
    "    loader = SAUCIE.Loader(adata.X.todense(), labels=adata.obs[batch])\n",
    "    saucie.train(loader, steps=1000)\n",
    "    adata.obsm['X_emb'] = saucie.get_embedding(loader)[0]\n",
    "    adata.X = saucie.get_reconstruction(loader)[0]\n",
    "    \n",
    "    return adata\n",
    "    \n",
    "    "
   ]
  },
  {
   "cell_type": "code",
   "execution_count": 6,
   "metadata": {},
   "outputs": [
    {
     "name": "stderr",
     "output_type": "stream",
     "text": [
      "WARNING: Logging before flag parsing goes to stderr.\n",
      "W0728 23:39:16.862504 140640784353088 deprecation_wrapper.py:119] From /home/icb/daniel.strobl/miniconda3/envs/sc-tutorial/lib/python3.7/site-packages/SAUCIE/model.py:61: The name tf.placeholder is deprecated. Please use tf.compat.v1.placeholder instead.\n",
      "\n",
      "W0728 23:39:16.885444 140640784353088 deprecation.py:323] From /home/icb/daniel.strobl/miniconda3/envs/sc-tutorial/lib/python3.7/site-packages/SAUCIE/model.py:152: dense (from tensorflow.python.layers.core) is deprecated and will be removed in a future version.\n",
      "Instructions for updating:\n",
      "Use keras.layers.dense instead.\n",
      "W0728 23:39:16.888095 140640784353088 deprecation.py:506] From /home/icb/daniel.strobl/miniconda3/envs/sc-tutorial/lib/python3.7/site-packages/tensorflow/python/ops/init_ops.py:1251: calling VarianceScaling.__init__ (from tensorflow.python.ops.init_ops) with dtype is deprecated and will be removed in a future version.\n",
      "Instructions for updating:\n",
      "Call initializer instance with the dtype argument instead of passing it to the constructor\n",
      "W0728 23:39:17.188020 140640784353088 deprecation_wrapper.py:119] From /home/icb/daniel.strobl/miniconda3/envs/sc-tutorial/lib/python3.7/site-packages/SAUCIE/model.py:183: The name tf.variable_scope is deprecated. Please use tf.compat.v1.variable_scope instead.\n",
      "\n",
      "W0728 23:39:17.192272 140640784353088 deprecation_wrapper.py:119] From /home/icb/daniel.strobl/miniconda3/envs/sc-tutorial/lib/python3.7/site-packages/SAUCIE/model.py:215: The name tf.add_to_collection is deprecated. Please use tf.compat.v1.add_to_collection instead.\n",
      "\n",
      "W0728 23:39:17.193098 140640784353088 deprecation_wrapper.py:119] From /home/icb/daniel.strobl/miniconda3/envs/sc-tutorial/lib/python3.7/site-packages/SAUCIE/model.py:326: The name tf.get_collection is deprecated. Please use tf.compat.v1.get_collection instead.\n",
      "\n",
      "W0728 23:39:17.195698 140640784353088 deprecation_wrapper.py:119] From /home/icb/daniel.strobl/miniconda3/envs/sc-tutorial/lib/python3.7/site-packages/SAUCIE/model.py:202: The name tf.train.AdamOptimizer is deprecated. Please use tf.compat.v1.train.AdamOptimizer instead.\n",
      "\n",
      "W0728 23:39:17.214583 140640784353088 deprecation.py:323] From /home/icb/daniel.strobl/miniconda3/envs/sc-tutorial/lib/python3.7/site-packages/tensorflow/python/ops/math_grad.py:1205: add_dispatch_support.<locals>.wrapper (from tensorflow.python.ops.array_ops) is deprecated and will be removed in a future version.\n",
      "Instructions for updating:\n",
      "Use tf.where in 2.0, which has the same broadcast rule as np.where\n",
      "W0728 23:39:17.482819 140640784353088 deprecation_wrapper.py:119] From /home/icb/daniel.strobl/miniconda3/envs/sc-tutorial/lib/python3.7/site-packages/SAUCIE/model.py:84: The name tf.GPUOptions is deprecated. Please use tf.compat.v1.GPUOptions instead.\n",
      "\n",
      "W0728 23:39:17.528767 140640784353088 deprecation_wrapper.py:119] From /home/icb/daniel.strobl/miniconda3/envs/sc-tutorial/lib/python3.7/site-packages/SAUCIE/model.py:357: The name tf.train.Saver is deprecated. Please use tf.compat.v1.train.Saver instead.\n",
      "\n"
     ]
    },
    {
     "data": {
      "text/plain": [
       "AnnData object with n_obs × n_vars = 26668 × 18756 \n",
       "    obs: 'barcode', 'batch', 'cell_type', 'cell_type_union', 'channel', 'log_counts', 'marker_gene', 'n_counts', 'n_genes', 'percent_mito', 'sample', 'sample_id', 'sex', 'size_factors', 'study', 'tissue'\n",
       "    var: 'gene_ids-1-1'\n",
       "    obsm: 'X_emb'\n",
       "    layers: 'counts'"
      ]
     },
     "execution_count": 6,
     "metadata": {},
     "output_type": "execute_result"
    }
   ],
   "source": [
    "runSaucie(adata, 'batch')"
   ]
  }
 ],
 "metadata": {
  "kernelspec": {
   "display_name": "Python 3",
   "language": "python",
   "name": "python3"
  },
  "language_info": {
   "codemirror_mode": {
    "name": "ipython",
    "version": 3
   },
   "file_extension": ".py",
   "mimetype": "text/x-python",
   "name": "python",
   "nbconvert_exporter": "python",
   "pygments_lexer": "ipython3",
   "version": "3.7.3"
  }
 },
 "nbformat": 4,
 "nbformat_minor": 2
}
