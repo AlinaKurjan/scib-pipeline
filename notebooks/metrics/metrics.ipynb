{
 "cells": [
  {
   "cell_type": "code",
   "execution_count": 1,
   "metadata": {},
   "outputs": [],
   "source": [
    "import scanpy as sc\n",
    "import matplotlib.pyplot as plt\n",
    "import scIB"
   ]
  },
  {
   "cell_type": "code",
   "execution_count": 2,
   "metadata": {},
   "outputs": [],
   "source": [
    "from importlib import reload\n",
    "scIB = reload(scIB)"
   ]
  },
  {
   "cell_type": "code",
   "execution_count": 3,
   "metadata": {},
   "outputs": [],
   "source": [
    "default_fig_size = (8,8)\n",
    "plt.rcParams['figure.figsize'] = default_fig_size"
   ]
  },
  {
   "cell_type": "code",
   "execution_count": 4,
   "metadata": {},
   "outputs": [],
   "source": [
    "data_dir = 'data/'\n",
    "integrated = {}\n",
    "integrated['seurat']= sc.read(data_dir+'processed/04seurat_integrated_noprior.h5ad')\n",
    "integrated['scanorama']= sc.read(data_dir+'processed/04scanorama_NOprior.h5ad')\n",
    "integrated['scGen']= sc.read(data_dir+'processed/04scGen_noprior.h5ad')\n",
    "integrated['mnn'] = sc.read(data_dir+'processed/04mnn.h5ad')\n",
    "integrated['harmony'] = sc.read(data_dir+'processed/04harmony.h5ad')"
   ]
  },
  {
   "cell_type": "code",
   "execution_count": null,
   "metadata": {},
   "outputs": [
    {
     "name": "stdout",
     "output_type": "stream",
     "text": [
      "seurat\n",
      "WARNING: You’re trying to run this on 3329 dimensions of `.X`, if you really want this, set `use_rep='X'`.\n",
      "         Falling back to preprocessing with `sc.pp.pca` and default params.\n",
      "scanorama\n",
      "scGen\n"
     ]
    }
   ],
   "source": [
    "for tool_name, adata in integrated.items():\n",
    "    print(tool_name)\n",
    "    scIB.preprocessing.reduce_data(adata, hvg=False, pca=False, umap=True)\n",
    "    sc.tl.louvain(adata, resolution=0.5, key_added='louvain_post')"
   ]
  },
  {
   "cell_type": "code",
   "execution_count": null,
   "metadata": {},
   "outputs": [],
   "source": [
    "scIB.metrics.plot_silhouette_score(integrated, verbose=False)"
   ]
  },
  {
   "cell_type": "code",
   "execution_count": null,
   "metadata": {},
   "outputs": [],
   "source": [
    "scIB.metrics.plot_cluster_overlap(integrated, group1='louvain', group2='louvain_post')"
   ]
  },
  {
   "cell_type": "code",
   "execution_count": null,
   "metadata": {},
   "outputs": [],
   "source": [
    "for tool_name, adata in integrated.items():\n",
    "    print(tool_name)\n",
    "    print(scIB.metrics.nmi(adata, group1='louvain', group2='louvain_post'))"
   ]
  },
  {
   "cell_type": "code",
   "execution_count": null,
   "metadata": {},
   "outputs": [],
   "source": []
  }
 ],
 "metadata": {
  "kernelspec": {
   "display_name": "Python 3",
   "language": "python",
   "name": "python3"
  },
  "language_info": {
   "codemirror_mode": {
    "name": "ipython",
    "version": 3
   },
   "file_extension": ".py",
   "mimetype": "text/x-python",
   "name": "python",
   "nbconvert_exporter": "python",
   "pygments_lexer": "ipython3",
   "version": "3.7.3"
  }
 },
 "nbformat": 4,
 "nbformat_minor": 2
}
