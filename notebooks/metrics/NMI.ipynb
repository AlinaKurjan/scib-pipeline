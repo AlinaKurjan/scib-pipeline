{
 "cells": [
  {
   "cell_type": "code",
   "execution_count": 1,
   "metadata": {},
   "outputs": [],
   "source": [
    "import scanpy as sc\n",
    "import tempfile\n",
    "import subprocess\n",
    "import os"
   ]
  },
  {
   "cell_type": "code",
   "execution_count": 4,
   "metadata": {},
   "outputs": [],
   "source": [
    "data_dir = '../data/'"
   ]
  },
  {
   "cell_type": "code",
   "execution_count": 5,
   "metadata": {},
   "outputs": [],
   "source": [
    "adata = sc.read(data_dir+'processed/04seurat_integrated_noprior.h5ad')"
   ]
  },
  {
   "cell_type": "code",
   "execution_count": 6,
   "metadata": {},
   "outputs": [
    {
     "name": "stdout",
     "output_type": "stream",
     "text": [
      "WARNING: You’re trying to run this on 3329 dimensions of `.X`, if you really want this, set `use_rep='X'`.\n",
      "         Falling back to preprocessing with `sc.pp.pca` and default params.\n"
     ]
    }
   ],
   "source": [
    "sc.pp.neighbors(adata)\n",
    "sc.tl.louvain(adata, resolution=0.5, key_added='louvain_post')"
   ]
  },
  {
   "cell_type": "markdown",
   "metadata": {},
   "source": [
    "## Trying code"
   ]
  },
  {
   "cell_type": "code",
   "execution_count": 9,
   "metadata": {},
   "outputs": [],
   "source": [
    "group1 = 'louvain'\n",
    "group2 = 'louvain_post'\n",
    "group_name = group1"
   ]
  },
  {
   "cell_type": "code",
   "execution_count": 29,
   "metadata": {},
   "outputs": [],
   "source": [
    "clusters = {label:[] for label in adata.obs[group_name].unique()}\n",
    "for i, label in enumerate(adata.obs[group_name]):\n",
    "    clusters[label].append(str(i))"
   ]
  },
  {
   "cell_type": "code",
   "execution_count": 36,
   "metadata": {},
   "outputs": [],
   "source": [
    "def write_tmp_labels(adata, group_name='louvain'):\n",
    "    \n",
    "    clusters = {label:[] for label in adata.obs[group_name].unique()}\n",
    "    for i, label in enumerate(adata.obs[group_name]):\n",
    "        clusters[label].append(str(i))\n",
    "    \n",
    "    f = tempfile.NamedTemporaryFile(delete=False)\n",
    "    f.write(str.encode('\\n'.join([' '.join(c) for c in clusters.values()])))\n",
    "    f.close()\n",
    "    \n",
    "    return f.name"
   ]
  },
  {
   "cell_type": "code",
   "execution_count": 37,
   "metadata": {},
   "outputs": [],
   "source": [
    "group1_file = write_tmp_labels(adata, group1)\n",
    "group2_file = write_tmp_labels(adata, group2)"
   ]
  },
  {
   "cell_type": "raw",
   "metadata": {},
   "source": [
    "onmi_dir = \"../../Overlapping-NMI/\"\n",
    "nmi_call = subprocess.Popen(\n",
    "    [onmi_dir+\"onmi\", group1_file, group2_file], \n",
    "    stdout=subprocess.PIPE, \n",
    "    stderr=subprocess.STDOUT)\n",
    "stdout, stderr = nmi_call.communicate()\n",
    "print(stderr)\n",
    "nmi_out = stdout.decode()\n",
    "nmi_out"
   ]
  },
  {
   "cell_type": "raw",
   "metadata": {},
   "source": [
    "nmi_split = [x.strip().split('\\t') for x in nmi_out.split('\\n')]"
   ]
  },
  {
   "cell_type": "raw",
   "metadata": {},
   "source": [
    "nmi_max = nmi_split[0][1]\n",
    "nmi_max"
   ]
  },
  {
   "cell_type": "code",
   "execution_count": 44,
   "metadata": {},
   "outputs": [
    {
     "data": {
      "text/plain": [
       "'/home/m/muellermi/Dokumente/Master2/Masterpraktikum/mutual3'"
      ]
     },
     "execution_count": 44,
     "metadata": {},
     "output_type": "execute_result"
    }
   ],
   "source": [
    "os.path.abspath(\"../../../mutual3/\")"
   ]
  },
  {
   "cell_type": "code",
   "execution_count": 50,
   "metadata": {},
   "outputs": [
    {
     "name": "stdout",
     "output_type": "stream",
     "text": [
      "None\n"
     ]
    },
    {
     "data": {
      "text/plain": [
       "'0.574931'"
      ]
     },
     "execution_count": 50,
     "metadata": {},
     "output_type": "execute_result"
    }
   ],
   "source": [
    "nmi_dir = \"../../../mutual3/\"\n",
    "nmi_call = subprocess.Popen(\n",
    "    [nmi_dir+\"mutual\", group1_file, group2_file], \n",
    "    stdout=subprocess.PIPE, \n",
    "    stderr=subprocess.STDOUT)\n",
    "stdout, stderr = nmi_call.communicate()\n",
    "print(stderr)\n",
    "nmi_out = stdout.decode()\n",
    "nmi_out.strip().split('\\t')[1]"
   ]
  },
  {
   "cell_type": "markdown",
   "metadata": {},
   "source": [
    "## Finished Function"
   ]
  },
  {
   "cell_type": "code",
   "execution_count": 15,
   "metadata": {},
   "outputs": [],
   "source": [
    "def write_tmp_labels(adata, group_name):\n",
    "    label_map = {}\n",
    "    i = 1\n",
    "    for label in adata.obs[group_name].unique():\n",
    "        label_map[label] = i\n",
    "        i += 1\n",
    "    labels = '\\n'.join([str(label_map[name]) for name in adata.obs[group_name]])\n",
    "    with tempfile.NamedTemporaryFile(delete=False) as f:\n",
    "        f.write(str.encode(labels))\n",
    "        filename = f.name\n",
    "    return filename"
   ]
  },
  {
   "cell_type": "code",
   "execution_count": 19,
   "metadata": {},
   "outputs": [],
   "source": [
    "def nmi(adata, group1, group2, onmi_dir=\"../../Overlapping-NMI/\"):\n",
    "    group1_file = write_tmp_labels(adata, group1)\n",
    "    group2_file = write_tmp_labels(adata, group2)\n",
    "    \n",
    "    nmi_call = subprocess.Popen(\n",
    "        [onmi_dir+\"onmi\", group1_file, group2_file], \n",
    "        stdout=subprocess.PIPE, \n",
    "        stderr=subprocess.STDOUT)\n",
    "    \n",
    "    stdout, stderr = nmi_call.communicate()\n",
    "    print(stderr)\n",
    "    nmi_out = stdout.decode()\n",
    "    print(nmi_out)\n",
    "    \n",
    "    nmi_split = [x.strip().split('\\t') for x in nmi_out.split('\\n')]\n",
    "    nmi_max = nmi_split[0][1]\n",
    "    \n",
    "    # remove temporary files\n",
    "    os.remove(group1_file)\n",
    "    os.remove(group2_file)\n",
    "    return nmi_max"
   ]
  },
  {
   "cell_type": "code",
   "execution_count": 20,
   "metadata": {},
   "outputs": [
    {
     "name": "stdout",
     "output_type": "stream",
     "text": [
      "None\n",
      "NMI<Max>:\t0.998732\n",
      "Other measures:\n",
      "  lfkNMI:\t0.998732\n",
      "  NMI<Sum>:\t0.998732\n",
      "\n"
     ]
    },
    {
     "data": {
      "text/plain": [
       "'0.998732'"
      ]
     },
     "execution_count": 20,
     "metadata": {},
     "output_type": "execute_result"
    }
   ],
   "source": [
    "nmi(adata, group1='louvain', group2='louvain_post', onmi_dir=\"../../Overlapping-NMI/\")"
   ]
  }
 ],
 "metadata": {
  "kernelspec": {
   "display_name": "Python 3",
   "language": "python",
   "name": "python3"
  },
  "language_info": {
   "codemirror_mode": {
    "name": "ipython",
    "version": 3
   },
   "file_extension": ".py",
   "mimetype": "text/x-python",
   "name": "python",
   "nbconvert_exporter": "python",
   "pygments_lexer": "ipython3",
   "version": "3.7.3"
  }
 },
 "nbformat": 4,
 "nbformat_minor": 2
}
