{
 "cells": [
  {
   "cell_type": "code",
   "execution_count": 1,
   "metadata": {},
   "outputs": [
    {
     "name": "stdout",
     "output_type": "stream",
     "text": [
      "scanpy==1.4.3 anndata==0.6.20 umap==0.3.9 numpy==1.16.4 scipy==1.2.1 pandas==0.24.2 scikit-learn==0.21.2 statsmodels==0.9.0 python-igraph==0.7.1 louvain==0.6.1 \n"
     ]
    }
   ],
   "source": [
    "import numpy as np\n",
    "import pandas as pd\n",
    "import matplotlib.pyplot as plt\n",
    "import seaborn as sns\n",
    "import scanpy as sc\n",
    "import scIB\n",
    "\n",
    "sc.settings.verbosity = 3             # verbosity: errors (0), warnings (1), info (2), hints (3)\n",
    "sc.logging.print_versions()"
   ]
  },
  {
   "cell_type": "code",
   "execution_count": 2,
   "metadata": {},
   "outputs": [],
   "source": [
    "import rpy2.rinterface_lib.callbacks\n",
    "import logging\n",
    "rpy2.rinterface_lib.callbacks.logger.setLevel(logging.ERROR) # Ignore R warning messages\n",
    "import rpy2.robjects as ro\n",
    "import anndata2ri"
   ]
  },
  {
   "cell_type": "code",
   "execution_count": 8,
   "metadata": {},
   "outputs": [],
   "source": [
    "ro.numpy2ri.activate()"
   ]
  },
  {
   "cell_type": "code",
   "execution_count": 3,
   "metadata": {},
   "outputs": [],
   "source": [
    "plt.rcParams['figure.figsize'] = 8,8"
   ]
  },
  {
   "cell_type": "code",
   "execution_count": 76,
   "metadata": {},
   "outputs": [],
   "source": [
    "adata_pre = sc.read(\"/home/st/strobld/Masterinternship_2019/group_malte/tabula_muris/data/processed/merged_adata.h5ad\")"
   ]
  },
  {
   "cell_type": "code",
   "execution_count": 77,
   "metadata": {},
   "outputs": [],
   "source": [
    "adata_p = \"../scanorama.h5ad\"\n",
    "adata_post = sc.read(adata_p, cache=True)"
   ]
  },
  {
   "cell_type": "code",
   "execution_count": 31,
   "metadata": {},
   "outputs": [
    {
     "data": {
      "text/html": [
       "\n",
       "        <span>StrVector with 9 elements.</span>\n",
       "        <table>\n",
       "        <tbody>\n",
       "          <tr>\n",
       "          \n",
       "            <td>\n",
       "            'kBET'\n",
       "            </td>\n",
       "          \n",
       "            <td>\n",
       "            'tools'\n",
       "            </td>\n",
       "          \n",
       "            <td>\n",
       "            'stats'\n",
       "            </td>\n",
       "          \n",
       "            <td>\n",
       "            ...\n",
       "            </td>\n",
       "          \n",
       "            <td>\n",
       "            'datasets'\n",
       "            </td>\n",
       "          \n",
       "            <td>\n",
       "            'methods'\n",
       "            </td>\n",
       "          \n",
       "            <td>\n",
       "            'base'\n",
       "            </td>\n",
       "          \n",
       "          </tr>\n",
       "        </tbody>\n",
       "        </table>\n",
       "        "
      ],
      "text/plain": [
       "R object with classes: ('character',) mapped to:\n",
       "['kBET', 'tools', 'stats', 'graphics', ..., 'utils', 'datasets', 'methods', 'base']"
      ]
     },
     "execution_count": 31,
     "metadata": {},
     "output_type": "execute_result"
    }
   ],
   "source": [
    "ro.r(\"library(kBET)\")"
   ]
  },
  {
   "cell_type": "code",
   "execution_count": 78,
   "metadata": {},
   "outputs": [],
   "source": [
    "adata_pre = adata_pre[:500]"
   ]
  },
  {
   "cell_type": "code",
   "execution_count": 79,
   "metadata": {},
   "outputs": [],
   "source": [
    "adata_post = adata_post[:500]"
   ]
  },
  {
   "cell_type": "code",
   "execution_count": 74,
   "metadata": {},
   "outputs": [
    {
     "data": {
      "text/plain": [
       "View of AnnData object with n_obs × n_vars = 100 × 12914 \n",
       "    obs: 'G2M_score', 'S_score', 'barcode', 'batch', 'cell', 'cell_ontology_class', 'log_counts', 'method', 'mt_frac', 'n_counts', 'n_genes', 'phase', 'sID', 'sample', 'size_factors', 'tissue', 'louvain'\n",
       "    var: 'n_cells', 'highly_variable', 'means', 'dispersions', 'dispersions_norm', 'gene_id'\n",
       "    uns: 'batch_sizes', 'cell_ontology_class_colors', 'louvain_colors', 'method_colors', 'neighbors', 'paga', 'pca'\n",
       "    obsm: 'X_pca', 'X_tsne', 'X_umap'\n",
       "    varm: 'PCs'\n",
       "    layers: 'counts'"
      ]
     },
     "execution_count": 74,
     "metadata": {},
     "output_type": "execute_result"
    }
   ],
   "source": [
    "adata_pre"
   ]
  },
  {
   "cell_type": "markdown",
   "metadata": {},
   "source": [
    "## PC Regression"
   ]
  },
  {
   "cell_type": "code",
   "execution_count": 38,
   "metadata": {},
   "outputs": [],
   "source": [
    "anndata2ri.activate()"
   ]
  },
  {
   "cell_type": "code",
   "execution_count": 6,
   "metadata": {},
   "outputs": [],
   "source": [
    "#pca_data = ro.r(\"pca.data <- prcomp(data_mtrx, center=TRUE)\")\n",
    "#pca_data = adata.obsm.X_pca"
   ]
  },
  {
   "cell_type": "code",
   "execution_count": 39,
   "metadata": {},
   "outputs": [],
   "source": [
    "ro.globalenv['data_mtrx'] = adata.X\n",
    "\n",
    "ro.globalenv['pca.data'] = ro.r(\"pca.data <- prcomp(data_mtrx, center=TRUE)\")"
   ]
  },
  {
   "cell_type": "code",
   "execution_count": 22,
   "metadata": {},
   "outputs": [],
   "source": [
    "hvg = adata[:,pd.DataFrame.from_records(sc.pp.highly_variable_genes(adata, n_top_genes=20, inplace=False)).highly_variable]"
   ]
  },
  {
   "cell_type": "code",
   "execution_count": 28,
   "metadata": {},
   "outputs": [],
   "source": [
    "test = hvg[:,0].X"
   ]
  },
  {
   "cell_type": "code",
   "execution_count": 29,
   "metadata": {},
   "outputs": [],
   "source": [
    "ro.globalenv['y'] = test"
   ]
  },
  {
   "cell_type": "code",
   "execution_count": 46,
   "metadata": {},
   "outputs": [
    {
     "data": {
      "text/plain": [
       "20"
      ]
     },
     "execution_count": 46,
     "metadata": {},
     "output_type": "execute_result"
    }
   ],
   "source": [
    "hvg.shape[1]"
   ]
  },
  {
   "cell_type": "code",
   "execution_count": 83,
   "metadata": {},
   "outputs": [],
   "source": [
    "def pcr_hvg(pre, post, n_hvg, batch):\n",
    "    cons = []\n",
    "    for x in pre.obs['batch'].unique():\n",
    "        tmp = pre[pre.obs['batch']==x]\n",
    "        tmp_post = post[post.obs['batch']==x]\n",
    "        \n",
    "        ro.globalenv['tmp'] = tmp.X\n",
    "        ro.globalenv['tmp_post'] = tmp_post.X\n",
    "\n",
    "        ro.globalenv['pca.data'] = ro.r(\"pca.data <- prcomp(tmp, center=TRUE)\")\n",
    "        ro.globalenv['pca_post.data'] = ro.r(\"pca_post.data <- prcomp(tmp_post, center=TRUE)\")\n",
    "        \n",
    "        hvg = pd.DataFrame.from_records(sc.pp.highly_variable_genes(tmp, n_top_genes=n_hvg, inplace=False)).highly_variable\n",
    "        hvg_1 = tmp[:,hvg]\n",
    "        hvg_2 = tmp_post[:,hvg]\n",
    "        pcr_pre_all = []\n",
    "        pcr_post_all = []\n",
    "        summ = 0\n",
    "        for i in range(hvg_1.shape[1]):\n",
    "            ro.globalenv['y_1']= hvg_1[:,i].X\n",
    "            ro.globalenv['y_2']= hvg_2[:,i].X\n",
    "            pcr_pre = ro.r(\"batch.pca <- pcRegression(pca.data, y_1, n_top=50)\")\n",
    "            pcr_post = ro.r(\"batch.pca <- pcRegression(pca_post.data, y_2, n_top=50)\")\n",
    "            pcr_preV = dict(zip(pcr_pre.names, list(pcr_pre)))\n",
    "            pcr_postV = dict(zip(pcr_post.names, list(pcr_post)))\n",
    "            pcr_pre_all.append(pcr_preV['pcRegscale'])\n",
    "            pcr_post_all.append(pcr_postV['pcRegscale'])\n",
    "            print(i)\n",
    "        for i in range(len(pcr_pre_all)):\n",
    "            diff = (pcr_pre_all[i]-pcr_post_all[i])**2\n",
    "            summ = summ + diff\n",
    "        cons.append(summ)\n",
    "    return np.mean(cons)"
   ]
  },
  {
   "cell_type": "code",
   "execution_count": 84,
   "metadata": {},
   "outputs": [
    {
     "name": "stdout",
     "output_type": "stream",
     "text": [
      "0\n",
      "1\n",
      "2\n",
      "3\n",
      "4\n",
      "5\n",
      "6\n",
      "7\n",
      "8\n",
      "9\n"
     ]
    },
    {
     "data": {
      "text/plain": [
       "0.14029181771797983"
      ]
     },
     "execution_count": 84,
     "metadata": {},
     "output_type": "execute_result"
    }
   ],
   "source": [
    "pcr_hvg(adata_pre, adata_post, 10, 'method')"
   ]
  },
  {
   "cell_type": "code",
   "execution_count": 51,
   "metadata": {},
   "outputs": [
    {
     "name": "stdout",
     "output_type": "stream",
     "text": [
      "[0.55645161]\n",
      "[0.71774194]\n",
      "[0.75322581]\n",
      "[0.64516129]\n",
      "[0.73225806]\n",
      "[0.65645161]\n",
      "[0.72258065]\n",
      "[0.72258065]\n",
      "[0.27903226]\n",
      "[0.66935484]\n",
      "[0.87096774]\n",
      "[0.80806452]\n",
      "[0.83709677]\n",
      "[0.65322581]\n",
      "[0.88064516]\n",
      "[0.62741935]\n",
      "[0.32258065]\n",
      "[0.80645161]\n",
      "[0.44677419]\n",
      "[0.81612903]\n"
     ]
    }
   ],
   "source": [
    "pcregscale = []\n",
    "for i in range(hvg.shape[1]):\n",
    "    ro.globalenv['y']= hvg[:,i].X\n",
    "    pcr = ro.r(\"batch.pca <- pcRegression(pca.data, y, n_top=50)\")\n",
    "    pca_regression = dict(zip(pcr.names, list(pcr)))\n",
    "    pcregscale.append(pca_regression['pcRegscale'])\n",
    "    print(pca_regression['pcRegscale'])"
   ]
  },
  {
   "cell_type": "code",
   "execution_count": 47,
   "metadata": {},
   "outputs": [],
   "source": [
    "# ro.r(\"batch.silhouette <- batch_sil(pca.data, batch)\")\n",
    "pcr = ro.r(\"batch.pca <- pcRegression(pca.data, y, n_top=50)\")"
   ]
  },
  {
   "cell_type": "code",
   "execution_count": 48,
   "metadata": {},
   "outputs": [
    {
     "data": {
      "text/plain": [
       "{'maxVar': array([0.8, 0.5, 0.4, 0.3, 0.3, 0.3, 0.3, 0.3, 0.3, 0.2, 0.2, 0.2]),\n",
       " 'PmaxVar': array([1.e-16, 1.e-16, 1.e-16, 1.e-16, 1.e-16, 1.e-16, 1.e-16, 1.e-16,\n",
       "        1.e-16, 1.e-16, 1.e-16, 1.e-16]),\n",
       " 'pcNfrac': array([0.64]),\n",
       " 'pcRegscale': array([0.55645161]),\n",
       " 'maxCorr': array([0.43302997]),\n",
       " 'maxR2': array([0.18751495]),\n",
       " 'msigPC': array([0.98]),\n",
       " 'maxsigPC': array([0.66]),\n",
       " 'R2Var': array([0.00227021]),\n",
       " 'ExplainedVar': array([17.3, 11.1,  7. , ...,  0. ,  0. ,  0. ]),\n",
       " 'r2': array([[3.28967183e-05, 5.32569125e-01, 5.32569125e-01],\n",
       "        [7.94780037e-04, 2.15389036e-03, 2.15389036e-03],\n",
       "        [1.67885196e-04, 1.58566528e-01, 1.58566528e-01],\n",
       "        ...,\n",
       "        [6.29496017e-11, 9.99311184e-01, 9.99311184e-01],\n",
       "        [9.99416180e-09, 9.91320966e-01, 9.91320966e-01],\n",
       "        [1.19416610e-08, 9.90513000e-01, 9.90513000e-01]])}"
      ]
     },
     "execution_count": 48,
     "metadata": {},
     "output_type": "execute_result"
    }
   ],
   "source": [
    "pca_regression = dict(zip(pcr.names, list(pcr)))\n",
    "pca_regression"
   ]
  },
  {
   "cell_type": "code",
   "execution_count": 72,
   "metadata": {},
   "outputs": [
    {
     "data": {
      "text/plain": [
       "array([0.65686275])"
      ]
     },
     "execution_count": 72,
     "metadata": {},
     "output_type": "execute_result"
    }
   ],
   "source": [
    "pca_regression['pcRegscale']"
   ]
  },
  {
   "cell_type": "raw",
   "metadata": {},
   "source": [
    "ro.pandas2ri.deactivate()"
   ]
  }
 ],
 "metadata": {
  "kernelspec": {
   "display_name": "Python (sc-tutorial)",
   "language": "python",
   "name": "sc-tutorial"
  },
  "language_info": {
   "codemirror_mode": {
    "name": "ipython",
    "version": 3
   },
   "file_extension": ".py",
   "mimetype": "text/x-python",
   "name": "python",
   "nbconvert_exporter": "python",
   "pygments_lexer": "ipython3",
   "version": "3.7.3"
  }
 },
 "nbformat": 4,
 "nbformat_minor": 4
}
